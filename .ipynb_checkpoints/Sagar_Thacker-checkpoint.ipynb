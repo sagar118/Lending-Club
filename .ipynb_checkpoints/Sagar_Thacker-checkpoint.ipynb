{
 "cells": [
  {
   "cell_type": "markdown",
   "metadata": {
    "colab_type": "text",
    "id": "KpaRiwPu9Fvv"
   },
   "source": [
    "# Lending Case Study"
   ]
  },
  {
   "cell_type": "code",
   "execution_count": 4,
   "metadata": {
    "colab": {},
    "colab_type": "code",
    "id": "KBjmJ4tu9VF4"
   },
   "outputs": [],
   "source": [
    "# Import necessary libraries\n",
    "import pandas as pd\n",
    "import numpy as np\n",
    "import matplotlib.pyplot as plt\n",
    "%matplotlib inline\n",
    "import seaborn as sns"
   ]
  },
  {
   "cell_type": "code",
   "execution_count": 5,
   "metadata": {
    "colab": {},
    "colab_type": "code",
    "id": "p_n8Q2_Z9XAU"
   },
   "outputs": [],
   "source": [
    "# set_up options\n",
    "pd.set_option('display.max_columns', 60)\n",
    "pd.set_option('display.max_rows', 200)\n",
    "pd.options.display.float_format = '{:.2f}'.format"
   ]
  },
  {
   "cell_type": "code",
   "execution_count": 6,
   "metadata": {
    "colab": {},
    "colab_type": "code",
    "id": "sWoIYmx09jXr"
   },
   "outputs": [],
   "source": [
    "# Load loan.csv file\n",
    "loan = pd.read_csv('loan.csv', low_memory=False)"
   ]
  },
  {
   "cell_type": "markdown",
   "metadata": {
    "colab_type": "text",
    "id": "mpCcyWw_9ZzA"
   },
   "source": [
    "## Checkpoint 1: Data Cleaning and Manipulation"
   ]
  },
  {
   "cell_type": "code",
   "execution_count": 7,
   "metadata": {
    "colab": {
     "base_uri": "https://localhost:8080/",
     "height": 102
    },
    "colab_type": "code",
    "id": "zLFJFkRo9k_t",
    "outputId": "64d5aa57-cbc3-404d-a5da-4541168a06be"
   },
   "outputs": [
    {
     "name": "stdout",
     "output_type": "stream",
     "text": [
      "<class 'pandas.core.frame.DataFrame'>\n",
      "RangeIndex: 39717 entries, 0 to 39716\n",
      "Columns: 111 entries, id to total_il_high_credit_limit\n",
      "dtypes: float64(74), int64(13), object(24)\n",
      "memory usage: 33.6+ MB\n"
     ]
    }
   ],
   "source": [
    "# Metadata of the dataframe\n",
    "loan.info()"
   ]
  },
  {
   "cell_type": "code",
   "execution_count": 8,
   "metadata": {
    "colab": {
     "base_uri": "https://localhost:8080/",
     "height": 346
    },
    "colab_type": "code",
    "id": "cm5Q4Rie9mOI",
    "outputId": "33633234-5160-4d7c-bef1-0094c6a2d633"
   },
   "outputs": [
    {
     "data": {
      "text/html": [
       "<div>\n",
       "<style scoped>\n",
       "    .dataframe tbody tr th:only-of-type {\n",
       "        vertical-align: middle;\n",
       "    }\n",
       "\n",
       "    .dataframe tbody tr th {\n",
       "        vertical-align: top;\n",
       "    }\n",
       "\n",
       "    .dataframe thead th {\n",
       "        text-align: right;\n",
       "    }\n",
       "</style>\n",
       "<table border=\"1\" class=\"dataframe\">\n",
       "  <thead>\n",
       "    <tr style=\"text-align: right;\">\n",
       "      <th></th>\n",
       "      <th>id</th>\n",
       "      <th>member_id</th>\n",
       "      <th>loan_amnt</th>\n",
       "      <th>funded_amnt</th>\n",
       "      <th>funded_amnt_inv</th>\n",
       "      <th>installment</th>\n",
       "      <th>annual_inc</th>\n",
       "      <th>dti</th>\n",
       "      <th>delinq_2yrs</th>\n",
       "      <th>inq_last_6mths</th>\n",
       "      <th>mths_since_last_delinq</th>\n",
       "      <th>mths_since_last_record</th>\n",
       "      <th>open_acc</th>\n",
       "      <th>pub_rec</th>\n",
       "      <th>revol_bal</th>\n",
       "      <th>total_acc</th>\n",
       "      <th>out_prncp</th>\n",
       "      <th>out_prncp_inv</th>\n",
       "      <th>total_pymnt</th>\n",
       "      <th>total_pymnt_inv</th>\n",
       "      <th>total_rec_prncp</th>\n",
       "      <th>total_rec_int</th>\n",
       "      <th>total_rec_late_fee</th>\n",
       "      <th>recoveries</th>\n",
       "      <th>collection_recovery_fee</th>\n",
       "      <th>last_pymnt_amnt</th>\n",
       "      <th>collections_12_mths_ex_med</th>\n",
       "      <th>mths_since_last_major_derog</th>\n",
       "      <th>policy_code</th>\n",
       "      <th>annual_inc_joint</th>\n",
       "      <th>...</th>\n",
       "      <th>mo_sin_old_rev_tl_op</th>\n",
       "      <th>mo_sin_rcnt_rev_tl_op</th>\n",
       "      <th>mo_sin_rcnt_tl</th>\n",
       "      <th>mort_acc</th>\n",
       "      <th>mths_since_recent_bc</th>\n",
       "      <th>mths_since_recent_bc_dlq</th>\n",
       "      <th>mths_since_recent_inq</th>\n",
       "      <th>mths_since_recent_revol_delinq</th>\n",
       "      <th>num_accts_ever_120_pd</th>\n",
       "      <th>num_actv_bc_tl</th>\n",
       "      <th>num_actv_rev_tl</th>\n",
       "      <th>num_bc_sats</th>\n",
       "      <th>num_bc_tl</th>\n",
       "      <th>num_il_tl</th>\n",
       "      <th>num_op_rev_tl</th>\n",
       "      <th>num_rev_accts</th>\n",
       "      <th>num_rev_tl_bal_gt_0</th>\n",
       "      <th>num_sats</th>\n",
       "      <th>num_tl_120dpd_2m</th>\n",
       "      <th>num_tl_30dpd</th>\n",
       "      <th>num_tl_90g_dpd_24m</th>\n",
       "      <th>num_tl_op_past_12m</th>\n",
       "      <th>pct_tl_nvr_dlq</th>\n",
       "      <th>percent_bc_gt_75</th>\n",
       "      <th>pub_rec_bankruptcies</th>\n",
       "      <th>tax_liens</th>\n",
       "      <th>tot_hi_cred_lim</th>\n",
       "      <th>total_bal_ex_mort</th>\n",
       "      <th>total_bc_limit</th>\n",
       "      <th>total_il_high_credit_limit</th>\n",
       "    </tr>\n",
       "  </thead>\n",
       "  <tbody>\n",
       "    <tr>\n",
       "      <th>count</th>\n",
       "      <td>39717.00</td>\n",
       "      <td>39717.00</td>\n",
       "      <td>39717.00</td>\n",
       "      <td>39717.00</td>\n",
       "      <td>39717.00</td>\n",
       "      <td>39717.00</td>\n",
       "      <td>39717.00</td>\n",
       "      <td>39717.00</td>\n",
       "      <td>39717.00</td>\n",
       "      <td>39717.00</td>\n",
       "      <td>14035.00</td>\n",
       "      <td>2786.00</td>\n",
       "      <td>39717.00</td>\n",
       "      <td>39717.00</td>\n",
       "      <td>39717.00</td>\n",
       "      <td>39717.00</td>\n",
       "      <td>39717.00</td>\n",
       "      <td>39717.00</td>\n",
       "      <td>39717.00</td>\n",
       "      <td>39717.00</td>\n",
       "      <td>39717.00</td>\n",
       "      <td>39717.00</td>\n",
       "      <td>39717.00</td>\n",
       "      <td>39717.00</td>\n",
       "      <td>39717.00</td>\n",
       "      <td>39717.00</td>\n",
       "      <td>39661.00</td>\n",
       "      <td>0.00</td>\n",
       "      <td>39717.00</td>\n",
       "      <td>0.00</td>\n",
       "      <td>...</td>\n",
       "      <td>0.00</td>\n",
       "      <td>0.00</td>\n",
       "      <td>0.00</td>\n",
       "      <td>0.00</td>\n",
       "      <td>0.00</td>\n",
       "      <td>0.00</td>\n",
       "      <td>0.00</td>\n",
       "      <td>0.00</td>\n",
       "      <td>0.00</td>\n",
       "      <td>0.00</td>\n",
       "      <td>0.00</td>\n",
       "      <td>0.00</td>\n",
       "      <td>0.00</td>\n",
       "      <td>0.00</td>\n",
       "      <td>0.00</td>\n",
       "      <td>0.00</td>\n",
       "      <td>0.00</td>\n",
       "      <td>0.00</td>\n",
       "      <td>0.00</td>\n",
       "      <td>0.00</td>\n",
       "      <td>0.00</td>\n",
       "      <td>0.00</td>\n",
       "      <td>0.00</td>\n",
       "      <td>0.00</td>\n",
       "      <td>39020.00</td>\n",
       "      <td>39678.00</td>\n",
       "      <td>0.00</td>\n",
       "      <td>0.00</td>\n",
       "      <td>0.00</td>\n",
       "      <td>0.00</td>\n",
       "    </tr>\n",
       "    <tr>\n",
       "      <th>mean</th>\n",
       "      <td>683131.91</td>\n",
       "      <td>850463.56</td>\n",
       "      <td>11219.44</td>\n",
       "      <td>10947.71</td>\n",
       "      <td>10397.45</td>\n",
       "      <td>324.56</td>\n",
       "      <td>68968.93</td>\n",
       "      <td>13.32</td>\n",
       "      <td>0.15</td>\n",
       "      <td>0.87</td>\n",
       "      <td>35.90</td>\n",
       "      <td>69.70</td>\n",
       "      <td>9.29</td>\n",
       "      <td>0.06</td>\n",
       "      <td>13382.53</td>\n",
       "      <td>22.09</td>\n",
       "      <td>51.23</td>\n",
       "      <td>50.99</td>\n",
       "      <td>12153.60</td>\n",
       "      <td>11567.15</td>\n",
       "      <td>9793.35</td>\n",
       "      <td>2263.66</td>\n",
       "      <td>1.36</td>\n",
       "      <td>95.22</td>\n",
       "      <td>12.41</td>\n",
       "      <td>2678.83</td>\n",
       "      <td>0.00</td>\n",
       "      <td>nan</td>\n",
       "      <td>1.00</td>\n",
       "      <td>nan</td>\n",
       "      <td>...</td>\n",
       "      <td>nan</td>\n",
       "      <td>nan</td>\n",
       "      <td>nan</td>\n",
       "      <td>nan</td>\n",
       "      <td>nan</td>\n",
       "      <td>nan</td>\n",
       "      <td>nan</td>\n",
       "      <td>nan</td>\n",
       "      <td>nan</td>\n",
       "      <td>nan</td>\n",
       "      <td>nan</td>\n",
       "      <td>nan</td>\n",
       "      <td>nan</td>\n",
       "      <td>nan</td>\n",
       "      <td>nan</td>\n",
       "      <td>nan</td>\n",
       "      <td>nan</td>\n",
       "      <td>nan</td>\n",
       "      <td>nan</td>\n",
       "      <td>nan</td>\n",
       "      <td>nan</td>\n",
       "      <td>nan</td>\n",
       "      <td>nan</td>\n",
       "      <td>nan</td>\n",
       "      <td>0.04</td>\n",
       "      <td>0.00</td>\n",
       "      <td>nan</td>\n",
       "      <td>nan</td>\n",
       "      <td>nan</td>\n",
       "      <td>nan</td>\n",
       "    </tr>\n",
       "    <tr>\n",
       "      <th>std</th>\n",
       "      <td>210694.13</td>\n",
       "      <td>265678.31</td>\n",
       "      <td>7456.67</td>\n",
       "      <td>7187.24</td>\n",
       "      <td>7128.45</td>\n",
       "      <td>208.87</td>\n",
       "      <td>63793.77</td>\n",
       "      <td>6.68</td>\n",
       "      <td>0.49</td>\n",
       "      <td>1.07</td>\n",
       "      <td>22.02</td>\n",
       "      <td>43.82</td>\n",
       "      <td>4.40</td>\n",
       "      <td>0.24</td>\n",
       "      <td>15885.02</td>\n",
       "      <td>11.40</td>\n",
       "      <td>375.17</td>\n",
       "      <td>373.82</td>\n",
       "      <td>9042.04</td>\n",
       "      <td>8942.67</td>\n",
       "      <td>7065.52</td>\n",
       "      <td>2608.11</td>\n",
       "      <td>7.29</td>\n",
       "      <td>688.74</td>\n",
       "      <td>148.67</td>\n",
       "      <td>4447.14</td>\n",
       "      <td>0.00</td>\n",
       "      <td>nan</td>\n",
       "      <td>0.00</td>\n",
       "      <td>nan</td>\n",
       "      <td>...</td>\n",
       "      <td>nan</td>\n",
       "      <td>nan</td>\n",
       "      <td>nan</td>\n",
       "      <td>nan</td>\n",
       "      <td>nan</td>\n",
       "      <td>nan</td>\n",
       "      <td>nan</td>\n",
       "      <td>nan</td>\n",
       "      <td>nan</td>\n",
       "      <td>nan</td>\n",
       "      <td>nan</td>\n",
       "      <td>nan</td>\n",
       "      <td>nan</td>\n",
       "      <td>nan</td>\n",
       "      <td>nan</td>\n",
       "      <td>nan</td>\n",
       "      <td>nan</td>\n",
       "      <td>nan</td>\n",
       "      <td>nan</td>\n",
       "      <td>nan</td>\n",
       "      <td>nan</td>\n",
       "      <td>nan</td>\n",
       "      <td>nan</td>\n",
       "      <td>nan</td>\n",
       "      <td>0.20</td>\n",
       "      <td>0.00</td>\n",
       "      <td>nan</td>\n",
       "      <td>nan</td>\n",
       "      <td>nan</td>\n",
       "      <td>nan</td>\n",
       "    </tr>\n",
       "    <tr>\n",
       "      <th>min</th>\n",
       "      <td>54734.00</td>\n",
       "      <td>70699.00</td>\n",
       "      <td>500.00</td>\n",
       "      <td>500.00</td>\n",
       "      <td>0.00</td>\n",
       "      <td>15.69</td>\n",
       "      <td>4000.00</td>\n",
       "      <td>0.00</td>\n",
       "      <td>0.00</td>\n",
       "      <td>0.00</td>\n",
       "      <td>0.00</td>\n",
       "      <td>0.00</td>\n",
       "      <td>2.00</td>\n",
       "      <td>0.00</td>\n",
       "      <td>0.00</td>\n",
       "      <td>2.00</td>\n",
       "      <td>0.00</td>\n",
       "      <td>0.00</td>\n",
       "      <td>0.00</td>\n",
       "      <td>0.00</td>\n",
       "      <td>0.00</td>\n",
       "      <td>0.00</td>\n",
       "      <td>0.00</td>\n",
       "      <td>0.00</td>\n",
       "      <td>0.00</td>\n",
       "      <td>0.00</td>\n",
       "      <td>0.00</td>\n",
       "      <td>nan</td>\n",
       "      <td>1.00</td>\n",
       "      <td>nan</td>\n",
       "      <td>...</td>\n",
       "      <td>nan</td>\n",
       "      <td>nan</td>\n",
       "      <td>nan</td>\n",
       "      <td>nan</td>\n",
       "      <td>nan</td>\n",
       "      <td>nan</td>\n",
       "      <td>nan</td>\n",
       "      <td>nan</td>\n",
       "      <td>nan</td>\n",
       "      <td>nan</td>\n",
       "      <td>nan</td>\n",
       "      <td>nan</td>\n",
       "      <td>nan</td>\n",
       "      <td>nan</td>\n",
       "      <td>nan</td>\n",
       "      <td>nan</td>\n",
       "      <td>nan</td>\n",
       "      <td>nan</td>\n",
       "      <td>nan</td>\n",
       "      <td>nan</td>\n",
       "      <td>nan</td>\n",
       "      <td>nan</td>\n",
       "      <td>nan</td>\n",
       "      <td>nan</td>\n",
       "      <td>0.00</td>\n",
       "      <td>0.00</td>\n",
       "      <td>nan</td>\n",
       "      <td>nan</td>\n",
       "      <td>nan</td>\n",
       "      <td>nan</td>\n",
       "    </tr>\n",
       "    <tr>\n",
       "      <th>25%</th>\n",
       "      <td>516221.00</td>\n",
       "      <td>666780.00</td>\n",
       "      <td>5500.00</td>\n",
       "      <td>5400.00</td>\n",
       "      <td>5000.00</td>\n",
       "      <td>167.02</td>\n",
       "      <td>40404.00</td>\n",
       "      <td>8.17</td>\n",
       "      <td>0.00</td>\n",
       "      <td>0.00</td>\n",
       "      <td>18.00</td>\n",
       "      <td>22.00</td>\n",
       "      <td>6.00</td>\n",
       "      <td>0.00</td>\n",
       "      <td>3703.00</td>\n",
       "      <td>13.00</td>\n",
       "      <td>0.00</td>\n",
       "      <td>0.00</td>\n",
       "      <td>5576.93</td>\n",
       "      <td>5112.31</td>\n",
       "      <td>4600.00</td>\n",
       "      <td>662.18</td>\n",
       "      <td>0.00</td>\n",
       "      <td>0.00</td>\n",
       "      <td>0.00</td>\n",
       "      <td>218.68</td>\n",
       "      <td>0.00</td>\n",
       "      <td>nan</td>\n",
       "      <td>1.00</td>\n",
       "      <td>nan</td>\n",
       "      <td>...</td>\n",
       "      <td>nan</td>\n",
       "      <td>nan</td>\n",
       "      <td>nan</td>\n",
       "      <td>nan</td>\n",
       "      <td>nan</td>\n",
       "      <td>nan</td>\n",
       "      <td>nan</td>\n",
       "      <td>nan</td>\n",
       "      <td>nan</td>\n",
       "      <td>nan</td>\n",
       "      <td>nan</td>\n",
       "      <td>nan</td>\n",
       "      <td>nan</td>\n",
       "      <td>nan</td>\n",
       "      <td>nan</td>\n",
       "      <td>nan</td>\n",
       "      <td>nan</td>\n",
       "      <td>nan</td>\n",
       "      <td>nan</td>\n",
       "      <td>nan</td>\n",
       "      <td>nan</td>\n",
       "      <td>nan</td>\n",
       "      <td>nan</td>\n",
       "      <td>nan</td>\n",
       "      <td>0.00</td>\n",
       "      <td>0.00</td>\n",
       "      <td>nan</td>\n",
       "      <td>nan</td>\n",
       "      <td>nan</td>\n",
       "      <td>nan</td>\n",
       "    </tr>\n",
       "    <tr>\n",
       "      <th>50%</th>\n",
       "      <td>665665.00</td>\n",
       "      <td>850812.00</td>\n",
       "      <td>10000.00</td>\n",
       "      <td>9600.00</td>\n",
       "      <td>8975.00</td>\n",
       "      <td>280.22</td>\n",
       "      <td>59000.00</td>\n",
       "      <td>13.40</td>\n",
       "      <td>0.00</td>\n",
       "      <td>1.00</td>\n",
       "      <td>34.00</td>\n",
       "      <td>90.00</td>\n",
       "      <td>9.00</td>\n",
       "      <td>0.00</td>\n",
       "      <td>8850.00</td>\n",
       "      <td>20.00</td>\n",
       "      <td>0.00</td>\n",
       "      <td>0.00</td>\n",
       "      <td>9899.64</td>\n",
       "      <td>9287.15</td>\n",
       "      <td>8000.00</td>\n",
       "      <td>1348.91</td>\n",
       "      <td>0.00</td>\n",
       "      <td>0.00</td>\n",
       "      <td>0.00</td>\n",
       "      <td>546.14</td>\n",
       "      <td>0.00</td>\n",
       "      <td>nan</td>\n",
       "      <td>1.00</td>\n",
       "      <td>nan</td>\n",
       "      <td>...</td>\n",
       "      <td>nan</td>\n",
       "      <td>nan</td>\n",
       "      <td>nan</td>\n",
       "      <td>nan</td>\n",
       "      <td>nan</td>\n",
       "      <td>nan</td>\n",
       "      <td>nan</td>\n",
       "      <td>nan</td>\n",
       "      <td>nan</td>\n",
       "      <td>nan</td>\n",
       "      <td>nan</td>\n",
       "      <td>nan</td>\n",
       "      <td>nan</td>\n",
       "      <td>nan</td>\n",
       "      <td>nan</td>\n",
       "      <td>nan</td>\n",
       "      <td>nan</td>\n",
       "      <td>nan</td>\n",
       "      <td>nan</td>\n",
       "      <td>nan</td>\n",
       "      <td>nan</td>\n",
       "      <td>nan</td>\n",
       "      <td>nan</td>\n",
       "      <td>nan</td>\n",
       "      <td>0.00</td>\n",
       "      <td>0.00</td>\n",
       "      <td>nan</td>\n",
       "      <td>nan</td>\n",
       "      <td>nan</td>\n",
       "      <td>nan</td>\n",
       "    </tr>\n",
       "    <tr>\n",
       "      <th>75%</th>\n",
       "      <td>837755.00</td>\n",
       "      <td>1047339.00</td>\n",
       "      <td>15000.00</td>\n",
       "      <td>15000.00</td>\n",
       "      <td>14400.00</td>\n",
       "      <td>430.78</td>\n",
       "      <td>82300.00</td>\n",
       "      <td>18.60</td>\n",
       "      <td>0.00</td>\n",
       "      <td>1.00</td>\n",
       "      <td>52.00</td>\n",
       "      <td>104.00</td>\n",
       "      <td>12.00</td>\n",
       "      <td>0.00</td>\n",
       "      <td>17058.00</td>\n",
       "      <td>29.00</td>\n",
       "      <td>0.00</td>\n",
       "      <td>0.00</td>\n",
       "      <td>16534.43</td>\n",
       "      <td>15798.81</td>\n",
       "      <td>13653.26</td>\n",
       "      <td>2833.40</td>\n",
       "      <td>0.00</td>\n",
       "      <td>0.00</td>\n",
       "      <td>0.00</td>\n",
       "      <td>3293.16</td>\n",
       "      <td>0.00</td>\n",
       "      <td>nan</td>\n",
       "      <td>1.00</td>\n",
       "      <td>nan</td>\n",
       "      <td>...</td>\n",
       "      <td>nan</td>\n",
       "      <td>nan</td>\n",
       "      <td>nan</td>\n",
       "      <td>nan</td>\n",
       "      <td>nan</td>\n",
       "      <td>nan</td>\n",
       "      <td>nan</td>\n",
       "      <td>nan</td>\n",
       "      <td>nan</td>\n",
       "      <td>nan</td>\n",
       "      <td>nan</td>\n",
       "      <td>nan</td>\n",
       "      <td>nan</td>\n",
       "      <td>nan</td>\n",
       "      <td>nan</td>\n",
       "      <td>nan</td>\n",
       "      <td>nan</td>\n",
       "      <td>nan</td>\n",
       "      <td>nan</td>\n",
       "      <td>nan</td>\n",
       "      <td>nan</td>\n",
       "      <td>nan</td>\n",
       "      <td>nan</td>\n",
       "      <td>nan</td>\n",
       "      <td>0.00</td>\n",
       "      <td>0.00</td>\n",
       "      <td>nan</td>\n",
       "      <td>nan</td>\n",
       "      <td>nan</td>\n",
       "      <td>nan</td>\n",
       "    </tr>\n",
       "    <tr>\n",
       "      <th>max</th>\n",
       "      <td>1077501.00</td>\n",
       "      <td>1314167.00</td>\n",
       "      <td>35000.00</td>\n",
       "      <td>35000.00</td>\n",
       "      <td>35000.00</td>\n",
       "      <td>1305.19</td>\n",
       "      <td>6000000.00</td>\n",
       "      <td>29.99</td>\n",
       "      <td>11.00</td>\n",
       "      <td>8.00</td>\n",
       "      <td>120.00</td>\n",
       "      <td>129.00</td>\n",
       "      <td>44.00</td>\n",
       "      <td>4.00</td>\n",
       "      <td>149588.00</td>\n",
       "      <td>90.00</td>\n",
       "      <td>6311.47</td>\n",
       "      <td>6307.37</td>\n",
       "      <td>58563.68</td>\n",
       "      <td>58563.68</td>\n",
       "      <td>35000.02</td>\n",
       "      <td>23563.68</td>\n",
       "      <td>180.20</td>\n",
       "      <td>29623.35</td>\n",
       "      <td>7002.19</td>\n",
       "      <td>36115.20</td>\n",
       "      <td>0.00</td>\n",
       "      <td>nan</td>\n",
       "      <td>1.00</td>\n",
       "      <td>nan</td>\n",
       "      <td>...</td>\n",
       "      <td>nan</td>\n",
       "      <td>nan</td>\n",
       "      <td>nan</td>\n",
       "      <td>nan</td>\n",
       "      <td>nan</td>\n",
       "      <td>nan</td>\n",
       "      <td>nan</td>\n",
       "      <td>nan</td>\n",
       "      <td>nan</td>\n",
       "      <td>nan</td>\n",
       "      <td>nan</td>\n",
       "      <td>nan</td>\n",
       "      <td>nan</td>\n",
       "      <td>nan</td>\n",
       "      <td>nan</td>\n",
       "      <td>nan</td>\n",
       "      <td>nan</td>\n",
       "      <td>nan</td>\n",
       "      <td>nan</td>\n",
       "      <td>nan</td>\n",
       "      <td>nan</td>\n",
       "      <td>nan</td>\n",
       "      <td>nan</td>\n",
       "      <td>nan</td>\n",
       "      <td>2.00</td>\n",
       "      <td>0.00</td>\n",
       "      <td>nan</td>\n",
       "      <td>nan</td>\n",
       "      <td>nan</td>\n",
       "      <td>nan</td>\n",
       "    </tr>\n",
       "  </tbody>\n",
       "</table>\n",
       "<p>8 rows × 87 columns</p>\n",
       "</div>"
      ],
      "text/plain": [
       "              id  member_id  loan_amnt  funded_amnt  funded_amnt_inv  \\\n",
       "count   39717.00   39717.00   39717.00     39717.00         39717.00   \n",
       "mean   683131.91  850463.56   11219.44     10947.71         10397.45   \n",
       "std    210694.13  265678.31    7456.67      7187.24          7128.45   \n",
       "min     54734.00   70699.00     500.00       500.00             0.00   \n",
       "25%    516221.00  666780.00    5500.00      5400.00          5000.00   \n",
       "50%    665665.00  850812.00   10000.00      9600.00          8975.00   \n",
       "75%    837755.00 1047339.00   15000.00     15000.00         14400.00   \n",
       "max   1077501.00 1314167.00   35000.00     35000.00         35000.00   \n",
       "\n",
       "       installment  annual_inc      dti  delinq_2yrs  inq_last_6mths  \\\n",
       "count     39717.00    39717.00 39717.00     39717.00        39717.00   \n",
       "mean        324.56    68968.93    13.32         0.15            0.87   \n",
       "std         208.87    63793.77     6.68         0.49            1.07   \n",
       "min          15.69     4000.00     0.00         0.00            0.00   \n",
       "25%         167.02    40404.00     8.17         0.00            0.00   \n",
       "50%         280.22    59000.00    13.40         0.00            1.00   \n",
       "75%         430.78    82300.00    18.60         0.00            1.00   \n",
       "max        1305.19  6000000.00    29.99        11.00            8.00   \n",
       "\n",
       "       mths_since_last_delinq  mths_since_last_record  open_acc  pub_rec  \\\n",
       "count                14035.00                 2786.00  39717.00 39717.00   \n",
       "mean                    35.90                   69.70      9.29     0.06   \n",
       "std                     22.02                   43.82      4.40     0.24   \n",
       "min                      0.00                    0.00      2.00     0.00   \n",
       "25%                     18.00                   22.00      6.00     0.00   \n",
       "50%                     34.00                   90.00      9.00     0.00   \n",
       "75%                     52.00                  104.00     12.00     0.00   \n",
       "max                    120.00                  129.00     44.00     4.00   \n",
       "\n",
       "       revol_bal  total_acc  out_prncp  out_prncp_inv  total_pymnt  \\\n",
       "count   39717.00   39717.00   39717.00       39717.00     39717.00   \n",
       "mean    13382.53      22.09      51.23          50.99     12153.60   \n",
       "std     15885.02      11.40     375.17         373.82      9042.04   \n",
       "min         0.00       2.00       0.00           0.00         0.00   \n",
       "25%      3703.00      13.00       0.00           0.00      5576.93   \n",
       "50%      8850.00      20.00       0.00           0.00      9899.64   \n",
       "75%     17058.00      29.00       0.00           0.00     16534.43   \n",
       "max    149588.00      90.00    6311.47        6307.37     58563.68   \n",
       "\n",
       "       total_pymnt_inv  total_rec_prncp  total_rec_int  total_rec_late_fee  \\\n",
       "count         39717.00         39717.00       39717.00            39717.00   \n",
       "mean          11567.15          9793.35        2263.66                1.36   \n",
       "std            8942.67          7065.52        2608.11                7.29   \n",
       "min               0.00             0.00           0.00                0.00   \n",
       "25%            5112.31          4600.00         662.18                0.00   \n",
       "50%            9287.15          8000.00        1348.91                0.00   \n",
       "75%           15798.81         13653.26        2833.40                0.00   \n",
       "max           58563.68         35000.02       23563.68              180.20   \n",
       "\n",
       "       recoveries  collection_recovery_fee  last_pymnt_amnt  \\\n",
       "count    39717.00                 39717.00         39717.00   \n",
       "mean        95.22                    12.41          2678.83   \n",
       "std        688.74                   148.67          4447.14   \n",
       "min          0.00                     0.00             0.00   \n",
       "25%          0.00                     0.00           218.68   \n",
       "50%          0.00                     0.00           546.14   \n",
       "75%          0.00                     0.00          3293.16   \n",
       "max      29623.35                  7002.19         36115.20   \n",
       "\n",
       "       collections_12_mths_ex_med  mths_since_last_major_derog  policy_code  \\\n",
       "count                    39661.00                         0.00     39717.00   \n",
       "mean                         0.00                          nan         1.00   \n",
       "std                          0.00                          nan         0.00   \n",
       "min                          0.00                          nan         1.00   \n",
       "25%                          0.00                          nan         1.00   \n",
       "50%                          0.00                          nan         1.00   \n",
       "75%                          0.00                          nan         1.00   \n",
       "max                          0.00                          nan         1.00   \n",
       "\n",
       "       annual_inc_joint  ...  mo_sin_old_rev_tl_op  mo_sin_rcnt_rev_tl_op  \\\n",
       "count              0.00  ...                  0.00                   0.00   \n",
       "mean                nan  ...                   nan                    nan   \n",
       "std                 nan  ...                   nan                    nan   \n",
       "min                 nan  ...                   nan                    nan   \n",
       "25%                 nan  ...                   nan                    nan   \n",
       "50%                 nan  ...                   nan                    nan   \n",
       "75%                 nan  ...                   nan                    nan   \n",
       "max                 nan  ...                   nan                    nan   \n",
       "\n",
       "       mo_sin_rcnt_tl  mort_acc  mths_since_recent_bc  \\\n",
       "count            0.00      0.00                  0.00   \n",
       "mean              nan       nan                   nan   \n",
       "std               nan       nan                   nan   \n",
       "min               nan       nan                   nan   \n",
       "25%               nan       nan                   nan   \n",
       "50%               nan       nan                   nan   \n",
       "75%               nan       nan                   nan   \n",
       "max               nan       nan                   nan   \n",
       "\n",
       "       mths_since_recent_bc_dlq  mths_since_recent_inq  \\\n",
       "count                      0.00                   0.00   \n",
       "mean                        nan                    nan   \n",
       "std                         nan                    nan   \n",
       "min                         nan                    nan   \n",
       "25%                         nan                    nan   \n",
       "50%                         nan                    nan   \n",
       "75%                         nan                    nan   \n",
       "max                         nan                    nan   \n",
       "\n",
       "       mths_since_recent_revol_delinq  num_accts_ever_120_pd  num_actv_bc_tl  \\\n",
       "count                            0.00                   0.00            0.00   \n",
       "mean                              nan                    nan             nan   \n",
       "std                               nan                    nan             nan   \n",
       "min                               nan                    nan             nan   \n",
       "25%                               nan                    nan             nan   \n",
       "50%                               nan                    nan             nan   \n",
       "75%                               nan                    nan             nan   \n",
       "max                               nan                    nan             nan   \n",
       "\n",
       "       num_actv_rev_tl  num_bc_sats  num_bc_tl  num_il_tl  num_op_rev_tl  \\\n",
       "count             0.00         0.00       0.00       0.00           0.00   \n",
       "mean               nan          nan        nan        nan            nan   \n",
       "std                nan          nan        nan        nan            nan   \n",
       "min                nan          nan        nan        nan            nan   \n",
       "25%                nan          nan        nan        nan            nan   \n",
       "50%                nan          nan        nan        nan            nan   \n",
       "75%                nan          nan        nan        nan            nan   \n",
       "max                nan          nan        nan        nan            nan   \n",
       "\n",
       "       num_rev_accts  num_rev_tl_bal_gt_0  num_sats  num_tl_120dpd_2m  \\\n",
       "count           0.00                 0.00      0.00              0.00   \n",
       "mean             nan                  nan       nan               nan   \n",
       "std              nan                  nan       nan               nan   \n",
       "min              nan                  nan       nan               nan   \n",
       "25%              nan                  nan       nan               nan   \n",
       "50%              nan                  nan       nan               nan   \n",
       "75%              nan                  nan       nan               nan   \n",
       "max              nan                  nan       nan               nan   \n",
       "\n",
       "       num_tl_30dpd  num_tl_90g_dpd_24m  num_tl_op_past_12m  pct_tl_nvr_dlq  \\\n",
       "count          0.00                0.00                0.00            0.00   \n",
       "mean            nan                 nan                 nan             nan   \n",
       "std             nan                 nan                 nan             nan   \n",
       "min             nan                 nan                 nan             nan   \n",
       "25%             nan                 nan                 nan             nan   \n",
       "50%             nan                 nan                 nan             nan   \n",
       "75%             nan                 nan                 nan             nan   \n",
       "max             nan                 nan                 nan             nan   \n",
       "\n",
       "       percent_bc_gt_75  pub_rec_bankruptcies  tax_liens  tot_hi_cred_lim  \\\n",
       "count              0.00              39020.00   39678.00             0.00   \n",
       "mean                nan                  0.04       0.00              nan   \n",
       "std                 nan                  0.20       0.00              nan   \n",
       "min                 nan                  0.00       0.00              nan   \n",
       "25%                 nan                  0.00       0.00              nan   \n",
       "50%                 nan                  0.00       0.00              nan   \n",
       "75%                 nan                  0.00       0.00              nan   \n",
       "max                 nan                  2.00       0.00              nan   \n",
       "\n",
       "       total_bal_ex_mort  total_bc_limit  total_il_high_credit_limit  \n",
       "count               0.00            0.00                        0.00  \n",
       "mean                 nan             nan                         nan  \n",
       "std                  nan             nan                         nan  \n",
       "min                  nan             nan                         nan  \n",
       "25%                  nan             nan                         nan  \n",
       "50%                  nan             nan                         nan  \n",
       "75%                  nan             nan                         nan  \n",
       "max                  nan             nan                         nan  \n",
       "\n",
       "[8 rows x 87 columns]"
      ]
     },
     "execution_count": 8,
     "metadata": {},
     "output_type": "execute_result"
    }
   ],
   "source": [
    "# Statistical summary of the dataframe\n",
    "loan.describe()"
   ]
  },
  {
   "cell_type": "code",
   "execution_count": 9,
   "metadata": {
    "colab": {
     "base_uri": "https://localhost:8080/",
     "height": 51
    },
    "colab_type": "code",
    "id": "eOnUGMd4zSLe",
    "outputId": "ae8a8c23-f213-443a-c9c1-c4c64f17f419"
   },
   "outputs": [
    {
     "name": "stdout",
     "output_type": "stream",
     "text": [
      "39717\n",
      "39717\n"
     ]
    }
   ],
   "source": [
    "# Check for unique number of rows for id and member_id columns\n",
    "print(loan.id.nunique())\n",
    "print(loan.member_id.nunique())"
   ]
  },
  {
   "cell_type": "markdown",
   "metadata": {
    "colab_type": "text",
    "id": "B6wEQXGdW3D2"
   },
   "source": [
    "Since the number of rows in the dataset and the number of unique values in id and member_id columns match. Both the columns contain unique values"
   ]
  },
  {
   "cell_type": "markdown",
   "metadata": {
    "colab_type": "text",
    "id": "gvpB4n-1fxi6"
   },
   "source": [
    "### 1.1 Removing all the empty columns"
   ]
  },
  {
   "cell_type": "code",
   "execution_count": 10,
   "metadata": {
    "colab": {
     "base_uri": "https://localhost:8080/",
     "height": 1921
    },
    "colab_type": "code",
    "id": "dIquZBQF9neI",
    "outputId": "1a0c50c7-6d0d-4c7b-b870-47810f6c27d4"
   },
   "outputs": [
    {
     "data": {
      "text/plain": [
       "total_il_high_credit_limit       100.00\n",
       "mo_sin_old_rev_tl_op             100.00\n",
       "bc_util                          100.00\n",
       "bc_open_to_buy                   100.00\n",
       "avg_cur_bal                      100.00\n",
       "acc_open_past_24mths             100.00\n",
       "inq_last_12m                     100.00\n",
       "total_cu_tl                      100.00\n",
       "inq_fi                           100.00\n",
       "total_rev_hi_lim                 100.00\n",
       "all_util                         100.00\n",
       "max_bal_bc                       100.00\n",
       "open_rv_24m                      100.00\n",
       "open_rv_12m                      100.00\n",
       "il_util                          100.00\n",
       "total_bal_il                     100.00\n",
       "mths_since_rcnt_il               100.00\n",
       "open_il_24m                      100.00\n",
       "open_il_12m                      100.00\n",
       "open_il_6m                       100.00\n",
       "open_acc_6m                      100.00\n",
       "tot_cur_bal                      100.00\n",
       "tot_coll_amt                     100.00\n",
       "total_bc_limit                   100.00\n",
       "dti_joint                        100.00\n",
       "annual_inc_joint                 100.00\n",
       "mths_since_last_major_derog      100.00\n",
       "mo_sin_old_il_acct               100.00\n",
       "verification_status_joint        100.00\n",
       "mo_sin_rcnt_rev_tl_op            100.00\n",
       "num_il_tl                        100.00\n",
       "mo_sin_rcnt_tl                   100.00\n",
       "total_bal_ex_mort                100.00\n",
       "tot_hi_cred_lim                  100.00\n",
       "percent_bc_gt_75                 100.00\n",
       "pct_tl_nvr_dlq                   100.00\n",
       "num_tl_90g_dpd_24m               100.00\n",
       "num_tl_30dpd                     100.00\n",
       "num_tl_120dpd_2m                 100.00\n",
       "num_sats                         100.00\n",
       "num_rev_tl_bal_gt_0              100.00\n",
       "num_rev_accts                    100.00\n",
       "num_op_rev_tl                    100.00\n",
       "num_tl_op_past_12m               100.00\n",
       "num_bc_tl                        100.00\n",
       "mort_acc                         100.00\n",
       "num_actv_rev_tl                  100.00\n",
       "num_actv_bc_tl                   100.00\n",
       "num_accts_ever_120_pd            100.00\n",
       "mths_since_recent_revol_delinq   100.00\n",
       "mths_since_recent_inq            100.00\n",
       "mths_since_recent_bc_dlq         100.00\n",
       "mths_since_recent_bc             100.00\n",
       "num_bc_sats                      100.00\n",
       "next_pymnt_d                      97.13\n",
       "mths_since_last_record            92.99\n",
       "mths_since_last_delinq            64.66\n",
       "desc                              32.58\n",
       "emp_title                          6.19\n",
       "emp_length                         2.71\n",
       "pub_rec_bankruptcies               1.75\n",
       "last_pymnt_d                       0.18\n",
       "chargeoff_within_12_mths           0.14\n",
       "collections_12_mths_ex_med         0.14\n",
       "revol_util                         0.13\n",
       "tax_liens                          0.10\n",
       "title                              0.03\n",
       "last_credit_pull_d                 0.01\n",
       "url                                0.00\n",
       "pymnt_plan                         0.00\n",
       "loan_status                        0.00\n",
       "verification_status                0.00\n",
       "purpose                            0.00\n",
       "issue_d                            0.00\n",
       "funded_amnt                        0.00\n",
       "annual_inc                         0.00\n",
       "home_ownership                     0.00\n",
       "sub_grade                          0.00\n",
       "grade                              0.00\n",
       "installment                        0.00\n",
       "int_rate                           0.00\n",
       "term                               0.00\n",
       "funded_amnt_inv                    0.00\n",
       "addr_state                         0.00\n",
       "loan_amnt                          0.00\n",
       "member_id                          0.00\n",
       "zip_code                           0.00\n",
       "total_rec_prncp                    0.00\n",
       "dti                                0.00\n",
       "total_pymnt_inv                    0.00\n",
       "delinq_amnt                        0.00\n",
       "acc_now_delinq                     0.00\n",
       "application_type                   0.00\n",
       "policy_code                        0.00\n",
       "last_pymnt_amnt                    0.00\n",
       "collection_recovery_fee            0.00\n",
       "recoveries                         0.00\n",
       "total_rec_late_fee                 0.00\n",
       "total_rec_int                      0.00\n",
       "total_pymnt                        0.00\n",
       "delinq_2yrs                        0.00\n",
       "out_prncp_inv                      0.00\n",
       "out_prncp                          0.00\n",
       "initial_list_status                0.00\n",
       "total_acc                          0.00\n",
       "revol_bal                          0.00\n",
       "pub_rec                            0.00\n",
       "open_acc                           0.00\n",
       "inq_last_6mths                     0.00\n",
       "earliest_cr_line                   0.00\n",
       "id                                 0.00\n",
       "dtype: float64"
      ]
     },
     "execution_count": 10,
     "metadata": {},
     "output_type": "execute_result"
    }
   ],
   "source": [
    "# summing up the missing values (column-wise) and displaying fraction of NaNs\n",
    "round(100*(loan.isnull().sum()/len(loan.index)), 2).sort_values(ascending=False)"
   ]
  },
  {
   "cell_type": "code",
   "execution_count": 11,
   "metadata": {
    "colab": {},
    "colab_type": "code",
    "id": "ViqjXdi_9o3_"
   },
   "outputs": [],
   "source": [
    "# Remove all the columns that are completely empty\n",
    "empty_columns = [w for w in loan.columns[loan.isnull().sum() == 39717]]\n",
    "loan.drop(empty_columns, axis=1, inplace=True)"
   ]
  },
  {
   "cell_type": "code",
   "execution_count": 12,
   "metadata": {
    "colab": {
     "base_uri": "https://localhost:8080/",
     "height": 34
    },
    "colab_type": "code",
    "id": "YSHgbQPj9sIW",
    "outputId": "219c2bd5-6c8f-4f77-83a8-e032838a1379"
   },
   "outputs": [
    {
     "data": {
      "text/plain": [
       "(39717, 57)"
      ]
     },
     "execution_count": 12,
     "metadata": {},
     "output_type": "execute_result"
    }
   ],
   "source": [
    "loan.shape"
   ]
  },
  {
   "cell_type": "code",
   "execution_count": 13,
   "metadata": {
    "colab": {
     "base_uri": "https://localhost:8080/",
     "height": 1003
    },
    "colab_type": "code",
    "id": "fHLS6ltrDkWr",
    "outputId": "2be9c730-381e-4235-d774-07dda7b41eb6"
   },
   "outputs": [
    {
     "data": {
      "text/plain": [
       "next_pymnt_d                 97.13\n",
       "mths_since_last_record       92.99\n",
       "mths_since_last_delinq       64.66\n",
       "desc                         32.58\n",
       "emp_title                     6.19\n",
       "emp_length                    2.71\n",
       "pub_rec_bankruptcies          1.75\n",
       "last_pymnt_d                  0.18\n",
       "chargeoff_within_12_mths      0.14\n",
       "collections_12_mths_ex_med    0.14\n",
       "revol_util                    0.13\n",
       "tax_liens                     0.10\n",
       "title                         0.03\n",
       "last_credit_pull_d            0.01\n",
       "collection_recovery_fee       0.00\n",
       "acc_now_delinq                0.00\n",
       "application_type              0.00\n",
       "url                           0.00\n",
       "pymnt_plan                    0.00\n",
       "loan_status                   0.00\n",
       "issue_d                       0.00\n",
       "verification_status           0.00\n",
       "annual_inc                    0.00\n",
       "home_ownership                0.00\n",
       "delinq_amnt                   0.00\n",
       "sub_grade                     0.00\n",
       "grade                         0.00\n",
       "installment                   0.00\n",
       "int_rate                      0.00\n",
       "term                          0.00\n",
       "funded_amnt_inv               0.00\n",
       "funded_amnt                   0.00\n",
       "loan_amnt                     0.00\n",
       "member_id                     0.00\n",
       "purpose                       0.00\n",
       "zip_code                      0.00\n",
       "recoveries                    0.00\n",
       "total_acc                     0.00\n",
       "total_rec_late_fee            0.00\n",
       "total_rec_int                 0.00\n",
       "total_rec_prncp               0.00\n",
       "total_pymnt_inv               0.00\n",
       "total_pymnt                   0.00\n",
       "out_prncp_inv                 0.00\n",
       "out_prncp                     0.00\n",
       "initial_list_status           0.00\n",
       "last_pymnt_amnt               0.00\n",
       "addr_state                    0.00\n",
       "revol_bal                     0.00\n",
       "pub_rec                       0.00\n",
       "open_acc                      0.00\n",
       "policy_code                   0.00\n",
       "inq_last_6mths                0.00\n",
       "earliest_cr_line              0.00\n",
       "delinq_2yrs                   0.00\n",
       "dti                           0.00\n",
       "id                            0.00\n",
       "dtype: float64"
      ]
     },
     "execution_count": 13,
     "metadata": {},
     "output_type": "execute_result"
    }
   ],
   "source": [
    "# summing up the missing values (column-wise) and displaying fraction of NaNs\n",
    "round(100*(loan.isnull().sum()/len(loan.index)), 2).sort_values(ascending=False)"
   ]
  },
  {
   "cell_type": "markdown",
   "metadata": {
    "colab_type": "text",
    "id": "9aiL0R41XGT8"
   },
   "source": [
    "### 1.2 Removing the columns with more than 60% of data is missing, also look at desc column\n",
    "Since '**next_pymnt_d**', '**mths_since_last_record**', and '**mths_since_last_delinq**' has more than 60% of their values missing, imputing them might cause variance to a great extent. Also these attributes contribute less compared to others, hence it is save to remove the whole columns "
   ]
  },
  {
   "cell_type": "code",
   "execution_count": 14,
   "metadata": {
    "colab": {},
    "colab_type": "code",
    "id": "tIFlAPAxmHyn"
   },
   "outputs": [],
   "source": [
    "# You can check the values as well in those columns and see that they cannot be imputed as the imputed values\n",
    "# won't make much sense or add any into the dataset\n",
    "\n",
    "# loan.loc[~loan.next_pymnt_d.isnull()]['next_pymnt_d']\n",
    "# loan.loc[~loan.mths_since_last_record.isnull()]['mths_since_last_record']"
   ]
  },
  {
   "cell_type": "code",
   "execution_count": 15,
   "metadata": {
    "colab": {
     "base_uri": "https://localhost:8080/",
     "height": 374
    },
    "colab_type": "code",
    "id": "YZSWkEBOmxmB",
    "outputId": "86506e59-3032-4e64-c052-84208dafa875"
   },
   "outputs": [
    {
     "data": {
      "text/plain": [
       "0       Borrower added on 12/22/11 > I need to upgra...\n",
       "1       Borrower added on 12/22/11 > I plan to use t...\n",
       "3       Borrower added on 12/21/11 > to pay for prop...\n",
       "4       Borrower added on 12/21/11 > I plan on combi...\n",
       "6       Borrower added on 12/18/11 > I am planning o...\n",
       "7       Borrower added on 12/16/11 > Downpayment for...\n",
       "8       Borrower added on 12/21/11 > I own a small h...\n",
       "9       Borrower added on 12/16/11 > I'm trying to b...\n",
       "10      Borrower added on 12/15/11 > I had recived a...\n",
       "12      Borrower added on 12/15/11 > Plan to pay off...\n",
       "13      Borrower added on 12/19/11 > I intend to pay...\n",
       "17      Borrower added on 12/15/11 > Payoff other le...\n",
       "18      Borrower added on 12/16/11 > This is a loan ...\n",
       "20    After amassing credit card debt through severa...\n",
       "21      Borrower added on 12/16/11 > Decided to clea...\n",
       "22      Borrower added on 12/17/11 > Have a stable j...\n",
       "26      Borrower added on 12/15/11 > looking to cons...\n",
       "27      Borrower added on 12/16/11 > I have a stable...\n",
       "29      Borrower added on 12/15/11 > My loan is for ...\n",
       "30      Borrower added on 12/17/11 > This loan is a ...\n",
       "Name: desc, dtype: object"
      ]
     },
     "execution_count": 15,
     "metadata": {},
     "output_type": "execute_result"
    }
   ],
   "source": [
    "# Let's look at desc column\n",
    "loan.loc[~loan.desc.isnull()]['desc'].iloc[:20]"
   ]
  },
  {
   "cell_type": "markdown",
   "metadata": {
    "colab_type": "text",
    "id": "cmUcX---oBVg"
   },
   "source": [
    "'**desc**' column contains the loan description provided by the borrower and it has variety of reason for which the loan was taken. It is impossible to impute these values, also it won't add any insights for our analysis. Hence it is save to remove this column."
   ]
  },
  {
   "cell_type": "code",
   "execution_count": 16,
   "metadata": {
    "colab": {},
    "colab_type": "code",
    "id": "KaMLug2solX5"
   },
   "outputs": [],
   "source": [
    "# Remove all the irrelevant columns\n",
    "irrelevant_columns = ['next_pymnt_d', 'mths_since_last_record', 'mths_since_last_delinq', 'desc']\n",
    "loan.drop(irrelevant_columns, axis=1, inplace=True)"
   ]
  },
  {
   "cell_type": "code",
   "execution_count": 17,
   "metadata": {
    "colab": {
     "base_uri": "https://localhost:8080/",
     "height": 34
    },
    "colab_type": "code",
    "id": "usN6O0zOpJ-V",
    "outputId": "75a30063-977f-4692-a06b-1634a5dd26e3"
   },
   "outputs": [
    {
     "data": {
      "text/plain": [
       "(39717, 53)"
      ]
     },
     "execution_count": 17,
     "metadata": {},
     "output_type": "execute_result"
    }
   ],
   "source": [
    "loan.shape"
   ]
  },
  {
   "cell_type": "markdown",
   "metadata": {
    "colab_type": "text",
    "id": "ItOtl03GpK_A"
   },
   "source": [
    "### 1.3 Removing irrelevant columns\n",
    "Along with the above irrelavant columns there are a few more that do not add any insights to our analysis like '**id**', '**member_id**', and '**url**'. Remove these columns as well."
   ]
  },
  {
   "cell_type": "code",
   "execution_count": 18,
   "metadata": {
    "colab": {},
    "colab_type": "code",
    "id": "93gzf5cdpfZw"
   },
   "outputs": [],
   "source": [
    "# Remove all the irrelevant columns\n",
    "irrelevant_columns = ['id', 'member_id', 'url']\n",
    "loan.drop(irrelevant_columns, axis=1, inplace=True)"
   ]
  },
  {
   "cell_type": "code",
   "execution_count": 19,
   "metadata": {
    "colab": {
     "base_uri": "https://localhost:8080/",
     "height": 34
    },
    "colab_type": "code",
    "id": "aK-K_cb6p-1c",
    "outputId": "6a76d5f5-c448-4a83-c7a2-c0dbfa0321d5"
   },
   "outputs": [
    {
     "data": {
      "text/plain": [
       "(39717, 50)"
      ]
     },
     "execution_count": 19,
     "metadata": {},
     "output_type": "execute_result"
    }
   ],
   "source": [
    "loan.shape"
   ]
  },
  {
   "cell_type": "code",
   "execution_count": 20,
   "metadata": {
    "colab": {
     "base_uri": "https://localhost:8080/",
     "height": 884
    },
    "colab_type": "code",
    "id": "Hcm1lDr1qBBt",
    "outputId": "e85bdef9-c633-456c-a89b-fe1012c72b14"
   },
   "outputs": [
    {
     "data": {
      "text/plain": [
       "emp_title                    6.19\n",
       "emp_length                   2.71\n",
       "pub_rec_bankruptcies         1.75\n",
       "last_pymnt_d                 0.18\n",
       "collections_12_mths_ex_med   0.14\n",
       "chargeoff_within_12_mths     0.14\n",
       "revol_util                   0.13\n",
       "tax_liens                    0.10\n",
       "title                        0.03\n",
       "last_credit_pull_d           0.01\n",
       "installment                  0.00\n",
       "addr_state                   0.00\n",
       "funded_amnt                  0.00\n",
       "zip_code                     0.00\n",
       "funded_amnt_inv              0.00\n",
       "purpose                      0.00\n",
       "pymnt_plan                   0.00\n",
       "loan_status                  0.00\n",
       "issue_d                      0.00\n",
       "verification_status          0.00\n",
       "annual_inc                   0.00\n",
       "home_ownership               0.00\n",
       "delinq_2yrs                  0.00\n",
       "term                         0.00\n",
       "sub_grade                    0.00\n",
       "grade                        0.00\n",
       "int_rate                     0.00\n",
       "dti                          0.00\n",
       "open_acc                     0.00\n",
       "earliest_cr_line             0.00\n",
       "total_rec_int                0.00\n",
       "delinq_amnt                  0.00\n",
       "acc_now_delinq               0.00\n",
       "application_type             0.00\n",
       "policy_code                  0.00\n",
       "last_pymnt_amnt              0.00\n",
       "collection_recovery_fee      0.00\n",
       "recoveries                   0.00\n",
       "total_rec_late_fee           0.00\n",
       "total_rec_prncp              0.00\n",
       "inq_last_6mths               0.00\n",
       "total_pymnt_inv              0.00\n",
       "total_pymnt                  0.00\n",
       "out_prncp_inv                0.00\n",
       "out_prncp                    0.00\n",
       "initial_list_status          0.00\n",
       "total_acc                    0.00\n",
       "revol_bal                    0.00\n",
       "pub_rec                      0.00\n",
       "loan_amnt                    0.00\n",
       "dtype: float64"
      ]
     },
     "execution_count": 20,
     "metadata": {},
     "output_type": "execute_result"
    }
   ],
   "source": [
    "# summing up the missing values (column-wise) and displaying fraction of NaNs\n",
    "round(100*(loan.isnull().sum()/len(loan.index)), 2).sort_values(ascending=False)"
   ]
  },
  {
   "cell_type": "markdown",
   "metadata": {
    "colab_type": "text",
    "id": "NprUruavh4wD"
   },
   "source": [
    "### 1.4 Remove all the columns that contain a single value"
   ]
  },
  {
   "cell_type": "markdown",
   "metadata": {
    "colab_type": "text",
    "id": "UJ369hAgCJ6k"
   },
   "source": [
    "#### chargeoff_within_12_mths"
   ]
  },
  {
   "cell_type": "code",
   "execution_count": 21,
   "metadata": {
    "colab": {
     "base_uri": "https://localhost:8080/",
     "height": 34
    },
    "colab_type": "code",
    "id": "p-BnhWBy4jH-",
    "outputId": "9f0d8880-1d0d-4a98-b0c0-d2a05776cefa"
   },
   "outputs": [
    {
     "data": {
      "text/plain": [
       "array([ 0., nan])"
      ]
     },
     "execution_count": 21,
     "metadata": {},
     "output_type": "execute_result"
    }
   ],
   "source": [
    "# Look at 'chargeoff_within_12_mths' values\n",
    "loan.chargeoff_within_12_mths.unique()"
   ]
  },
  {
   "cell_type": "code",
   "execution_count": 22,
   "metadata": {
    "colab": {},
    "colab_type": "code",
    "id": "ldvE24sKte3i"
   },
   "outputs": [],
   "source": [
    "# Since all the values are zero expect of NaN. We can either impute it with 0 or remove the column\n",
    "# For now imputing it with 0\n",
    "# loan.chargeoff_within_12_mths.fillna(0., inplace=True)"
   ]
  },
  {
   "cell_type": "code",
   "execution_count": 23,
   "metadata": {
    "colab": {
     "base_uri": "https://localhost:8080/",
     "height": 34
    },
    "colab_type": "code",
    "id": "rikhaOO9ylrJ",
    "outputId": "ec5964ea-4614-4662-f5c9-d3b4cfcd52a8"
   },
   "outputs": [
    {
     "data": {
      "text/plain": [
       "56"
      ]
     },
     "execution_count": 23,
     "metadata": {},
     "output_type": "execute_result"
    }
   ],
   "source": [
    "# Let's look at the number of missing values in chargeoff_within_12_mths column\n",
    "loan.chargeoff_within_12_mths.isnull().sum()"
   ]
  },
  {
   "cell_type": "code",
   "execution_count": 24,
   "metadata": {
    "colab": {
     "base_uri": "https://localhost:8080/",
     "height": 170
    },
    "colab_type": "code",
    "id": "t65szM8fzCa6",
    "outputId": "8fe6e542-aed8-4dcf-e25d-3c22c89749ba"
   },
   "outputs": [
    {
     "data": {
      "text/plain": [
       "count   39661.00\n",
       "mean        0.00\n",
       "std         0.00\n",
       "min         0.00\n",
       "25%         0.00\n",
       "50%         0.00\n",
       "75%         0.00\n",
       "max         0.00\n",
       "Name: chargeoff_within_12_mths, dtype: float64"
      ]
     },
     "execution_count": 24,
     "metadata": {},
     "output_type": "execute_result"
    }
   ],
   "source": [
    "loan.chargeoff_within_12_mths.describe()"
   ]
  },
  {
   "cell_type": "markdown",
   "metadata": {
    "colab_type": "text",
    "id": "1lX3A63Dy5yr"
   },
   "source": [
    "Since the number of missing values are few and the column only contains the value 0, also mean and median has the same value zero. Hence we can either impute the value with 0 or remove the column. <br>\n",
    "Since most of the values are zero and imputing it won't add any useful information to the column, remove the column."
   ]
  },
  {
   "cell_type": "code",
   "execution_count": 25,
   "metadata": {
    "colab": {},
    "colab_type": "code",
    "id": "cGE7Bb-o5Z8Q"
   },
   "outputs": [],
   "source": [
    "# Remove the chargeoff_within_12_mths\n",
    "loan.drop('chargeoff_within_12_mths', axis=1, inplace=True)"
   ]
  },
  {
   "cell_type": "markdown",
   "metadata": {
    "colab_type": "text",
    "id": "Gi--aw32CP_U"
   },
   "source": [
    "#### collections_12_mths_ex_med"
   ]
  },
  {
   "cell_type": "code",
   "execution_count": 26,
   "metadata": {
    "colab": {
     "base_uri": "https://localhost:8080/",
     "height": 34
    },
    "colab_type": "code",
    "id": "DshBFAZN3a0B",
    "outputId": "f891609b-a9a7-4c60-b57b-6217a2c8f480"
   },
   "outputs": [
    {
     "data": {
      "text/plain": [
       "array([ 0., nan])"
      ]
     },
     "execution_count": 26,
     "metadata": {},
     "output_type": "execute_result"
    }
   ],
   "source": [
    "# Look at 'collections_12_mths_ex_med' values\n",
    "loan.collections_12_mths_ex_med.unique()"
   ]
  },
  {
   "cell_type": "code",
   "execution_count": 27,
   "metadata": {
    "colab": {},
    "colab_type": "code",
    "id": "lGTguama1vID"
   },
   "outputs": [],
   "source": [
    "# Since all the values are zero expect of NaN. We can either impute it with 0 or remove the column\n",
    "# For now imputing it with 0\n",
    "# loan.collections_12_mths_ex_med.fillna(0., inplace=True)"
   ]
  },
  {
   "cell_type": "code",
   "execution_count": 28,
   "metadata": {
    "colab": {
     "base_uri": "https://localhost:8080/",
     "height": 34
    },
    "colab_type": "code",
    "id": "vVbbg0wnzj0q",
    "outputId": "edc45bcd-32cc-40b0-f8cc-81a67ee27697"
   },
   "outputs": [
    {
     "data": {
      "text/plain": [
       "56"
      ]
     },
     "execution_count": 28,
     "metadata": {},
     "output_type": "execute_result"
    }
   ],
   "source": [
    "# Let's look at the number of missing values in chargeoff_within_12_mths column\n",
    "loan.collections_12_mths_ex_med.isnull().sum()"
   ]
  },
  {
   "cell_type": "code",
   "execution_count": 29,
   "metadata": {
    "colab": {
     "base_uri": "https://localhost:8080/",
     "height": 170
    },
    "colab_type": "code",
    "id": "7wmkvJ_Izj0u",
    "outputId": "46e67be2-785a-429d-b1cd-53b20d96cde5"
   },
   "outputs": [
    {
     "data": {
      "text/plain": [
       "count   39661.00\n",
       "mean        0.00\n",
       "std         0.00\n",
       "min         0.00\n",
       "25%         0.00\n",
       "50%         0.00\n",
       "75%         0.00\n",
       "max         0.00\n",
       "Name: collections_12_mths_ex_med, dtype: float64"
      ]
     },
     "execution_count": 29,
     "metadata": {},
     "output_type": "execute_result"
    }
   ],
   "source": [
    "loan.collections_12_mths_ex_med.describe()"
   ]
  },
  {
   "cell_type": "markdown",
   "metadata": {
    "colab_type": "text",
    "id": "t1dJv7J9zq6O"
   },
   "source": [
    "Since the number of missing values are few and the column only contains the value 0, also mean and median has the same value zero. Hence we can either impute the value with 0 or remove the column. <br>\n",
    "Since most of the values are zero and imputing it won't add any useful information to the column, remove the column."
   ]
  },
  {
   "cell_type": "code",
   "execution_count": 30,
   "metadata": {
    "colab": {},
    "colab_type": "code",
    "id": "KVdf73I-6Ec-"
   },
   "outputs": [],
   "source": [
    "# Remove the collections_12_mths_ex_med\n",
    "loan.drop('collections_12_mths_ex_med', axis=1, inplace=True)"
   ]
  },
  {
   "cell_type": "markdown",
   "metadata": {
    "colab_type": "text",
    "id": "cPnx0srmEldi"
   },
   "source": [
    "#### tax_liens"
   ]
  },
  {
   "cell_type": "code",
   "execution_count": 31,
   "metadata": {
    "colab": {
     "base_uri": "https://localhost:8080/",
     "height": 34
    },
    "colab_type": "code",
    "id": "FDmrYYtWFh5B",
    "outputId": "b9cf9f43-e8f3-4145-958e-e2355d0a3a9c"
   },
   "outputs": [
    {
     "data": {
      "text/plain": [
       "array([ 0., nan])"
      ]
     },
     "execution_count": 31,
     "metadata": {},
     "output_type": "execute_result"
    }
   ],
   "source": [
    "loan.tax_liens.unique()"
   ]
  },
  {
   "cell_type": "code",
   "execution_count": 32,
   "metadata": {
    "colab": {
     "base_uri": "https://localhost:8080/",
     "height": 51
    },
    "colab_type": "code",
    "id": "OwjPOTij_d0j",
    "outputId": "63b9eb63-e108-4f9f-be5c-fea9d7ecdec8"
   },
   "outputs": [
    {
     "data": {
      "text/plain": [
       "0.00    39678\n",
       "Name: tax_liens, dtype: int64"
      ]
     },
     "execution_count": 32,
     "metadata": {},
     "output_type": "execute_result"
    }
   ],
   "source": [
    "# Look at 'tax_liens' values\n",
    "loan.tax_liens.value_counts()"
   ]
  },
  {
   "cell_type": "code",
   "execution_count": 33,
   "metadata": {
    "colab": {},
    "colab_type": "code",
    "id": "tqxg1EE1_ghU"
   },
   "outputs": [],
   "source": [
    "# Since all the values are zero expect of NaN. We can either impute it with 0 or remove the column\n",
    "# For now imputing it with 0\n",
    "# loan.tax_liens.fillna(0., inplace=True)"
   ]
  },
  {
   "cell_type": "code",
   "execution_count": 34,
   "metadata": {
    "colab": {
     "base_uri": "https://localhost:8080/",
     "height": 34
    },
    "colab_type": "code",
    "id": "TeMvikBDzy_F",
    "outputId": "eb8cbfab-f1d3-4236-dd86-a7b9f87a8bd4"
   },
   "outputs": [
    {
     "data": {
      "text/plain": [
       "39"
      ]
     },
     "execution_count": 34,
     "metadata": {},
     "output_type": "execute_result"
    }
   ],
   "source": [
    "# Let's look at the number of missing values in chargeoff_within_12_mths column\n",
    "loan.tax_liens.isnull().sum()"
   ]
  },
  {
   "cell_type": "code",
   "execution_count": 35,
   "metadata": {
    "colab": {
     "base_uri": "https://localhost:8080/",
     "height": 170
    },
    "colab_type": "code",
    "id": "UMA4Aiw8zy_J",
    "outputId": "434bd559-23cc-42a2-adc5-cd97858c406d"
   },
   "outputs": [
    {
     "data": {
      "text/plain": [
       "count   39678.00\n",
       "mean        0.00\n",
       "std         0.00\n",
       "min         0.00\n",
       "25%         0.00\n",
       "50%         0.00\n",
       "75%         0.00\n",
       "max         0.00\n",
       "Name: tax_liens, dtype: float64"
      ]
     },
     "execution_count": 35,
     "metadata": {},
     "output_type": "execute_result"
    }
   ],
   "source": [
    "loan.tax_liens.describe()"
   ]
  },
  {
   "cell_type": "markdown",
   "metadata": {
    "colab_type": "text",
    "id": "mmOOcEAjz4pJ"
   },
   "source": [
    "Since the number of missing values are few and the column only contains the value 0, also mean and median has the same value zero. Hence we can either impute the value with 0 or remove the column. <br>\n",
    "Since most of the values are zero and imputing it won't add any useful information to the column, remove the column."
   ]
  },
  {
   "cell_type": "code",
   "execution_count": 36,
   "metadata": {
    "colab": {},
    "colab_type": "code",
    "id": "-8g_soku6Ung"
   },
   "outputs": [],
   "source": [
    "# Remove the tax_liens\n",
    "loan.drop('tax_liens', axis=1, inplace=True)"
   ]
  },
  {
   "cell_type": "markdown",
   "metadata": {
    "colab_type": "text",
    "id": "rPe2M8Y0KuFN"
   },
   "source": [
    "#### Policy Code"
   ]
  },
  {
   "cell_type": "code",
   "execution_count": 37,
   "metadata": {
    "colab": {
     "base_uri": "https://localhost:8080/",
     "height": 34
    },
    "colab_type": "code",
    "id": "xWZQk_FJZgzB",
    "outputId": "37215f3c-a719-409e-876a-f06299d232e6"
   },
   "outputs": [
    {
     "data": {
      "text/plain": [
       "array([1], dtype=int64)"
      ]
     },
     "execution_count": 37,
     "metadata": {},
     "output_type": "execute_result"
    }
   ],
   "source": [
    "loan.policy_code.unique()"
   ]
  },
  {
   "cell_type": "code",
   "execution_count": 38,
   "metadata": {
    "colab": {
     "base_uri": "https://localhost:8080/",
     "height": 51
    },
    "colab_type": "code",
    "id": "Xt_0fA8o3b78",
    "outputId": "a1d38003-12b3-4e4a-af71-d0444fada037"
   },
   "outputs": [
    {
     "data": {
      "text/plain": [
       "False    39717\n",
       "Name: policy_code, dtype: int64"
      ]
     },
     "execution_count": 38,
     "metadata": {},
     "output_type": "execute_result"
    }
   ],
   "source": [
    "loan.policy_code.isnull().value_counts()"
   ]
  },
  {
   "cell_type": "markdown",
   "metadata": {
    "colab_type": "text",
    "id": "gyxxYH8p3kAn"
   },
   "source": [
    "Since all the values in this column are 1, we can remove this column as it won't add any value to our analysis"
   ]
  },
  {
   "cell_type": "code",
   "execution_count": 39,
   "metadata": {
    "colab": {},
    "colab_type": "code",
    "id": "EuB6C2XG3wOH"
   },
   "outputs": [],
   "source": [
    "# Remove the policy_code colummn\n",
    "loan.drop('policy_code', axis=1, inplace=True)"
   ]
  },
  {
   "cell_type": "markdown",
   "metadata": {
    "colab_type": "text",
    "id": "E9wK7P-wd_6X"
   },
   "source": [
    "#### initial list status"
   ]
  },
  {
   "cell_type": "code",
   "execution_count": 40,
   "metadata": {
    "colab": {
     "base_uri": "https://localhost:8080/",
     "height": 34
    },
    "colab_type": "code",
    "id": "IrHlxyOhLMNm",
    "outputId": "a553863a-cbaa-4283-f243-a54d1e62aa76"
   },
   "outputs": [
    {
     "data": {
      "text/plain": [
       "array(['f'], dtype=object)"
      ]
     },
     "execution_count": 40,
     "metadata": {},
     "output_type": "execute_result"
    }
   ],
   "source": [
    "loan.initial_list_status.unique()"
   ]
  },
  {
   "cell_type": "code",
   "execution_count": 41,
   "metadata": {
    "colab": {
     "base_uri": "https://localhost:8080/",
     "height": 51
    },
    "colab_type": "code",
    "id": "VoVU-NJ4LOUD",
    "outputId": "daed026d-c472-4c1c-cd36-def0d27349ec"
   },
   "outputs": [
    {
     "data": {
      "text/plain": [
       "f    39717\n",
       "Name: initial_list_status, dtype: int64"
      ]
     },
     "execution_count": 41,
     "metadata": {},
     "output_type": "execute_result"
    }
   ],
   "source": [
    "loan.initial_list_status.value_counts()"
   ]
  },
  {
   "cell_type": "code",
   "execution_count": 42,
   "metadata": {
    "colab": {
     "base_uri": "https://localhost:8080/",
     "height": 34
    },
    "colab_type": "code",
    "id": "CUDYWbXwLYZL",
    "outputId": "48e013a3-0f5c-4045-c4cb-1b52d6804dfa"
   },
   "outputs": [
    {
     "data": {
      "text/plain": [
       "(39717, 46)"
      ]
     },
     "execution_count": 42,
     "metadata": {},
     "output_type": "execute_result"
    }
   ],
   "source": [
    "loan.shape"
   ]
  },
  {
   "cell_type": "markdown",
   "metadata": {
    "colab_type": "text",
    "id": "LxFrp6tHLZo_"
   },
   "source": [
    "Since all the values in this column are 'f', we can remove this column as it won't add any value to our analysis"
   ]
  },
  {
   "cell_type": "code",
   "execution_count": 43,
   "metadata": {
    "colab": {},
    "colab_type": "code",
    "id": "ycKqhaPN38ac"
   },
   "outputs": [],
   "source": [
    "# Remove the column initial_list_status\n",
    "loan.drop('initial_list_status', axis=1, inplace=True)"
   ]
  },
  {
   "cell_type": "markdown",
   "metadata": {
    "colab_type": "text",
    "id": "dRt74sch-nBM"
   },
   "source": [
    "#### Payment Plan"
   ]
  },
  {
   "cell_type": "code",
   "execution_count": 44,
   "metadata": {
    "colab": {
     "base_uri": "https://localhost:8080/",
     "height": 102
    },
    "colab_type": "code",
    "id": "uv16oMsm-WG7",
    "outputId": "58160a8a-101c-4f55-f85c-cc893a474732"
   },
   "outputs": [
    {
     "data": {
      "text/plain": [
       "count     39717\n",
       "unique        1\n",
       "top           n\n",
       "freq      39717\n",
       "Name: pymnt_plan, dtype: object"
      ]
     },
     "execution_count": 44,
     "metadata": {},
     "output_type": "execute_result"
    }
   ],
   "source": [
    "loan['pymnt_plan'].describe()"
   ]
  },
  {
   "cell_type": "code",
   "execution_count": 45,
   "metadata": {
    "colab": {
     "base_uri": "https://localhost:8080/",
     "height": 34
    },
    "colab_type": "code",
    "id": "E_jgjpGUHLc1",
    "outputId": "590d38b0-c1ba-4146-e281-97b8fe218373"
   },
   "outputs": [
    {
     "data": {
      "text/plain": [
       "array(['n'], dtype=object)"
      ]
     },
     "execution_count": 45,
     "metadata": {},
     "output_type": "execute_result"
    }
   ],
   "source": [
    "loan.pymnt_plan.unique()"
   ]
  },
  {
   "cell_type": "code",
   "execution_count": 46,
   "metadata": {
    "colab": {
     "base_uri": "https://localhost:8080/",
     "height": 51
    },
    "colab_type": "code",
    "id": "LsT1VpVBHRz8",
    "outputId": "ea9ad89b-877e-4da2-abda-23f136b2ea45"
   },
   "outputs": [
    {
     "data": {
      "text/plain": [
       "n    39717\n",
       "Name: pymnt_plan, dtype: int64"
      ]
     },
     "execution_count": 46,
     "metadata": {},
     "output_type": "execute_result"
    }
   ],
   "source": [
    "loan.pymnt_plan.value_counts()"
   ]
  },
  {
   "cell_type": "markdown",
   "metadata": {
    "colab_type": "text",
    "id": "ShM9rJu-ANsR"
   },
   "source": [
    "There is no significance of pymnt_plan on our analysis as it consists of single value n. Hence Remove it."
   ]
  },
  {
   "cell_type": "code",
   "execution_count": 47,
   "metadata": {
    "colab": {},
    "colab_type": "code",
    "id": "rLG0HPv_Fya8"
   },
   "outputs": [],
   "source": [
    "# Remove pymnt_plan\n",
    "loan.drop('pymnt_plan', axis=1, inplace=True)"
   ]
  },
  {
   "cell_type": "markdown",
   "metadata": {
    "colab_type": "text",
    "id": "sC0qL4jKo3NY"
   },
   "source": [
    "#### delinq_amnt"
   ]
  },
  {
   "cell_type": "code",
   "execution_count": 48,
   "metadata": {
    "colab": {
     "base_uri": "https://localhost:8080/",
     "height": 34
    },
    "colab_type": "code",
    "id": "uhUMhjARAG_T",
    "outputId": "c42d6887-60f0-4a85-a6c2-d9449267c6bd"
   },
   "outputs": [
    {
     "data": {
      "text/plain": [
       "array([0], dtype=int64)"
      ]
     },
     "execution_count": 48,
     "metadata": {},
     "output_type": "execute_result"
    }
   ],
   "source": [
    "loan.delinq_amnt.unique()"
   ]
  },
  {
   "cell_type": "code",
   "execution_count": 49,
   "metadata": {
    "colab": {
     "base_uri": "https://localhost:8080/",
     "height": 51
    },
    "colab_type": "code",
    "id": "LSSfrsq-ANTi",
    "outputId": "c5679d0f-3dd1-4a00-bfb0-8c1134d33921"
   },
   "outputs": [
    {
     "data": {
      "text/plain": [
       "0    39717\n",
       "Name: delinq_amnt, dtype: int64"
      ]
     },
     "execution_count": 49,
     "metadata": {},
     "output_type": "execute_result"
    }
   ],
   "source": [
    "loan.delinq_amnt.value_counts()"
   ]
  },
  {
   "cell_type": "markdown",
   "metadata": {
    "colab_type": "text",
    "id": "Xe5sbJshAPpS"
   },
   "source": [
    "Since all the values in this column are 0, we can remove this column as it won't add any value to our analysis"
   ]
  },
  {
   "cell_type": "code",
   "execution_count": 50,
   "metadata": {
    "colab": {},
    "colab_type": "code",
    "id": "HS-VtKM6AW9h"
   },
   "outputs": [],
   "source": [
    "# Remove delinq_amnt\n",
    "loan.drop('delinq_amnt', axis=1, inplace=True)"
   ]
  },
  {
   "cell_type": "markdown",
   "metadata": {
    "colab_type": "text",
    "id": "-vNAhNBeAepJ"
   },
   "source": [
    "#### application_type"
   ]
  },
  {
   "cell_type": "code",
   "execution_count": 51,
   "metadata": {
    "colab": {
     "base_uri": "https://localhost:8080/",
     "height": 34
    },
    "colab_type": "code",
    "id": "ajpCyDAvApAo",
    "outputId": "baa9db22-a4c2-4aa6-b031-92e727eccb0b"
   },
   "outputs": [
    {
     "data": {
      "text/plain": [
       "array(['INDIVIDUAL'], dtype=object)"
      ]
     },
     "execution_count": 51,
     "metadata": {},
     "output_type": "execute_result"
    }
   ],
   "source": [
    "loan.application_type.unique()"
   ]
  },
  {
   "cell_type": "code",
   "execution_count": 52,
   "metadata": {
    "colab": {
     "base_uri": "https://localhost:8080/",
     "height": 51
    },
    "colab_type": "code",
    "id": "pUjdVPtGAqlY",
    "outputId": "4c93a2f5-a1f2-4547-e15f-76f24d220ad4"
   },
   "outputs": [
    {
     "data": {
      "text/plain": [
       "INDIVIDUAL    39717\n",
       "Name: application_type, dtype: int64"
      ]
     },
     "execution_count": 52,
     "metadata": {},
     "output_type": "execute_result"
    }
   ],
   "source": [
    "loan.application_type.value_counts()"
   ]
  },
  {
   "cell_type": "markdown",
   "metadata": {
    "colab_type": "text",
    "id": "Ubw_FrKfAs5w"
   },
   "source": [
    "Since all the values in this column are INDIVIDUAL, we can remove this column as it won't add any value to our analysis"
   ]
  },
  {
   "cell_type": "code",
   "execution_count": 53,
   "metadata": {
    "colab": {},
    "colab_type": "code",
    "id": "GjGjUR2iA1eh"
   },
   "outputs": [],
   "source": [
    "# Remove application_type\n",
    "loan.drop('application_type', axis=1, inplace=True)"
   ]
  },
  {
   "cell_type": "markdown",
   "metadata": {
    "colab_type": "text",
    "id": "hxZzj8lnA7lx"
   },
   "source": [
    "#### acc_now_delinq"
   ]
  },
  {
   "cell_type": "code",
   "execution_count": 54,
   "metadata": {
    "colab": {
     "base_uri": "https://localhost:8080/",
     "height": 34
    },
    "colab_type": "code",
    "id": "TAeqntC6BDd4",
    "outputId": "2695e9a9-6d1b-4d71-f8ad-9ec24197cf2c"
   },
   "outputs": [
    {
     "data": {
      "text/plain": [
       "array([0], dtype=int64)"
      ]
     },
     "execution_count": 54,
     "metadata": {},
     "output_type": "execute_result"
    }
   ],
   "source": [
    "loan.acc_now_delinq.unique()"
   ]
  },
  {
   "cell_type": "code",
   "execution_count": 55,
   "metadata": {
    "colab": {
     "base_uri": "https://localhost:8080/",
     "height": 51
    },
    "colab_type": "code",
    "id": "OxoP43nXBFDg",
    "outputId": "3c4dfa6f-edf3-4f1a-e572-ce27154b1ae1"
   },
   "outputs": [
    {
     "data": {
      "text/plain": [
       "0    39717\n",
       "Name: acc_now_delinq, dtype: int64"
      ]
     },
     "execution_count": 55,
     "metadata": {},
     "output_type": "execute_result"
    }
   ],
   "source": [
    "loan.acc_now_delinq.value_counts()"
   ]
  },
  {
   "cell_type": "markdown",
   "metadata": {
    "colab_type": "text",
    "id": "tv0fykcNBL-X"
   },
   "source": [
    "Since all the values in this column are 0, we can remove this column as it won't add any value to our analysis"
   ]
  },
  {
   "cell_type": "code",
   "execution_count": 56,
   "metadata": {
    "colab": {},
    "colab_type": "code",
    "id": "QWgUP9C4BGbR"
   },
   "outputs": [],
   "source": [
    "# Remove acc_now_delinq\n",
    "loan.drop('acc_now_delinq', axis=1, inplace=True)"
   ]
  },
  {
   "cell_type": "markdown",
   "metadata": {
    "colab_type": "text",
    "id": "fedpr-ycntpK"
   },
   "source": [
    "### 1.5 Remove the missing values"
   ]
  },
  {
   "cell_type": "code",
   "execution_count": 57,
   "metadata": {
    "colab": {},
    "colab_type": "code",
    "id": "9X0bkeN-n5HD"
   },
   "outputs": [],
   "source": [
    "loan.dropna(inplace=True)"
   ]
  },
  {
   "cell_type": "code",
   "execution_count": 58,
   "metadata": {
    "colab": {
     "base_uri": "https://localhost:8080/",
     "height": 54
    },
    "colab_type": "code",
    "id": "_kx68TfTn_JA",
    "outputId": "67cda665-7c5d-4d53-d170-44ca570a8846"
   },
   "outputs": [
    {
     "data": {
      "text/plain": [
       "8.268499634917038"
      ]
     },
     "execution_count": 58,
     "metadata": {},
     "output_type": "execute_result"
    }
   ],
   "source": [
    "(39717-36433)/39717*100"
   ]
  },
  {
   "cell_type": "markdown",
   "metadata": {
    "colab_type": "text",
    "id": "8_YFEDlfoUdK"
   },
   "source": [
    "Only 8% of the data was remove"
   ]
  },
  {
   "cell_type": "markdown",
   "metadata": {
    "colab_type": "text",
    "id": "sTAkscsBodYV"
   },
   "source": [
    "### 1.6 Convert to lower case"
   ]
  },
  {
   "cell_type": "code",
   "execution_count": 59,
   "metadata": {
    "colab": {},
    "colab_type": "code",
    "id": "857FLEvbmImM"
   },
   "outputs": [],
   "source": [
    "loan.emp_title = loan.emp_title.apply(lambda x: x.lower())\n",
    "loan.home_ownership = loan.home_ownership.apply(lambda x: x.lower())\n",
    "loan.verification_status = loan.verification_status.apply(lambda x: x.lower())\n",
    "loan.loan_status = loan.loan_status.apply(lambda x: x.lower())\n",
    "loan.purpose = loan.purpose.apply(lambda x: x.lower())\n",
    "loan.title = loan.title.apply(lambda x: x.lower())"
   ]
  },
  {
   "cell_type": "markdown",
   "metadata": {
    "colab_type": "text",
    "id": "qj7OVgS7olV_"
   },
   "source": [
    "### 1.7 Remove the % sign from the int_rate column"
   ]
  },
  {
   "cell_type": "code",
   "execution_count": 60,
   "metadata": {
    "colab": {},
    "colab_type": "code",
    "id": "ONR7MvyRok5_"
   },
   "outputs": [],
   "source": [
    "loan.int_rate = loan.int_rate.apply(lambda x: x.rstrip('%'))"
   ]
  },
  {
   "cell_type": "code",
   "execution_count": 61,
   "metadata": {
    "colab": {
     "base_uri": "https://localhost:8080/",
     "height": 139
    },
    "colab_type": "code",
    "id": "5SFveZVumIrJ",
    "outputId": "82d9dcd4-c11f-4dc4-e2f3-8a9352e9bc88"
   },
   "outputs": [
    {
     "data": {
      "text/plain": [
       "1    15.27\n",
       "3    13.49\n",
       "4    12.69\n",
       "5     7.90\n",
       "6    15.96\n",
       "Name: int_rate, dtype: object"
      ]
     },
     "execution_count": 61,
     "metadata": {},
     "output_type": "execute_result"
    }
   ],
   "source": [
    "loan.int_rate.head()"
   ]
  },
  {
   "cell_type": "code",
   "execution_count": 62,
   "metadata": {
    "colab": {},
    "colab_type": "code",
    "id": "zCfmHUSdo_aA"
   },
   "outputs": [],
   "source": [
    "loan.revol_util = loan.revol_util.apply(lambda x: x.rstrip('%'))"
   ]
  },
  {
   "cell_type": "code",
   "execution_count": 63,
   "metadata": {
    "colab": {
     "base_uri": "https://localhost:8080/",
     "height": 139
    },
    "colab_type": "code",
    "id": "5sZLmGD6p35R",
    "outputId": "56da2b78-e43d-4cc3-c887-6c261e48fcac"
   },
   "outputs": [
    {
     "data": {
      "text/plain": [
       "1     9.40\n",
       "3       21\n",
       "4    53.90\n",
       "5    28.30\n",
       "6    85.60\n",
       "Name: revol_util, dtype: object"
      ]
     },
     "execution_count": 63,
     "metadata": {},
     "output_type": "execute_result"
    }
   ],
   "source": [
    "loan.revol_util.head()"
   ]
  },
  {
   "cell_type": "markdown",
   "metadata": {
    "colab_type": "text",
    "id": "2RYvqoo-ptm1"
   },
   "source": [
    "### 1.8 Convert respective columns to datatime format"
   ]
  },
  {
   "cell_type": "code",
   "execution_count": 64,
   "metadata": {
    "colab": {},
    "colab_type": "code",
    "id": "TL_YFRxoo_Hb"
   },
   "outputs": [],
   "source": [
    "loan['issue_d']=pd.to_datetime(loan['issue_d'],format='%b-%y')\n",
    "loan['earliest_cr_line']=pd.to_datetime(loan['earliest_cr_line'],format='%b-%y')\n",
    "loan['last_pymnt_d']=pd.to_datetime(loan['last_pymnt_d'],format='%b-%y')\n",
    "loan['last_credit_pull_d']=pd.to_datetime(loan['last_credit_pull_d'],format='%b-%y')"
   ]
  },
  {
   "cell_type": "markdown",
   "metadata": {
    "colab_type": "text",
    "id": "WpExF0oSrs3l"
   },
   "source": [
    "### 1.9 Type change"
   ]
  },
  {
   "cell_type": "code",
   "execution_count": 65,
   "metadata": {
    "colab": {},
    "colab_type": "code",
    "id": "K4BEcjsjrw_K"
   },
   "outputs": [],
   "source": [
    "# convert int_rate to float\n",
    "loan.int_rate = loan.int_rate.astype('float')"
   ]
  },
  {
   "cell_type": "code",
   "execution_count": 66,
   "metadata": {
    "colab": {},
    "colab_type": "code",
    "id": "oTXsay9msNMO"
   },
   "outputs": [],
   "source": [
    "# Remove months from the term column and convert to int\n",
    "loan.term = loan.term.apply(lambda x: int(x.split()[0]))"
   ]
  },
  {
   "cell_type": "code",
   "execution_count": 67,
   "metadata": {
    "colab": {},
    "colab_type": "code",
    "id": "4-MTzThoqF7d"
   },
   "outputs": [],
   "source": [
    "# convert revol_util to float\n",
    "loan.revol_util = loan.revol_util.astype('float')"
   ]
  },
  {
   "cell_type": "markdown",
   "metadata": {
    "colab_type": "text",
    "id": "vlo7j-h5tAe4"
   },
   "source": [
    "### Overall view of the data\n",
    "The cleaning is done"
   ]
  },
  {
   "cell_type": "code",
   "execution_count": 68,
   "metadata": {
    "colab": {
     "base_uri": "https://localhost:8080/",
     "height": 751
    },
    "colab_type": "code",
    "id": "bMgnx1Ies6FV",
    "outputId": "9d21b5c9-b727-417f-ab91-95ad9358523e"
   },
   "outputs": [
    {
     "data": {
      "text/plain": [
       "pub_rec_bankruptcies      0.00\n",
       "dti                       0.00\n",
       "zip_code                  0.00\n",
       "title                     0.00\n",
       "purpose                   0.00\n",
       "loan_status               0.00\n",
       "issue_d                   0.00\n",
       "verification_status       0.00\n",
       "annual_inc                0.00\n",
       "home_ownership            0.00\n",
       "emp_length                0.00\n",
       "emp_title                 0.00\n",
       "sub_grade                 0.00\n",
       "grade                     0.00\n",
       "installment               0.00\n",
       "int_rate                  0.00\n",
       "term                      0.00\n",
       "funded_amnt_inv           0.00\n",
       "funded_amnt               0.00\n",
       "addr_state                0.00\n",
       "delinq_2yrs               0.00\n",
       "last_credit_pull_d        0.00\n",
       "earliest_cr_line          0.00\n",
       "last_pymnt_amnt           0.00\n",
       "last_pymnt_d              0.00\n",
       "collection_recovery_fee   0.00\n",
       "recoveries                0.00\n",
       "total_rec_late_fee        0.00\n",
       "total_rec_int             0.00\n",
       "total_rec_prncp           0.00\n",
       "total_pymnt_inv           0.00\n",
       "total_pymnt               0.00\n",
       "out_prncp_inv             0.00\n",
       "out_prncp                 0.00\n",
       "total_acc                 0.00\n",
       "revol_util                0.00\n",
       "revol_bal                 0.00\n",
       "pub_rec                   0.00\n",
       "open_acc                  0.00\n",
       "inq_last_6mths            0.00\n",
       "loan_amnt                 0.00\n",
       "dtype: float64"
      ]
     },
     "execution_count": 68,
     "metadata": {},
     "output_type": "execute_result"
    }
   ],
   "source": [
    "# summing up the missing values (column-wise) and displaying fraction of NaNs\n",
    "round(100*(loan.isnull().sum()/len(loan.index)), 2).sort_values(ascending=False)"
   ]
  },
  {
   "cell_type": "code",
   "execution_count": 69,
   "metadata": {
    "colab": {
     "base_uri": "https://localhost:8080/",
     "height": 394
    },
    "colab_type": "code",
    "id": "xdTRaKiTmIev",
    "outputId": "e6a9b25c-088a-4069-8c50-fafa3a25707a"
   },
   "outputs": [
    {
     "data": {
      "text/html": [
       "<div>\n",
       "<style scoped>\n",
       "    .dataframe tbody tr th:only-of-type {\n",
       "        vertical-align: middle;\n",
       "    }\n",
       "\n",
       "    .dataframe tbody tr th {\n",
       "        vertical-align: top;\n",
       "    }\n",
       "\n",
       "    .dataframe thead th {\n",
       "        text-align: right;\n",
       "    }\n",
       "</style>\n",
       "<table border=\"1\" class=\"dataframe\">\n",
       "  <thead>\n",
       "    <tr style=\"text-align: right;\">\n",
       "      <th></th>\n",
       "      <th>loan_amnt</th>\n",
       "      <th>funded_amnt</th>\n",
       "      <th>funded_amnt_inv</th>\n",
       "      <th>term</th>\n",
       "      <th>int_rate</th>\n",
       "      <th>installment</th>\n",
       "      <th>grade</th>\n",
       "      <th>sub_grade</th>\n",
       "      <th>emp_title</th>\n",
       "      <th>emp_length</th>\n",
       "      <th>home_ownership</th>\n",
       "      <th>annual_inc</th>\n",
       "      <th>verification_status</th>\n",
       "      <th>issue_d</th>\n",
       "      <th>loan_status</th>\n",
       "      <th>purpose</th>\n",
       "      <th>title</th>\n",
       "      <th>zip_code</th>\n",
       "      <th>addr_state</th>\n",
       "      <th>dti</th>\n",
       "      <th>delinq_2yrs</th>\n",
       "      <th>earliest_cr_line</th>\n",
       "      <th>inq_last_6mths</th>\n",
       "      <th>open_acc</th>\n",
       "      <th>pub_rec</th>\n",
       "      <th>revol_bal</th>\n",
       "      <th>revol_util</th>\n",
       "      <th>total_acc</th>\n",
       "      <th>out_prncp</th>\n",
       "      <th>out_prncp_inv</th>\n",
       "      <th>total_pymnt</th>\n",
       "      <th>total_pymnt_inv</th>\n",
       "      <th>total_rec_prncp</th>\n",
       "      <th>total_rec_int</th>\n",
       "      <th>total_rec_late_fee</th>\n",
       "      <th>recoveries</th>\n",
       "      <th>collection_recovery_fee</th>\n",
       "      <th>last_pymnt_d</th>\n",
       "      <th>last_pymnt_amnt</th>\n",
       "      <th>last_credit_pull_d</th>\n",
       "      <th>pub_rec_bankruptcies</th>\n",
       "    </tr>\n",
       "  </thead>\n",
       "  <tbody>\n",
       "    <tr>\n",
       "      <th>1</th>\n",
       "      <td>2500</td>\n",
       "      <td>2500</td>\n",
       "      <td>2500.00</td>\n",
       "      <td>60</td>\n",
       "      <td>15.27</td>\n",
       "      <td>59.83</td>\n",
       "      <td>C</td>\n",
       "      <td>C4</td>\n",
       "      <td>ryder</td>\n",
       "      <td>&lt; 1 year</td>\n",
       "      <td>rent</td>\n",
       "      <td>30000.00</td>\n",
       "      <td>source verified</td>\n",
       "      <td>2011-12-01</td>\n",
       "      <td>charged off</td>\n",
       "      <td>car</td>\n",
       "      <td>bike</td>\n",
       "      <td>309xx</td>\n",
       "      <td>GA</td>\n",
       "      <td>1.00</td>\n",
       "      <td>0</td>\n",
       "      <td>1999-04-01</td>\n",
       "      <td>5</td>\n",
       "      <td>3</td>\n",
       "      <td>0</td>\n",
       "      <td>1687</td>\n",
       "      <td>9.40</td>\n",
       "      <td>4</td>\n",
       "      <td>0.00</td>\n",
       "      <td>0.00</td>\n",
       "      <td>1008.71</td>\n",
       "      <td>1008.71</td>\n",
       "      <td>456.46</td>\n",
       "      <td>435.17</td>\n",
       "      <td>0.00</td>\n",
       "      <td>117.08</td>\n",
       "      <td>1.11</td>\n",
       "      <td>2013-04-01</td>\n",
       "      <td>119.66</td>\n",
       "      <td>2013-09-01</td>\n",
       "      <td>0.00</td>\n",
       "    </tr>\n",
       "    <tr>\n",
       "      <th>3</th>\n",
       "      <td>10000</td>\n",
       "      <td>10000</td>\n",
       "      <td>10000.00</td>\n",
       "      <td>36</td>\n",
       "      <td>13.49</td>\n",
       "      <td>339.31</td>\n",
       "      <td>C</td>\n",
       "      <td>C1</td>\n",
       "      <td>air resources board</td>\n",
       "      <td>10+ years</td>\n",
       "      <td>rent</td>\n",
       "      <td>49200.00</td>\n",
       "      <td>source verified</td>\n",
       "      <td>2011-12-01</td>\n",
       "      <td>fully paid</td>\n",
       "      <td>other</td>\n",
       "      <td>personel</td>\n",
       "      <td>917xx</td>\n",
       "      <td>CA</td>\n",
       "      <td>20.00</td>\n",
       "      <td>0</td>\n",
       "      <td>1996-02-01</td>\n",
       "      <td>1</td>\n",
       "      <td>10</td>\n",
       "      <td>0</td>\n",
       "      <td>5598</td>\n",
       "      <td>21.00</td>\n",
       "      <td>37</td>\n",
       "      <td>0.00</td>\n",
       "      <td>0.00</td>\n",
       "      <td>12231.89</td>\n",
       "      <td>12231.89</td>\n",
       "      <td>10000.00</td>\n",
       "      <td>2214.92</td>\n",
       "      <td>16.97</td>\n",
       "      <td>0.00</td>\n",
       "      <td>0.00</td>\n",
       "      <td>2015-01-01</td>\n",
       "      <td>357.48</td>\n",
       "      <td>2016-04-01</td>\n",
       "      <td>0.00</td>\n",
       "    </tr>\n",
       "    <tr>\n",
       "      <th>4</th>\n",
       "      <td>3000</td>\n",
       "      <td>3000</td>\n",
       "      <td>3000.00</td>\n",
       "      <td>60</td>\n",
       "      <td>12.69</td>\n",
       "      <td>67.79</td>\n",
       "      <td>B</td>\n",
       "      <td>B5</td>\n",
       "      <td>university medical group</td>\n",
       "      <td>1 year</td>\n",
       "      <td>rent</td>\n",
       "      <td>80000.00</td>\n",
       "      <td>source verified</td>\n",
       "      <td>2011-12-01</td>\n",
       "      <td>current</td>\n",
       "      <td>other</td>\n",
       "      <td>personal</td>\n",
       "      <td>972xx</td>\n",
       "      <td>OR</td>\n",
       "      <td>17.94</td>\n",
       "      <td>0</td>\n",
       "      <td>1996-01-01</td>\n",
       "      <td>0</td>\n",
       "      <td>15</td>\n",
       "      <td>0</td>\n",
       "      <td>27783</td>\n",
       "      <td>53.90</td>\n",
       "      <td>38</td>\n",
       "      <td>524.06</td>\n",
       "      <td>524.06</td>\n",
       "      <td>3513.33</td>\n",
       "      <td>3513.33</td>\n",
       "      <td>2475.94</td>\n",
       "      <td>1037.39</td>\n",
       "      <td>0.00</td>\n",
       "      <td>0.00</td>\n",
       "      <td>0.00</td>\n",
       "      <td>2016-05-01</td>\n",
       "      <td>67.79</td>\n",
       "      <td>2016-05-01</td>\n",
       "      <td>0.00</td>\n",
       "    </tr>\n",
       "    <tr>\n",
       "      <th>5</th>\n",
       "      <td>5000</td>\n",
       "      <td>5000</td>\n",
       "      <td>5000.00</td>\n",
       "      <td>36</td>\n",
       "      <td>7.90</td>\n",
       "      <td>156.46</td>\n",
       "      <td>A</td>\n",
       "      <td>A4</td>\n",
       "      <td>veolia transportaton</td>\n",
       "      <td>3 years</td>\n",
       "      <td>rent</td>\n",
       "      <td>36000.00</td>\n",
       "      <td>source verified</td>\n",
       "      <td>2011-12-01</td>\n",
       "      <td>fully paid</td>\n",
       "      <td>wedding</td>\n",
       "      <td>my wedding loan i promise to pay back</td>\n",
       "      <td>852xx</td>\n",
       "      <td>AZ</td>\n",
       "      <td>11.20</td>\n",
       "      <td>0</td>\n",
       "      <td>2004-11-01</td>\n",
       "      <td>3</td>\n",
       "      <td>9</td>\n",
       "      <td>0</td>\n",
       "      <td>7963</td>\n",
       "      <td>28.30</td>\n",
       "      <td>12</td>\n",
       "      <td>0.00</td>\n",
       "      <td>0.00</td>\n",
       "      <td>5632.21</td>\n",
       "      <td>5632.21</td>\n",
       "      <td>5000.00</td>\n",
       "      <td>632.21</td>\n",
       "      <td>0.00</td>\n",
       "      <td>0.00</td>\n",
       "      <td>0.00</td>\n",
       "      <td>2015-01-01</td>\n",
       "      <td>161.03</td>\n",
       "      <td>2016-01-01</td>\n",
       "      <td>0.00</td>\n",
       "    </tr>\n",
       "    <tr>\n",
       "      <th>6</th>\n",
       "      <td>7000</td>\n",
       "      <td>7000</td>\n",
       "      <td>7000.00</td>\n",
       "      <td>60</td>\n",
       "      <td>15.96</td>\n",
       "      <td>170.08</td>\n",
       "      <td>C</td>\n",
       "      <td>C5</td>\n",
       "      <td>southern star photography</td>\n",
       "      <td>8 years</td>\n",
       "      <td>rent</td>\n",
       "      <td>47004.00</td>\n",
       "      <td>not verified</td>\n",
       "      <td>2011-12-01</td>\n",
       "      <td>fully paid</td>\n",
       "      <td>debt_consolidation</td>\n",
       "      <td>loan</td>\n",
       "      <td>280xx</td>\n",
       "      <td>NC</td>\n",
       "      <td>23.51</td>\n",
       "      <td>0</td>\n",
       "      <td>2005-07-01</td>\n",
       "      <td>1</td>\n",
       "      <td>7</td>\n",
       "      <td>0</td>\n",
       "      <td>17726</td>\n",
       "      <td>85.60</td>\n",
       "      <td>11</td>\n",
       "      <td>0.00</td>\n",
       "      <td>0.00</td>\n",
       "      <td>10110.84</td>\n",
       "      <td>10110.84</td>\n",
       "      <td>6985.61</td>\n",
       "      <td>3125.23</td>\n",
       "      <td>0.00</td>\n",
       "      <td>0.00</td>\n",
       "      <td>0.00</td>\n",
       "      <td>2016-05-01</td>\n",
       "      <td>1313.76</td>\n",
       "      <td>2016-05-01</td>\n",
       "      <td>0.00</td>\n",
       "    </tr>\n",
       "  </tbody>\n",
       "</table>\n",
       "</div>"
      ],
      "text/plain": [
       "   loan_amnt  funded_amnt  funded_amnt_inv  term  int_rate  installment grade  \\\n",
       "1       2500         2500          2500.00    60     15.27        59.83     C   \n",
       "3      10000        10000         10000.00    36     13.49       339.31     C   \n",
       "4       3000         3000          3000.00    60     12.69        67.79     B   \n",
       "5       5000         5000          5000.00    36      7.90       156.46     A   \n",
       "6       7000         7000          7000.00    60     15.96       170.08     C   \n",
       "\n",
       "  sub_grade                  emp_title emp_length home_ownership  annual_inc  \\\n",
       "1        C4                      ryder   < 1 year           rent    30000.00   \n",
       "3        C1        air resources board  10+ years           rent    49200.00   \n",
       "4        B5   university medical group     1 year           rent    80000.00   \n",
       "5        A4       veolia transportaton    3 years           rent    36000.00   \n",
       "6        C5  southern star photography    8 years           rent    47004.00   \n",
       "\n",
       "  verification_status    issue_d  loan_status             purpose  \\\n",
       "1     source verified 2011-12-01  charged off                 car   \n",
       "3     source verified 2011-12-01   fully paid               other   \n",
       "4     source verified 2011-12-01      current               other   \n",
       "5     source verified 2011-12-01   fully paid             wedding   \n",
       "6        not verified 2011-12-01   fully paid  debt_consolidation   \n",
       "\n",
       "                                   title zip_code addr_state   dti  \\\n",
       "1                                   bike    309xx         GA  1.00   \n",
       "3                               personel    917xx         CA 20.00   \n",
       "4                               personal    972xx         OR 17.94   \n",
       "5  my wedding loan i promise to pay back    852xx         AZ 11.20   \n",
       "6                                   loan    280xx         NC 23.51   \n",
       "\n",
       "   delinq_2yrs earliest_cr_line  inq_last_6mths  open_acc  pub_rec  revol_bal  \\\n",
       "1            0       1999-04-01               5         3        0       1687   \n",
       "3            0       1996-02-01               1        10        0       5598   \n",
       "4            0       1996-01-01               0        15        0      27783   \n",
       "5            0       2004-11-01               3         9        0       7963   \n",
       "6            0       2005-07-01               1         7        0      17726   \n",
       "\n",
       "   revol_util  total_acc  out_prncp  out_prncp_inv  total_pymnt  \\\n",
       "1        9.40          4       0.00           0.00      1008.71   \n",
       "3       21.00         37       0.00           0.00     12231.89   \n",
       "4       53.90         38     524.06         524.06      3513.33   \n",
       "5       28.30         12       0.00           0.00      5632.21   \n",
       "6       85.60         11       0.00           0.00     10110.84   \n",
       "\n",
       "   total_pymnt_inv  total_rec_prncp  total_rec_int  total_rec_late_fee  \\\n",
       "1          1008.71           456.46         435.17                0.00   \n",
       "3         12231.89         10000.00        2214.92               16.97   \n",
       "4          3513.33          2475.94        1037.39                0.00   \n",
       "5          5632.21          5000.00         632.21                0.00   \n",
       "6         10110.84          6985.61        3125.23                0.00   \n",
       "\n",
       "   recoveries  collection_recovery_fee last_pymnt_d  last_pymnt_amnt  \\\n",
       "1      117.08                     1.11   2013-04-01           119.66   \n",
       "3        0.00                     0.00   2015-01-01           357.48   \n",
       "4        0.00                     0.00   2016-05-01            67.79   \n",
       "5        0.00                     0.00   2015-01-01           161.03   \n",
       "6        0.00                     0.00   2016-05-01          1313.76   \n",
       "\n",
       "  last_credit_pull_d  pub_rec_bankruptcies  \n",
       "1         2013-09-01                  0.00  \n",
       "3         2016-04-01                  0.00  \n",
       "4         2016-05-01                  0.00  \n",
       "5         2016-01-01                  0.00  \n",
       "6         2016-05-01                  0.00  "
      ]
     },
     "execution_count": 69,
     "metadata": {},
     "output_type": "execute_result"
    }
   ],
   "source": [
    "loan.head()"
   ]
  },
  {
   "cell_type": "code",
   "execution_count": 70,
   "metadata": {
    "colab": {
     "base_uri": "https://localhost:8080/",
     "height": 54
    },
    "colab_type": "code",
    "id": "OoUoY2LwBXBn",
    "outputId": "70887ee1-40c0-4a99-a25a-0fc5201228ea"
   },
   "outputs": [
    {
     "data": {
      "text/plain": [
       "(36433, 41)"
      ]
     },
     "execution_count": 70,
     "metadata": {},
     "output_type": "execute_result"
    }
   ],
   "source": [
    "loan.shape"
   ]
  },
  {
   "cell_type": "markdown",
   "metadata": {
    "colab_type": "text",
    "id": "BFlpZ94E0Aes"
   },
   "source": [
    "## Checkpoint 2: Data analysis"
   ]
  },
  {
   "cell_type": "markdown",
   "metadata": {
    "colab_type": "text",
    "id": "zLGaM_taBW2i"
   },
   "source": [
    "### 2.1 Univariate Analysis - Unordered Categorical"
   ]
  },
  {
   "cell_type": "markdown",
   "metadata": {
    "colab_type": "text",
    "id": "eA207XviK1iH"
   },
   "source": [
    "#### term"
   ]
  },
  {
   "cell_type": "code",
   "execution_count": 71,
   "metadata": {
    "colab": {
     "base_uri": "https://localhost:8080/",
     "height": 34
    },
    "colab_type": "code",
    "id": "9R7r_HXZ6YHs",
    "outputId": "222ace1a-86ff-4584-9640-b97edaae9647"
   },
   "outputs": [
    {
     "data": {
      "text/plain": [
       "array([60, 36], dtype=int64)"
      ]
     },
     "execution_count": 71,
     "metadata": {},
     "output_type": "execute_result"
    }
   ],
   "source": [
    "# Look at the unique values present in term\n",
    "loan.term.unique()"
   ]
  },
  {
   "cell_type": "code",
   "execution_count": 72,
   "metadata": {
    "colab": {
     "base_uri": "https://localhost:8080/",
     "height": 300
    },
    "colab_type": "code",
    "id": "kSj1ojHS656y",
    "outputId": "a1957cac-bbbf-4238-dd74-9f1571b97144"
   },
   "outputs": [
    {
     "data": {
      "text/plain": [
       "<matplotlib.axes._subplots.AxesSubplot at 0x186eb4efb00>"
      ]
     },
     "execution_count": 72,
     "metadata": {},
     "output_type": "execute_result"
    },
    {
     "data": {
      "image/png": "[encoded data removed]",
      "text/plain": [
       "<Figure size 432x288 with 1 Axes>"
      ]
     },
     "metadata": {
      "needs_background": "light"
     },
     "output_type": "display_data"
    }
   ],
   "source": [
    "fig, ax = plt.subplots()\n",
    "sns.countplot(loan['term'])"
   ]
  },
  {
   "cell_type": "markdown",
   "metadata": {
    "colab_type": "text",
    "id": "Jw0sHaTK7zG7"
   },
   "source": [
    "From the above plot we can see that most of the people have a term of 36 months"
   ]
  },
  {
   "cell_type": "markdown",
   "metadata": {
    "colab_type": "text",
    "id": "hn67NemB8WAj"
   },
   "source": [
    "#### home_ownership"
   ]
  },
  {
   "cell_type": "code",
   "execution_count": 73,
   "metadata": {
    "colab": {
     "base_uri": "https://localhost:8080/",
     "height": 102
    },
    "colab_type": "code",
    "id": "3mqEqAlk8a6i",
    "outputId": "7f08010c-094d-422b-bf4e-bbc8f7eed06f"
   },
   "outputs": [
    {
     "data": {
      "text/plain": [
       "rent        17464\n",
       "mortgage    16300\n",
       "own          2575\n",
       "other          94\n",
       "Name: home_ownership, dtype: int64"
      ]
     },
     "execution_count": 73,
     "metadata": {},
     "output_type": "execute_result"
    }
   ],
   "source": [
    "# Frequency of each home_ownership type\n",
    "loan.home_ownership.value_counts()"
   ]
  },
  {
   "cell_type": "markdown",
   "metadata": {
    "colab_type": "text",
    "id": "phzqx8hS8hMR"
   },
   "source": [
    "Most of the people have ownership of their house as 'rent' followed by 'mortage'"
   ]
  },
  {
   "cell_type": "code",
   "execution_count": 74,
   "metadata": {
    "colab": {
     "base_uri": "https://localhost:8080/",
     "height": 301
    },
    "colab_type": "code",
    "id": "Zo4ZnfiC87gn",
    "outputId": "ae37f6f7-d8ad-402b-b72b-6930a6a4411d"
   },
   "outputs": [
    {
     "data": {
      "text/plain": [
       "<matplotlib.axes._subplots.AxesSubplot at 0x186e9c89908>"
      ]
     },
     "execution_count": 74,
     "metadata": {},
     "output_type": "execute_result"
    },
    {
     "data": {
      "image/png": "[encoded data removed]",
      "text/plain": [
       "<Figure size 432x288 with 1 Axes>"
      ]
     },
     "metadata": {
      "needs_background": "light"
     },
     "output_type": "display_data"
    }
   ],
   "source": [
    "sns.countplot(loan['home_ownership'])"
   ]
  },
  {
   "cell_type": "markdown",
   "metadata": {
    "colab_type": "text",
    "id": "85nxF1tz9J3Z"
   },
   "source": [
    "#### verification_status"
   ]
  },
  {
   "cell_type": "code",
   "execution_count": 75,
   "metadata": {
    "colab": {
     "base_uri": "https://localhost:8080/",
     "height": 85
    },
    "colab_type": "code",
    "id": "roOz0exZ9O9Y",
    "outputId": "5ac2b5c1-96aa-4624-fce1-69cc2123aa94"
   },
   "outputs": [
    {
     "data": {
      "text/plain": [
       "not verified       15056\n",
       "verified           11926\n",
       "source verified     9451\n",
       "Name: verification_status, dtype: int64"
      ]
     },
     "execution_count": 75,
     "metadata": {},
     "output_type": "execute_result"
    }
   ],
   "source": [
    "# Frequency of each verification_status\n",
    "loan.verification_status.value_counts()"
   ]
  },
  {
   "cell_type": "markdown",
   "metadata": {
    "colab_type": "text",
    "id": "QpdgJIWo9T5z"
   },
   "source": [
    "Here we can see that most of the applications are not verified by the LC, and the remaining are source verified"
   ]
  },
  {
   "cell_type": "code",
   "execution_count": 76,
   "metadata": {
    "colab": {
     "base_uri": "https://localhost:8080/",
     "height": 301
    },
    "colab_type": "code",
    "id": "p_ubyX7a-BQk",
    "outputId": "1e578737-8820-4a92-9ce9-08f2c779764f"
   },
   "outputs": [
    {
     "data": {
      "text/plain": [
       "<matplotlib.axes._subplots.AxesSubplot at 0x186e9cf2320>"
      ]
     },
     "execution_count": 76,
     "metadata": {},
     "output_type": "execute_result"
    },
    {
     "data": {
      "image/png": "[encoded data removed]",
      "text/plain": [
       "<Figure size 432x288 with 1 Axes>"
      ]
     },
     "metadata": {
      "needs_background": "light"
     },
     "output_type": "display_data"
    }
   ],
   "source": [
    "sns.countplot(loan['verification_status'])"
   ]
  },
  {
   "cell_type": "markdown",
   "metadata": {
    "colab_type": "text",
    "id": "T7KfgarS-BxA"
   },
   "source": [
    "#### loan_status"
   ]
  },
  {
   "cell_type": "code",
   "execution_count": 77,
   "metadata": {
    "colab": {
     "base_uri": "https://localhost:8080/",
     "height": 85
    },
    "colab_type": "code",
    "id": "TApDWLIQ-P5g",
    "outputId": "b8d6d4a8-da7b-49a3-faef-226ef9593cba"
   },
   "outputs": [
    {
     "data": {
      "text/plain": [
       "fully paid     30424\n",
       "charged off     4943\n",
       "current         1066\n",
       "Name: loan_status, dtype: int64"
      ]
     },
     "execution_count": 77,
     "metadata": {},
     "output_type": "execute_result"
    }
   ],
   "source": [
    "# Frequency of each loan_status\n",
    "loan.loan_status.value_counts()"
   ]
  },
  {
   "cell_type": "code",
   "execution_count": 78,
   "metadata": {
    "colab": {
     "base_uri": "https://localhost:8080/",
     "height": 34
    },
    "colab_type": "code",
    "id": "qwvhKZa7-SFO",
    "outputId": "81765214-11ba-46f1-e91f-4831b7603a92"
   },
   "outputs": [
    {
     "data": {
      "text/plain": [
       "13.57"
      ]
     },
     "execution_count": 78,
     "metadata": {},
     "output_type": "execute_result"
    }
   ],
   "source": [
    "round((loan.loan_status=='charged off').sum()/len(loan)*100, 2)"
   ]
  },
  {
   "cell_type": "markdown",
   "metadata": {
    "colab_type": "text",
    "id": "3iLbZvDkAsNu"
   },
   "source": [
    "13.57% of the data we have has loan_status = charged off"
   ]
  },
  {
   "cell_type": "code",
   "execution_count": 79,
   "metadata": {
    "colab": {
     "base_uri": "https://localhost:8080/",
     "height": 301
    },
    "colab_type": "code",
    "id": "3d2PRhmhBEt6",
    "outputId": "1708067c-960b-44e4-a18b-7312cad0eab0"
   },
   "outputs": [
    {
     "data": {
      "text/plain": [
       "<matplotlib.axes._subplots.AxesSubplot at 0x186ea000f98>"
      ]
     },
     "execution_count": 79,
     "metadata": {},
     "output_type": "execute_result"
    },
    {
     "data": {
      "image/png": "[encoded data removed]",
      "text/plain": [
       "<Figure size 432x288 with 1 Axes>"
      ]
     },
     "metadata": {
      "needs_background": "light"
     },
     "output_type": "display_data"
    }
   ],
   "source": [
    "sns.countplot(loan.loan_status)"
   ]
  },
  {
   "cell_type": "markdown",
   "metadata": {
    "colab_type": "text",
    "id": "M5m1VLzJ4TTd"
   },
   "source": [
    "#### purpose"
   ]
  },
  {
   "cell_type": "code",
   "execution_count": 80,
   "metadata": {
    "colab": {
     "base_uri": "https://localhost:8080/",
     "height": 272
    },
    "colab_type": "code",
    "id": "edQctv5r4Vs1",
    "outputId": "81cdd00d-d5c5-4984-b672-e91e6fab0a79"
   },
   "outputs": [
    {
     "data": {
      "text/plain": [
       "debt_consolidation    17470\n",
       "credit_card            4726\n",
       "other                  3575\n",
       "home_improvement       2705\n",
       "major_purchase         2008\n",
       "car                    1443\n",
       "small_business         1414\n",
       "wedding                 886\n",
       "medical                 634\n",
       "moving                  529\n",
       "house                   343\n",
       "vacation                336\n",
       "educational             276\n",
       "renewable_energy         88\n",
       "Name: purpose, dtype: int64"
      ]
     },
     "execution_count": 80,
     "metadata": {},
     "output_type": "execute_result"
    }
   ],
   "source": [
    "# Frequency of each purpose\n",
    "loan.purpose.value_counts()"
   ]
  },
  {
   "cell_type": "code",
   "execution_count": 81,
   "metadata": {
    "colab": {
     "base_uri": "https://localhost:8080/",
     "height": 627
    },
    "colab_type": "code",
    "id": "Uy_YRVwT4Vzy",
    "outputId": "ac046cda-21cc-4cd5-ed9d-99be04c1fce1"
   },
   "outputs": [
    {
     "data": {
      "text/plain": [
       "<matplotlib.axes._subplots.AxesSubplot at 0x186e9d97550>"
      ]
     },
     "execution_count": 81,
     "metadata": {},
     "output_type": "execute_result"
    },
    {
     "data": {
      "image/png": "[encoded data removed]",
      "text/plain": [
       "<Figure size 1440x720 with 1 Axes>"
      ]
     },
     "metadata": {
      "needs_background": "light"
     },
     "output_type": "display_data"
    }
   ],
   "source": [
    "fig, ax = plt.subplots(figsize=(20,10))\n",
    "sns.countplot(loan.purpose)"
   ]
  },
  {
   "cell_type": "markdown",
   "metadata": {
    "colab_type": "text",
    "id": "zz7cJvtn4lTN"
   },
   "source": [
    "Frequency for Debt Consolidation is the highest followed by credit card."
   ]
  },
  {
   "cell_type": "markdown",
   "metadata": {
    "colab_type": "text",
    "id": "_XvdSL7lcG6u"
   },
   "source": [
    "#### addr_state"
   ]
  },
  {
   "cell_type": "code",
   "execution_count": 82,
   "metadata": {
    "colab": {
     "base_uri": "https://localhost:8080/",
     "height": 102
    },
    "colab_type": "code",
    "id": "EAqysV6pcIrD",
    "outputId": "8fbf1139-32ea-4584-8a7a-f91d09af72d9"
   },
   "outputs": [
    {
     "data": {
      "text/plain": [
       "array(['GA', 'CA', 'OR', 'AZ', 'NC', 'TX', 'VA', 'IL', 'MO', 'CT', 'UT',\n",
       "       'FL', 'PA', 'MN', 'NJ', 'KY', 'OH', 'SC', 'RI', 'LA', 'MA', 'NY',\n",
       "       'WA', 'WI', 'AL', 'CO', 'KS', 'NV', 'AK', 'MD', 'WV', 'VT', 'MI',\n",
       "       'DC', 'NH', 'AR', 'NM', 'MT', 'HI', 'WY', 'OK', 'SD', 'DE', 'MS',\n",
       "       'TN', 'IA', 'NE', 'ID', 'IN'], dtype=object)"
      ]
     },
     "execution_count": 82,
     "metadata": {},
     "output_type": "execute_result"
    }
   ],
   "source": [
    "# Unique values in addr_state column\n",
    "loan.addr_state.unique()"
   ]
  },
  {
   "cell_type": "code",
   "execution_count": 83,
   "metadata": {
    "colab": {
     "base_uri": "https://localhost:8080/",
     "height": 627
    },
    "colab_type": "code",
    "id": "tpYZqH4CcJc8",
    "outputId": "14e328fd-7200-46e6-ae0a-ffc97e81bcf0"
   },
   "outputs": [
    {
     "data": {
      "text/plain": [
       "<matplotlib.axes._subplots.AxesSubplot at 0x186e9de12b0>"
      ]
     },
     "execution_count": 83,
     "metadata": {},
     "output_type": "execute_result"
    },
    {
     "data": {
      "image/png": "[encoded data removed]",
      "text/plain": [
       "<Figure size 1440x720 with 1 Axes>"
      ]
     },
     "metadata": {
      "needs_background": "light"
     },
     "output_type": "display_data"
    }
   ],
   "source": [
    "fig = plt.figure(figsize=(20,10))\n",
    "sns.countplot(loan.addr_state)"
   ]
  },
  {
   "cell_type": "markdown",
   "metadata": {
    "colab_type": "text",
    "id": "JhzHzGVRcIys"
   },
   "source": [
    "Most of the loan applications are from CA, NY and FL."
   ]
  },
  {
   "cell_type": "markdown",
   "metadata": {
    "colab_type": "text",
    "id": "Gsnqeux3cI8n"
   },
   "source": [
    "#### pub_rec"
   ]
  },
  {
   "cell_type": "code",
   "execution_count": 84,
   "metadata": {
    "colab": {
     "base_uri": "https://localhost:8080/",
     "height": 34
    },
    "colab_type": "code",
    "id": "ks8g5xLEcmoa",
    "outputId": "7e6a6b86-0edf-4dca-b590-dd495d94968f"
   },
   "outputs": [
    {
     "data": {
      "text/plain": [
       "array([0, 1, 2, 3, 4], dtype=int64)"
      ]
     },
     "execution_count": 84,
     "metadata": {},
     "output_type": "execute_result"
    }
   ],
   "source": [
    "# Unique value sin pub_rec column\n",
    "loan.pub_rec.unique()"
   ]
  },
  {
   "cell_type": "code",
   "execution_count": 85,
   "metadata": {
    "colab": {
     "base_uri": "https://localhost:8080/",
     "height": 301
    },
    "colab_type": "code",
    "id": "_Vyg-vBbcmvf",
    "outputId": "ad878ed3-18de-45cf-d241-2dd0ec98ba13"
   },
   "outputs": [
    {
     "data": {
      "text/plain": [
       "<matplotlib.axes._subplots.AxesSubplot at 0x186eb4f3ac8>"
      ]
     },
     "execution_count": 85,
     "metadata": {},
     "output_type": "execute_result"
    },
    {
     "data": {
      "image/png": "[encoded data removed]",
      "text/plain": [
       "<Figure size 432x288 with 1 Axes>"
      ]
     },
     "metadata": {
      "needs_background": "light"
     },
     "output_type": "display_data"
    }
   ],
   "source": [
    "sns.countplot(loan.pub_rec)"
   ]
  },
  {
   "cell_type": "markdown",
   "metadata": {
    "colab_type": "text",
    "id": "9fQsXb-Gdb8Z"
   },
   "source": [
    "As the number of pub_rec increase the number of applications for the loan decreases"
   ]
  },
  {
   "cell_type": "markdown",
   "metadata": {
    "colab_type": "text",
    "id": "RqPX3zv8BHBK"
   },
   "source": [
    "### 2.2 Univariate Analysis - Ordered Categorical\n",
    "\n"
   ]
  },
  {
   "cell_type": "markdown",
   "metadata": {
    "colab_type": "text",
    "id": "lF3RQzTUpTri"
   },
   "source": [
    "#### emp_length"
   ]
  },
  {
   "cell_type": "code",
   "execution_count": 86,
   "metadata": {
    "colab": {
     "base_uri": "https://localhost:8080/",
     "height": 221
    },
    "colab_type": "code",
    "id": "CYx81M9BpUFv",
    "outputId": "f6b0bb37-2ea9-4586-c8de-df5e19d19216"
   },
   "outputs": [
    {
     "data": {
      "text/plain": [
       "10+ years    8407\n",
       "2 years      4178\n",
       "< 1 year     4052\n",
       "3 years      3914\n",
       "4 years      3297\n",
       "5 years      3129\n",
       "1 year       3026\n",
       "6 years      2121\n",
       "7 years      1697\n",
       "8 years      1405\n",
       "9 years      1207\n",
       "Name: emp_length, dtype: int64"
      ]
     },
     "execution_count": 86,
     "metadata": {},
     "output_type": "execute_result"
    }
   ],
   "source": [
    "# Frequency for each emp_length\n",
    "loan.emp_length.value_counts()"
   ]
  },
  {
   "cell_type": "code",
   "execution_count": 87,
   "metadata": {
    "colab": {
     "base_uri": "https://localhost:8080/",
     "height": 627
    },
    "colab_type": "code",
    "id": "yFd4AP9vpUOd",
    "outputId": "6ed650c1-333a-4e32-dded-c8897f450566"
   },
   "outputs": [
    {
     "data": {
      "text/plain": [
       "<matplotlib.axes._subplots.AxesSubplot at 0x186eb8dea58>"
      ]
     },
     "execution_count": 87,
     "metadata": {},
     "output_type": "execute_result"
    },
    {
     "data": {
      "image/png": "[encoded data removed]",
      "text/plain": [
       "<Figure size 720x720 with 1 Axes>"
      ]
     },
     "metadata": {
      "needs_background": "light"
     },
     "output_type": "display_data"
    }
   ],
   "source": [
    "fig, ax = plt.subplots(figsize=(10,10))\n",
    "sns.countplot(loan.emp_length)"
   ]
  },
  {
   "cell_type": "markdown",
   "metadata": {
    "colab_type": "text",
    "id": "N2Vgs5nJp10h"
   },
   "source": [
    "We can see that most of people have emp_length 10+ years, which implies that their experience is 10 or greater than 10 years."
   ]
  },
  {
   "cell_type": "markdown",
   "metadata": {
    "colab_type": "text",
    "id": "dcQX1rtPcbIb"
   },
   "source": [
    "#### grade"
   ]
  },
  {
   "cell_type": "code",
   "execution_count": 88,
   "metadata": {
    "colab": {
     "base_uri": "https://localhost:8080/",
     "height": 153
    },
    "colab_type": "code",
    "id": "z5-mcRw5cdnr",
    "outputId": "2c74cc11-079b-49fd-a5fc-6b44f862f66b"
   },
   "outputs": [
    {
     "data": {
      "text/plain": [
       "B    11035\n",
       "A     9175\n",
       "C     7431\n",
       "D     4875\n",
       "E     2650\n",
       "F      969\n",
       "G      298\n",
       "Name: grade, dtype: int64"
      ]
     },
     "execution_count": 88,
     "metadata": {},
     "output_type": "execute_result"
    }
   ],
   "source": [
    "# Frequency for each grade\n",
    "loan.grade.value_counts()"
   ]
  },
  {
   "cell_type": "code",
   "execution_count": 89,
   "metadata": {
    "colab": {
     "base_uri": "https://localhost:8080/",
     "height": 300
    },
    "colab_type": "code",
    "id": "Ey5gNTozchfv",
    "outputId": "b25b6ecd-9e33-496a-873b-abee32136dc6"
   },
   "outputs": [
    {
     "data": {
      "text/plain": [
       "<matplotlib.axes._subplots.AxesSubplot at 0x186ecd14d30>"
      ]
     },
     "execution_count": 89,
     "metadata": {},
     "output_type": "execute_result"
    },
    {
     "data": {
      "image/png": "[encoded data removed]",
      "text/plain": [
       "<Figure size 432x288 with 1 Axes>"
      ]
     },
     "metadata": {
      "needs_background": "light"
     },
     "output_type": "display_data"
    }
   ],
   "source": [
    "sns.countplot(loan.grade)"
   ]
  },
  {
   "cell_type": "markdown",
   "metadata": {
    "colab_type": "text",
    "id": "qZalZchgNoqN"
   },
   "source": [
    "Frequency of grade B is the highest followed by A"
   ]
  },
  {
   "cell_type": "markdown",
   "metadata": {
    "colab_type": "text",
    "id": "eaka_odMfRuf"
   },
   "source": [
    "#### sub_grade"
   ]
  },
  {
   "cell_type": "code",
   "execution_count": 90,
   "metadata": {
    "colab": {
     "base_uri": "https://localhost:8080/",
     "height": 629
    },
    "colab_type": "code",
    "id": "BqIJBp_yhhXF",
    "outputId": "3a35ecf0-9334-43c6-d240-3e5e9f4b6a77"
   },
   "outputs": [
    {
     "data": {
      "text/plain": [
       "B3    2674\n",
       "A4    2673\n",
       "B5    2529\n",
       "A5    2511\n",
       "B4    2319\n",
       "C1    1949\n",
       "B2    1870\n",
       "C2    1870\n",
       "B1    1643\n",
       "A3    1630\n",
       "C3    1406\n",
       "A2    1356\n",
       "D2    1245\n",
       "C4    1124\n",
       "C5    1082\n",
       "D3    1078\n",
       "A1    1005\n",
       "D4     905\n",
       "D1     846\n",
       "D5     801\n",
       "E1     729\n",
       "E2     606\n",
       "E3     516\n",
       "E4     423\n",
       "E5     376\n",
       "F1     315\n",
       "F2     230\n",
       "F3     170\n",
       "F4     151\n",
       "F5     103\n",
       "G1      98\n",
       "G2      75\n",
       "G4      56\n",
       "G3      44\n",
       "G5      25\n",
       "Name: sub_grade, dtype: int64"
      ]
     },
     "execution_count": 90,
     "metadata": {},
     "output_type": "execute_result"
    }
   ],
   "source": [
    "# Frequency for each sub_grade\n",
    "loan.sub_grade.value_counts().sort_values(ascending=False)"
   ]
  },
  {
   "cell_type": "code",
   "execution_count": 91,
   "metadata": {
    "colab": {
     "base_uri": "https://localhost:8080/",
     "height": 627
    },
    "colab_type": "code",
    "id": "SopeNErLhi4G",
    "outputId": "24f20c86-2121-488b-a916-c3f3b2d5c134"
   },
   "outputs": [
    {
     "data": {
      "text/plain": [
       "<matplotlib.axes._subplots.AxesSubplot at 0x186edb0cda0>"
      ]
     },
     "execution_count": 91,
     "metadata": {},
     "output_type": "execute_result"
    },
    {
     "data": {
      "image/png": "[encoded data removed]",
      "text/plain": [
       "<Figure size 720x720 with 1 Axes>"
      ]
     },
     "metadata": {
      "needs_background": "light"
     },
     "output_type": "display_data"
    }
   ],
   "source": [
    "fig, ax = plt.subplots(figsize=(10,10))\n",
    "sns.countplot(loan.sub_grade)"
   ]
  },
  {
   "cell_type": "markdown",
   "metadata": {},
   "source": [
    "B4 has the highest frequency followed by A4."
   ]
  },
  {
   "cell_type": "markdown",
   "metadata": {
    "colab_type": "text",
    "id": "HGtsZVUVvcsd"
   },
   "source": [
    "#### pub_rec_bankruptcies"
   ]
  },
  {
   "cell_type": "code",
   "execution_count": 92,
   "metadata": {
    "colab": {},
    "colab_type": "code",
    "id": "7Cv2c4eHw8Pk"
   },
   "outputs": [],
   "source": [
    "# Convert pub_rec_bankruptcies to category\n",
    "loan.pub_rec_bankruptcies = loan.pub_rec_bankruptcies.astype('category')"
   ]
  },
  {
   "cell_type": "code",
   "execution_count": 93,
   "metadata": {
    "colab": {
     "base_uri": "https://localhost:8080/",
     "height": 284
    },
    "colab_type": "code",
    "id": "4FjJ_SJbxASD",
    "outputId": "54c3ff1e-f0df-43f8-c393-7bf63d009848"
   },
   "outputs": [
    {
     "data": {
      "image/png": "[encoded data removed]",
      "text/plain": [
       "<Figure size 432x288 with 1 Axes>"
      ]
     },
     "metadata": {
      "needs_background": "light"
     },
     "output_type": "display_data"
    }
   ],
   "source": [
    "ax = sns.countplot(loan.pub_rec_bankruptcies)"
   ]
  },
  {
   "cell_type": "markdown",
   "metadata": {
    "colab_type": "text",
    "id": "0VIXpZCYAIvS"
   },
   "source": [
    "Most of the applications have public record of bankruptcies as zero."
   ]
  },
  {
   "cell_type": "markdown",
   "metadata": {
    "colab_type": "text",
    "id": "EgGJRTqRuX4J"
   },
   "source": [
    "#### delinq_2yrs"
   ]
  },
  {
   "cell_type": "code",
   "execution_count": 94,
   "metadata": {
    "colab": {
     "base_uri": "https://localhost:8080/",
     "height": 221
    },
    "colab_type": "code",
    "id": "SetE-gvWu8G6",
    "outputId": "ac2f4351-19df-412a-c1a9-ca47ff9877e9"
   },
   "outputs": [
    {
     "data": {
      "text/plain": [
       "0     32486\n",
       "1      3028\n",
       "2       628\n",
       "3       197\n",
       "4        55\n",
       "5        21\n",
       "6        10\n",
       "7         4\n",
       "8         2\n",
       "11        1\n",
       "9         1\n",
       "Name: delinq_2yrs, dtype: int64"
      ]
     },
     "execution_count": 94,
     "metadata": {},
     "output_type": "execute_result"
    }
   ],
   "source": [
    "# Frequency for each delinq_2yrs\n",
    "loan.delinq_2yrs.value_counts()"
   ]
  },
  {
   "cell_type": "code",
   "execution_count": 95,
   "metadata": {
    "colab": {
     "base_uri": "https://localhost:8080/",
     "height": 284
    },
    "colab_type": "code",
    "id": "yEqJwB5Du-wH",
    "outputId": "e4d8075f-2c75-47bb-fbac-899d695921c6"
   },
   "outputs": [
    {
     "data": {
      "image/png": "[encoded data removed]",
      "text/plain": [
       "<Figure size 432x288 with 1 Axes>"
      ]
     },
     "metadata": {
      "needs_background": "light"
     },
     "output_type": "display_data"
    }
   ],
   "source": [
    "ax = sns.countplot(loan.delinq_2yrs)"
   ]
  },
  {
   "cell_type": "markdown",
   "metadata": {
    "colab_type": "text",
    "id": "3rC-fL8yOJH9"
   },
   "source": [
    "Frequency of 0 is the highest followd by 1."
   ]
  },
  {
   "cell_type": "markdown",
   "metadata": {
    "colab_type": "text",
    "id": "I0WWD4cscs0r"
   },
   "source": [
    "#### inq_last_6mths"
   ]
  },
  {
   "cell_type": "code",
   "execution_count": 96,
   "metadata": {
    "colab": {
     "base_uri": "https://localhost:8080/",
     "height": 34
    },
    "colab_type": "code",
    "id": "S8I1_BXYcwqt",
    "outputId": "aa7e33cd-7cf7-4410-d82e-c78d3c2d4167"
   },
   "outputs": [
    {
     "data": {
      "text/plain": [
       "array([5, 1, 0, 3, 2, 4, 6, 7, 8], dtype=int64)"
      ]
     },
     "execution_count": 96,
     "metadata": {},
     "output_type": "execute_result"
    }
   ],
   "source": [
    "# Unique values present in inq_last_6mths\n",
    "loan.inq_last_6mths.unique()"
   ]
  },
  {
   "cell_type": "code",
   "execution_count": 97,
   "metadata": {
    "colab": {
     "base_uri": "https://localhost:8080/",
     "height": 301
    },
    "colab_type": "code",
    "id": "G9bIT2SpcwkG",
    "outputId": "2cf2fd8c-df0e-440c-8e0c-25fc7bc01e64"
   },
   "outputs": [
    {
     "data": {
      "text/plain": [
       "<matplotlib.axes._subplots.AxesSubplot at 0x186edcba588>"
      ]
     },
     "execution_count": 97,
     "metadata": {},
     "output_type": "execute_result"
    },
    {
     "data": {
      "image/png": "[encoded data removed]",
      "text/plain": [
       "<Figure size 432x288 with 1 Axes>"
      ]
     },
     "metadata": {
      "needs_background": "light"
     },
     "output_type": "display_data"
    }
   ],
   "source": [
    "sns.countplot(loan.inq_last_6mths)"
   ]
  },
  {
   "cell_type": "markdown",
   "metadata": {
    "colab_type": "text",
    "id": "Fc68xMQzcwd6"
   },
   "source": [
    "As the number of inquire increase the number of loan applications decreases."
   ]
  },
  {
   "cell_type": "markdown",
   "metadata": {
    "colab_type": "text",
    "id": "iauDEdYVhmno"
   },
   "source": [
    "### 2.3 Univariate Analysis - Quantitative\n",
    "\n"
   ]
  },
  {
   "cell_type": "markdown",
   "metadata": {
    "colab_type": "text",
    "id": "CrNNHYW6ZPdK"
   },
   "source": [
    "#### loan_amnt"
   ]
  },
  {
   "cell_type": "code",
   "execution_count": 98,
   "metadata": {
    "colab": {
     "base_uri": "https://localhost:8080/",
     "height": 170
    },
    "colab_type": "code",
    "id": "Wk9tVUgOZPms",
    "outputId": "b8991035-aa12-4893-fbd9-411f4e469202"
   },
   "outputs": [
    {
     "data": {
      "text/plain": [
       "count   36433.00\n",
       "mean    11307.68\n",
       "std      7433.86\n",
       "min       500.00\n",
       "25%      5600.00\n",
       "50%     10000.00\n",
       "75%     15000.00\n",
       "max     35000.00\n",
       "Name: loan_amnt, dtype: float64"
      ]
     },
     "execution_count": 98,
     "metadata": {},
     "output_type": "execute_result"
    }
   ],
   "source": [
    "loan.loan_amnt.describe()"
   ]
  },
  {
   "cell_type": "code",
   "execution_count": 99,
   "metadata": {
    "colab": {
     "base_uri": "https://localhost:8080/",
     "height": 272
    },
    "colab_type": "code",
    "id": "TfmTBB_UZPs3",
    "outputId": "284b54b1-0fda-40b7-fd1e-687a6c01ce10"
   },
   "outputs": [
    {
     "data": {
      "text/plain": [
       "<matplotlib.axes._subplots.AxesSubplot at 0x186ee4c96a0>"
      ]
     },
     "execution_count": 99,
     "metadata": {},
     "output_type": "execute_result"
    },
    {
     "data": {
      "image/png": "[encoded data removed]",
      "text/plain": [
       "<Figure size 432x288 with 1 Axes>"
      ]
     },
     "metadata": {
      "needs_background": "light"
     },
     "output_type": "display_data"
    }
   ],
   "source": [
    "sns.boxplot(loan.loan_amnt, orient='v')"
   ]
  },
  {
   "cell_type": "code",
   "execution_count": 100,
   "metadata": {
    "colab": {
     "base_uri": "https://localhost:8080/",
     "height": 464
    },
    "colab_type": "code",
    "id": "-J8F9bIvZYuT",
    "outputId": "e2267458-f2a3-4cff-fd77-72c1e55315d1"
   },
   "outputs": [
    {
     "data": {
      "text/plain": [
       "<matplotlib.axes._subplots.AxesSubplot at 0x186ee51b7b8>"
      ]
     },
     "execution_count": 100,
     "metadata": {},
     "output_type": "execute_result"
    },
    {
     "data": {
      "image/png": "[encoded data removed]",
      "text/plain": [
       "<Figure size 1008x504 with 1 Axes>"
      ]
     },
     "metadata": {
      "needs_background": "light"
     },
     "output_type": "display_data"
    }
   ],
   "source": [
    "bins = [0, 5000, 10000, 15000, 20000, 25000, 30000, 35000]\n",
    "slot = ['0-5000', '5000-10000', '10000-15000', '15000-20000', '20000-25000','25000-30000', '30000-35000']\n",
    "loan['loan_amnt_range'] = pd.cut(loan['loan_amnt'], bins, labels=slot)\n",
    "fig, ax = plt.subplots()\n",
    "fig.set_size_inches(14 , 7)\n",
    "sns.countplot(loan['loan_amnt_range'],data=loan)"
   ]
  },
  {
   "cell_type": "markdown",
   "metadata": {
    "colab_type": "text",
    "id": "LzQ--CzSm4WR"
   },
   "source": [
    "#### funded_amnt"
   ]
  },
  {
   "cell_type": "code",
   "execution_count": 101,
   "metadata": {
    "colab": {
     "base_uri": "https://localhost:8080/",
     "height": 170
    },
    "colab_type": "code",
    "id": "dfzHKV1riXmp",
    "outputId": "2daa7cd3-6858-45e7-f3fb-92550dac93ad"
   },
   "outputs": [
    {
     "data": {
      "text/plain": [
       "count   36433.00\n",
       "mean    11032.83\n",
       "std      7166.48\n",
       "min       500.00\n",
       "25%      5500.00\n",
       "50%     10000.00\n",
       "75%     15000.00\n",
       "max     35000.00\n",
       "Name: funded_amnt, dtype: float64"
      ]
     },
     "execution_count": 101,
     "metadata": {},
     "output_type": "execute_result"
    }
   ],
   "source": [
    "loan.funded_amnt.describe()"
   ]
  },
  {
   "cell_type": "markdown",
   "metadata": {
    "colab_type": "text",
    "id": "V0P-rafcimZj"
   },
   "source": [
    "Mean and the Median values little far away from each other by a noticeable amount"
   ]
  },
  {
   "cell_type": "code",
   "execution_count": 102,
   "metadata": {
    "colab": {
     "base_uri": "https://localhost:8080/",
     "height": 272
    },
    "colab_type": "code",
    "id": "RWAe64YCkZNo",
    "outputId": "430d1b05-9a0f-40e8-ffa8-b912429b0ecf"
   },
   "outputs": [
    {
     "data": {
      "text/plain": [
       "<matplotlib.axes._subplots.AxesSubplot at 0x186ee5a0a90>"
      ]
     },
     "execution_count": 102,
     "metadata": {},
     "output_type": "execute_result"
    },
    {
     "data": {
      "image/png": "[encoded data removed]",
      "text/plain": [
       "<Figure size 432x288 with 1 Axes>"
      ]
     },
     "metadata": {
      "needs_background": "light"
     },
     "output_type": "display_data"
    }
   ],
   "source": [
    "sns.boxplot(loan.funded_amnt, orient='v')"
   ]
  },
  {
   "cell_type": "markdown",
   "metadata": {
    "colab_type": "text",
    "id": "i4JCpZzAkcD_"
   },
   "source": [
    "Box plot shows that there are many values that are present in more than Q3 of the range."
   ]
  },
  {
   "cell_type": "code",
   "execution_count": 103,
   "metadata": {
    "colab": {
     "base_uri": "https://localhost:8080/",
     "height": 464
    },
    "colab_type": "code",
    "id": "6ms1nERak-dT",
    "outputId": "b4333ef5-0f36-4228-e200-6dee1b67d532"
   },
   "outputs": [
    {
     "data": {
      "text/plain": [
       "<matplotlib.axes._subplots.AxesSubplot at 0x186ee5f1128>"
      ]
     },
     "execution_count": 103,
     "metadata": {},
     "output_type": "execute_result"
    },
    {
     "data": {
      "image/png": "[encoded data removed]",
      "text/plain": [
       "<Figure size 1008x504 with 1 Axes>"
      ]
     },
     "metadata": {
      "needs_background": "light"
     },
     "output_type": "display_data"
    }
   ],
   "source": [
    "bins = [0, 5000, 10000, 15000, 20000, 25000, 30000, 35000]\n",
    "slot = ['0-5000', '5000-10000', '10000-15000', '15000-20000', '20000-25000','25000-30000', '30000-35000']\n",
    "loan['funded_amnt_range'] = pd.cut(loan['funded_amnt'], bins, labels=slot)\n",
    "fig, ax = plt.subplots()\n",
    "fig.set_size_inches(14 , 7)\n",
    "sns.countplot(loan['funded_amnt_range'],data=loan)"
   ]
  },
  {
   "cell_type": "markdown",
   "metadata": {
    "colab_type": "text",
    "id": "W-UIqlL1mtBy"
   },
   "source": [
    "From the above plot we can conclude that most of the people have got funded in the range 5000-10000 <br>\n",
    "loan_amnt and funded_amnt have a similar trend."
   ]
  },
  {
   "cell_type": "markdown",
   "metadata": {
    "colab_type": "text",
    "id": "7fkknP-Vm2JD"
   },
   "source": [
    "#### int_rate"
   ]
  },
  {
   "cell_type": "code",
   "execution_count": 104,
   "metadata": {
    "colab": {
     "base_uri": "https://localhost:8080/",
     "height": 170
    },
    "colab_type": "code",
    "id": "86ItDFyHnBHu",
    "outputId": "9b9444e7-3e0d-47fd-d86f-8ac479cff6ed"
   },
   "outputs": [
    {
     "data": {
      "text/plain": [
       "count   36433.00\n",
       "mean       12.07\n",
       "std         3.73\n",
       "min         5.42\n",
       "25%         9.32\n",
       "50%        11.86\n",
       "75%        14.65\n",
       "max        24.40\n",
       "Name: int_rate, dtype: float64"
      ]
     },
     "execution_count": 104,
     "metadata": {},
     "output_type": "execute_result"
    }
   ],
   "source": [
    "loan.int_rate.describe()"
   ]
  },
  {
   "cell_type": "code",
   "execution_count": 105,
   "metadata": {
    "colab": {
     "base_uri": "https://localhost:8080/",
     "height": 464
    },
    "colab_type": "code",
    "id": "_uJ0O2NznEmr",
    "outputId": "18371ea4-8474-4a33-9f15-c84785256a15"
   },
   "outputs": [
    {
     "data": {
      "text/plain": [
       "<matplotlib.axes._subplots.AxesSubplot at 0x186eec72c88>"
      ]
     },
     "execution_count": 105,
     "metadata": {},
     "output_type": "execute_result"
    },
    {
     "data": {
      "image/png": "[encoded data removed]",
      "text/plain": [
       "<Figure size 1008x504 with 1 Axes>"
      ]
     },
     "metadata": {
      "needs_background": "light"
     },
     "output_type": "display_data"
    }
   ],
   "source": [
    "bins = np.linspace(0, 24.4, 9)\n",
    "slot = ['0-3.05', '3.05-6.1', '6.1-9.15', '9.15-12.2', '12.2-15.25','15.25-18.3', '18.3-21.35', '21.35-24.4']\n",
    "loan['int_rate_range'] = pd.cut(loan['int_rate'], bins, labels=slot)\n",
    "fig, ax = plt.subplots()\n",
    "fig.set_size_inches(14 , 7)\n",
    "sns.countplot(loan['int_rate_range'],data=loan)\n"
   ]
  },
  {
   "cell_type": "markdown",
   "metadata": {
    "colab_type": "text",
    "id": "eIF4gud7nedx"
   },
   "source": [
    "We can see that most of the interest rates are in the range 9.15 to 12.2"
   ]
  },
  {
   "cell_type": "markdown",
   "metadata": {
    "colab_type": "text",
    "id": "uTcCtDH9n3KV"
   },
   "source": [
    "#### annual_inc"
   ]
  },
  {
   "cell_type": "code",
   "execution_count": 106,
   "metadata": {
    "colab": {
     "base_uri": "https://localhost:8080/",
     "height": 170
    },
    "colab_type": "code",
    "id": "qA-U9r26qIY3",
    "outputId": "d17ba6ec-255d-470b-e7fb-63a62aca8f1d"
   },
   "outputs": [
    {
     "data": {
      "text/plain": [
       "count     36433.00\n",
       "mean      69305.22\n",
       "std       63542.44\n",
       "min        4000.00\n",
       "25%       42000.00\n",
       "50%       60000.00\n",
       "75%       83000.00\n",
       "max     6000000.00\n",
       "Name: annual_inc, dtype: float64"
      ]
     },
     "execution_count": 106,
     "metadata": {},
     "output_type": "execute_result"
    }
   ],
   "source": [
    "loan.annual_inc.describe()"
   ]
  },
  {
   "cell_type": "markdown",
   "metadata": {
    "colab_type": "text",
    "id": "wHiZMr5XqKEY"
   },
   "source": [
    "Here the mean and the max values are apart but a huge number. Max value is almost 86.58 times more than the mean, which indicates presence of outliers."
   ]
  },
  {
   "cell_type": "code",
   "execution_count": 107,
   "metadata": {
    "colab": {
     "base_uri": "https://localhost:8080/",
     "height": 255
    },
    "colab_type": "code",
    "id": "zePqbEDdq6hT",
    "outputId": "927d9d10-730a-4c19-84f9-72d4b808d459"
   },
   "outputs": [
    {
     "data": {
      "image/png": "[encoded data removed]",
      "text/plain": [
       "<Figure size 432x288 with 1 Axes>"
      ]
     },
     "metadata": {
      "needs_background": "light"
     },
     "output_type": "display_data"
    }
   ],
   "source": [
    "ax = sns.boxplot(loan.annual_inc, orient='v')\n",
    "ax.set_yscale('log')"
   ]
  },
  {
   "cell_type": "code",
   "execution_count": null,
   "metadata": {
    "colab": {
     "base_uri": "https://localhost:8080/",
     "height": 464
    },
    "colab_type": "code",
    "id": "0wOZ7yaaq-yL",
    "outputId": "ce49a89d-39aa-447f-d3a7-0bdb8656fe8c"
   },
   "outputs": [
    {
     "data": {
      "text/plain": [
       "<matplotlib.axes._subplots.AxesSubplot at 0x186edc84b38>"
      ]
     },
     "execution_count": 108,
     "metadata": {},
     "output_type": "execute_result"
    }
   ],
   "source": [
    "bins = [0, 25000, 50000, 75000, 100000, 260350, 1000000]\n",
    "slot = ['0-25000', '25000-50000', '50000-75000', '75000-100000', '100000-260350','260350 and above']\n",
    "loan['annual_inc_range'] = pd.cut(loan['annual_inc'], bins, labels=slot)\n",
    "fig, ax = plt.subplots()\n",
    "fig.set_size_inches(14 , 7)\n",
    "sns.countplot(loan['annual_inc_range'],data=loan)"
   ]
  },
  {
   "cell_type": "markdown",
   "metadata": {
    "colab_type": "text",
    "id": "Ld2om8Agra6s"
   },
   "source": [
    "People who have an annual income between 25000-50000 take loan more than others."
   ]
  },
  {
   "cell_type": "markdown",
   "metadata": {
    "colab_type": "text",
    "id": "wX4SDy05rkWw"
   },
   "source": [
    "#### dti"
   ]
  },
  {
   "cell_type": "code",
   "execution_count": null,
   "metadata": {
    "colab": {
     "base_uri": "https://localhost:8080/",
     "height": 170
    },
    "colab_type": "code",
    "id": "y6B06ovctfUa",
    "outputId": "1c1c1b92-b4a8-41b1-d6d3-be1cadf4d3bb"
   },
   "outputs": [],
   "source": [
    "loan.dti.describe()"
   ]
  },
  {
   "cell_type": "code",
   "execution_count": null,
   "metadata": {
    "colab": {},
    "colab_type": "code",
    "id": "6U0BcW5qtfjX"
   },
   "outputs": [],
   "source": [
    "bin_range = range(0, 30, 2)\n",
    "loan['dti_range'] = pd.cut(loan['dti'],bin_range)"
   ]
  },
  {
   "cell_type": "code",
   "execution_count": null,
   "metadata": {
    "colab": {
     "base_uri": "https://localhost:8080/",
     "height": 464
    },
    "colab_type": "code",
    "id": "vSaPVcKvuBSC",
    "outputId": "0e064fe4-f490-4d8a-c63a-fe16f95dfc3f"
   },
   "outputs": [],
   "source": [
    "fig, ax = plt.subplots()\n",
    "fig.set_size_inches(14 , 7)\n",
    "sns.countplot(loan['dti_range'],data=loan)"
   ]
  },
  {
   "cell_type": "markdown",
   "metadata": {
    "colab_type": "text",
    "id": "y7w-roxbuDYG"
   },
   "source": [
    "We can see that most of the Debt-to-income ratio is the highest in the range of 12-14"
   ]
  },
  {
   "cell_type": "markdown",
   "metadata": {
    "colab_type": "text",
    "id": "LS4v7dGSi_Dj"
   },
   "source": [
    "#### total_pymnt"
   ]
  },
  {
   "cell_type": "code",
   "execution_count": null,
   "metadata": {
    "colab": {
     "base_uri": "https://localhost:8080/",
     "height": 170
    },
    "colab_type": "code",
    "id": "DExvj9A4i-8j",
    "outputId": "951e3557-05f1-4880-a936-9d5e803966ea"
   },
   "outputs": [],
   "source": [
    "loan.total_pymnt.describe()"
   ]
  },
  {
   "cell_type": "code",
   "execution_count": null,
   "metadata": {
    "colab": {
     "base_uri": "https://localhost:8080/",
     "height": 272
    },
    "colab_type": "code",
    "id": "OARk2JFui-0m",
    "outputId": "9264124e-48e3-45e3-e90f-d2c7cf03b6dc"
   },
   "outputs": [],
   "source": [
    "sns.boxplot(loan.total_pymnt, orient='v')"
   ]
  },
  {
   "cell_type": "code",
   "execution_count": null,
   "metadata": {
    "colab": {
     "base_uri": "https://localhost:8080/",
     "height": 464
    },
    "colab_type": "code",
    "id": "u-qt-ZuujyIC",
    "outputId": "57c83ae5-f3db-4bbd-ea8f-88cd5995f94d"
   },
   "outputs": [],
   "source": [
    "bins = [0, 5000, 10000, 15000, 20000, 25000, 30000, 35000, 40000, 45000, 50000, 55000, 60000]\n",
    "slot = ['0-5000', '5000-10000', '10000-15000', '15000-20000', '20000-25000','25000-30000', '30000-35000', '35000-40000', '40000-45000', '45000-50000',\n",
    "       '50000-55000', '55000-60000']\n",
    "loan['total_pymnt_range'] = pd.cut(loan['total_pymnt'], bins, labels=slot)\n",
    "fig, ax = plt.subplots()\n",
    "fig.set_size_inches(16 , 7)\n",
    "sns.countplot(loan['total_pymnt_range'],data=loan)"
   ]
  },
  {
   "cell_type": "markdown",
   "metadata": {
    "colab_type": "text",
    "id": "1Fygw0lT193F"
   },
   "source": [
    "#### revol_bal"
   ]
  },
  {
   "cell_type": "code",
   "execution_count": null,
   "metadata": {
    "colab": {
     "base_uri": "https://localhost:8080/",
     "height": 170
    },
    "colab_type": "code",
    "id": "M0bDXRMB1-Fk",
    "outputId": "85e5f7fe-a992-4868-e1c6-82923b7d38ad"
   },
   "outputs": [],
   "source": [
    "loan.revol_bal.describe()"
   ]
  },
  {
   "cell_type": "code",
   "execution_count": null,
   "metadata": {
    "colab": {
     "base_uri": "https://localhost:8080/",
     "height": 255
    },
    "colab_type": "code",
    "id": "dpSoo-ZO1-LY",
    "outputId": "c321041b-8e9a-4c0e-f6cb-6980efcac898"
   },
   "outputs": [],
   "source": [
    "ax = sns.boxplot(loan.revol_bal, orient='v')\n",
    "ax.set_yscale('log')"
   ]
  },
  {
   "cell_type": "markdown",
   "metadata": {
    "colab_type": "text",
    "id": "_gogN8WN2EpM"
   },
   "source": [
    "There are a lot of outliers"
   ]
  },
  {
   "cell_type": "code",
   "execution_count": null,
   "metadata": {
    "colab": {
     "base_uri": "https://localhost:8080/",
     "height": 464
    },
    "colab_type": "code",
    "id": "_CmQmnVz2Van",
    "outputId": "121dedb1-91ff-44c1-d0a3-cc18cb47111c"
   },
   "outputs": [],
   "source": [
    "bins = np.linspace(0,150000,11)\n",
    "#slot = ['0-5000', '5000-10000', '10000-15000', '15000-20000', '20000-25000','25000-30000', '30000-35000', '35000-40000', '40000-45000', '45000-50000',\n",
    "#       '50000-55000', '55000-60000']\n",
    "loan['revol_bal_range'] = pd.cut(loan['revol_bal'], bins)\n",
    "fig, ax = plt.subplots()\n",
    "fig.set_size_inches(20 , 7)\n",
    "sns.countplot(loan['revol_bal_range'],data=loan)"
   ]
  },
  {
   "cell_type": "markdown",
   "metadata": {
    "colab_type": "text",
    "id": "sK7m87Za3qZV"
   },
   "source": [
    "#### revol_util"
   ]
  },
  {
   "cell_type": "code",
   "execution_count": null,
   "metadata": {
    "colab": {
     "base_uri": "https://localhost:8080/",
     "height": 170
    },
    "colab_type": "code",
    "id": "4C1kpJLU3qfQ",
    "outputId": "15a9e97e-a159-4dd7-e5bb-788f00c46d31"
   },
   "outputs": [],
   "source": [
    "loan.revol_util.describe()"
   ]
  },
  {
   "cell_type": "code",
   "execution_count": null,
   "metadata": {
    "colab": {
     "base_uri": "https://localhost:8080/",
     "height": 255
    },
    "colab_type": "code",
    "id": "5EBpDrpI3qlK",
    "outputId": "1873bee2-53b1-4aac-d39f-f152cb22a667"
   },
   "outputs": [],
   "source": [
    "ax = sns.boxplot(loan.revol_util, orient='v')"
   ]
  },
  {
   "cell_type": "code",
   "execution_count": null,
   "metadata": {
    "colab": {
     "base_uri": "https://localhost:8080/",
     "height": 464
    },
    "colab_type": "code",
    "id": "8tCWD-9w38WB",
    "outputId": "8b3abaf6-acde-4cab-862d-557787f863c5"
   },
   "outputs": [],
   "source": [
    "bins = np.linspace(0,100,11)\n",
    "slot = ['0-10', '10-20', '20-30', '30-40', '40-50','50-60', '60-70', '70-80', '80-90', '90-100']\n",
    "loan['revol_util_range'] = pd.cut(loan['revol_bal'], bins, labels=slot)\n",
    "fig, ax = plt.subplots()\n",
    "fig.set_size_inches(15 , 7)\n",
    "sns.countplot(loan['revol_util_range'],data=loan)"
   ]
  },
  {
   "cell_type": "markdown",
   "metadata": {
    "colab_type": "text",
    "id": "G_IKeFAyxB4-"
   },
   "source": [
    "### 2.4 Segmented Analysis"
   ]
  },
  {
   "cell_type": "markdown",
   "metadata": {
    "colab_type": "text",
    "id": "W_jYen7a9BGm"
   },
   "source": [
    "#### term"
   ]
  },
  {
   "cell_type": "code",
   "execution_count": null,
   "metadata": {
    "colab": {
     "base_uri": "https://localhost:8080/",
     "height": 300
    },
    "colab_type": "code",
    "id": "iFxE_15iBd9Q",
    "outputId": "1191806a-9c91-42bf-91f9-cff021f9e888"
   },
   "outputs": [],
   "source": [
    "sns.countplot(loan.term, hue=loan.loan_status)"
   ]
  },
  {
   "cell_type": "code",
   "execution_count": null,
   "metadata": {
    "colab": {
     "base_uri": "https://localhost:8080/",
     "height": 34
    },
    "colab_type": "code",
    "id": "dOk7TYdMBpLM",
    "outputId": "9fd0e303-35fb-421f-b45b-9179f68b2372"
   },
   "outputs": [],
   "source": [
    "len(loan[(loan.loan_status=='charged off') & (loan.term==36)])/len(loan)*100"
   ]
  },
  {
   "cell_type": "code",
   "execution_count": null,
   "metadata": {
    "colab": {
     "base_uri": "https://localhost:8080/",
     "height": 34
    },
    "colab_type": "code",
    "id": "8TbO8PuiCDoh",
    "outputId": "3335de6c-25b1-4acd-997e-adc2576a5137"
   },
   "outputs": [],
   "source": [
    "len(loan[(loan.loan_status=='charged off') & (loan.term==60)])/len(loan)*100"
   ]
  },
  {
   "cell_type": "code",
   "execution_count": null,
   "metadata": {
    "colab": {},
    "colab_type": "code",
    "id": "sdAHOFNUImHp"
   },
   "outputs": [],
   "source": [
    "crosstab = pd.crosstab(loan.term, loan['loan_status'],margins=True)\n",
    "crosstab['Charged_Off_Probability'] = round((crosstab['charged off']/crosstab['All']),3)"
   ]
  },
  {
   "cell_type": "code",
   "execution_count": null,
   "metadata": {
    "colab": {},
    "colab_type": "code",
    "id": "T4JSI65pyJHK"
   },
   "outputs": [],
   "source": [
    "crosstab = crosstab[0:-1]"
   ]
  },
  {
   "cell_type": "code",
   "execution_count": null,
   "metadata": {
    "colab": {
     "base_uri": "https://localhost:8080/",
     "height": 142
    },
    "colab_type": "code",
    "id": "QywRxQRfyJHN",
    "outputId": "e2c7cd1b-2aa7-49eb-df40-25ca1bb3b9d8"
   },
   "outputs": [],
   "source": [
    "crosstab.sort_values(by='Charged_Off_Probability', ascending=False)"
   ]
  },
  {
   "cell_type": "markdown",
   "metadata": {
    "colab_type": "text",
    "id": "j0rS4kM9IoBE"
   },
   "source": [
    "As term increases, the probability that person will default is increasing."
   ]
  },
  {
   "cell_type": "markdown",
   "metadata": {
    "colab_type": "text",
    "id": "mEtwoZdAI1Ho"
   },
   "source": [
    "#### home_ownership"
   ]
  },
  {
   "cell_type": "code",
   "execution_count": null,
   "metadata": {
    "colab": {
     "base_uri": "https://localhost:8080/",
     "height": 301
    },
    "colab_type": "code",
    "id": "Zv1RY4a-I-ws",
    "outputId": "68d77521-5050-4ff1-d914-d463734b2e86"
   },
   "outputs": [],
   "source": [
    "sns.countplot(loan.home_ownership, hue=loan.loan_status)"
   ]
  },
  {
   "cell_type": "code",
   "execution_count": null,
   "metadata": {
    "colab": {},
    "colab_type": "code",
    "id": "88_qZ1QZJFtY"
   },
   "outputs": [],
   "source": [
    "crosstab = pd.crosstab(loan.home_ownership, loan['loan_status'],margins=True)\n",
    "crosstab['Charged_Off_Probability'] = round((crosstab['charged off']/crosstab['All']),3)"
   ]
  },
  {
   "cell_type": "code",
   "execution_count": null,
   "metadata": {
    "colab": {},
    "colab_type": "code",
    "id": "J0Sxu8DzyFKf"
   },
   "outputs": [],
   "source": [
    "crosstab = crosstab[0:-1]"
   ]
  },
  {
   "cell_type": "code",
   "execution_count": null,
   "metadata": {
    "colab": {
     "base_uri": "https://localhost:8080/",
     "height": 204
    },
    "colab_type": "code",
    "id": "ttHve-yNyFKi",
    "outputId": "042adcd3-3c99-4c7a-89f1-d210df82ce46"
   },
   "outputs": [],
   "source": [
    "crosstab.sort_values(by='Charged_Off_Probability', ascending=False)"
   ]
  },
  {
   "cell_type": "markdown",
   "metadata": {
    "colab_type": "text",
    "id": "_3-G7d0hJLxG"
   },
   "source": [
    "```other``` has a very low count when compared to ```rent``` and ```mortgage```, but surprisingly the probability of charged off is more for other."
   ]
  },
  {
   "cell_type": "markdown",
   "metadata": {
    "colab_type": "text",
    "id": "UOE1q7ibJp5r"
   },
   "source": [
    "#### verification_status"
   ]
  },
  {
   "cell_type": "code",
   "execution_count": null,
   "metadata": {
    "colab": {
     "base_uri": "https://localhost:8080/",
     "height": 301
    },
    "colab_type": "code",
    "id": "4CgYpZNHJ63v",
    "outputId": "b742744f-c1d9-444f-ca7c-e036672eb711"
   },
   "outputs": [],
   "source": [
    "sns.countplot(loan.verification_status, hue=loan.loan_status)"
   ]
  },
  {
   "cell_type": "code",
   "execution_count": null,
   "metadata": {
    "colab": {},
    "colab_type": "code",
    "id": "VwhNhe9XKCcD"
   },
   "outputs": [],
   "source": [
    "crosstab = pd.crosstab(loan.verification_status, loan['loan_status'],margins=True)\n",
    "crosstab['Charged_Off_Probability'] = round((crosstab['charged off']/crosstab['All']),3)"
   ]
  },
  {
   "cell_type": "code",
   "execution_count": null,
   "metadata": {
    "colab": {},
    "colab_type": "code",
    "id": "vBzYGvRNx_iL"
   },
   "outputs": [],
   "source": [
    "crosstab = crosstab[0:-1]"
   ]
  },
  {
   "cell_type": "code",
   "execution_count": null,
   "metadata": {
    "colab": {
     "base_uri": "https://localhost:8080/",
     "height": 173
    },
    "colab_type": "code",
    "id": "Cr6m5eVix9TG",
    "outputId": "b3e8f45f-2c78-4741-8ae8-84236d4afa0b"
   },
   "outputs": [],
   "source": [
    "crosstab.sort_values(by='Charged_Off_Probability', ascending=False)"
   ]
  },
  {
   "cell_type": "markdown",
   "metadata": {
    "colab_type": "text",
    "id": "lxY38V90KFY9"
   },
   "source": [
    "Count for ```not verified``` is more than the other two but probability of getting defaulted is more for verified"
   ]
  },
  {
   "cell_type": "markdown",
   "metadata": {
    "colab_type": "text",
    "id": "jFCUIzAVKQCH"
   },
   "source": [
    "#### purpose"
   ]
  },
  {
   "cell_type": "code",
   "execution_count": null,
   "metadata": {
    "colab": {
     "base_uri": "https://localhost:8080/",
     "height": 627
    },
    "colab_type": "code",
    "id": "kHEK55agKW10",
    "outputId": "df1eb117-58f5-4626-cb4e-62ad9c072fd7"
   },
   "outputs": [],
   "source": [
    "fig, ax = plt.subplots(figsize=(22,10))\n",
    "sns.countplot(loan.purpose, hue=loan.loan_status)"
   ]
  },
  {
   "cell_type": "code",
   "execution_count": null,
   "metadata": {
    "colab": {},
    "colab_type": "code",
    "id": "9DzxqjBTKqTH"
   },
   "outputs": [],
   "source": [
    "crosstab = pd.crosstab(loan.purpose, loan['loan_status'],margins=True)\n",
    "crosstab['Charged_Off_Probability'] = round((crosstab['charged off']/crosstab['All']),3)"
   ]
  },
  {
   "cell_type": "code",
   "execution_count": null,
   "metadata": {
    "colab": {},
    "colab_type": "code",
    "id": "Z45WTpx5x2n3"
   },
   "outputs": [],
   "source": [
    "crosstab = crosstab[0:-1]"
   ]
  },
  {
   "cell_type": "code",
   "execution_count": null,
   "metadata": {
    "colab": {
     "base_uri": "https://localhost:8080/",
     "height": 514
    },
    "colab_type": "code",
    "id": "hN8Jtqh7KqTK",
    "outputId": "2aa3c7ab-894e-4c06-e2c1-5c7011bd30be"
   },
   "outputs": [],
   "source": [
    "crosstab.sort_values(by='Charged_Off_Probability', ascending=False)"
   ]
  },
  {
   "cell_type": "markdown",
   "metadata": {
    "colab_type": "text",
    "id": "BfVFSa3-KtX7"
   },
   "source": [
    " Applicants who has taken the Loan for 'small business' has the highest probabilty of charge off of 25%. Hence purpose should be considered when giving out a loan to a person"
   ]
  },
  {
   "cell_type": "markdown",
   "metadata": {
    "colab_type": "text",
    "id": "giScsDqingPq"
   },
   "source": [
    "#### addr_state"
   ]
  },
  {
   "cell_type": "code",
   "execution_count": null,
   "metadata": {
    "colab": {
     "base_uri": "https://localhost:8080/",
     "height": 102
    },
    "colab_type": "code",
    "id": "LhFPgmWRngZu",
    "outputId": "bbeb571b-8c58-4bf4-9709-8b041e19f0d9"
   },
   "outputs": [],
   "source": [
    "loan.addr_state.describe()"
   ]
  },
  {
   "cell_type": "code",
   "execution_count": null,
   "metadata": {
    "colab": {
     "base_uri": "https://localhost:8080/",
     "height": 627
    },
    "colab_type": "code",
    "id": "0alC2jXFngj2",
    "outputId": "4695187b-4818-4c29-e879-7248415b123d"
   },
   "outputs": [],
   "source": [
    "fig = plt.figure(figsize=(20,10))\n",
    "sns.countplot(loan.addr_state, hue=loan.loan_status)"
   ]
  },
  {
   "cell_type": "code",
   "execution_count": null,
   "metadata": {
    "colab": {},
    "colab_type": "code",
    "id": "Pk2CWCZEpi0T"
   },
   "outputs": [],
   "source": [
    "crosstab = pd.crosstab(loan.addr_state, loan['loan_status'],margins=True)\n",
    "crosstab['Charged_Off_Probability'] = round((crosstab['charged off']/crosstab['All']),3)"
   ]
  },
  {
   "cell_type": "code",
   "execution_count": null,
   "metadata": {
    "colab": {
     "base_uri": "https://localhost:8080/",
     "height": 1630
    },
    "colab_type": "code",
    "id": "bxJ31VcIpi0W",
    "outputId": "f42ef46e-65e1-4c34-88cb-863c4c8fdbb2"
   },
   "outputs": [],
   "source": [
    "crosstab.sort_values(by='Charged_Off_Probability', ascending=False)"
   ]
  },
  {
   "cell_type": "markdown",
   "metadata": {
    "colab_type": "text",
    "id": "hEXikeuopjo0"
   },
   "source": [
    "From the graph we can see that most of the charged off has happened in the state of CA, NY and FL, but Probability_Charged Off are high for the states NV, AK and TN."
   ]
  },
  {
   "cell_type": "markdown",
   "metadata": {
    "colab_type": "text",
    "id": "rCaPDpSypjvZ"
   },
   "source": [
    "#### pub_rec"
   ]
  },
  {
   "cell_type": "code",
   "execution_count": null,
   "metadata": {
    "colab": {
     "base_uri": "https://localhost:8080/",
     "height": 170
    },
    "colab_type": "code",
    "id": "GYrqIOMwpj1J",
    "outputId": "e80d2c7f-e039-417b-aa17-c7d4f30eb20c"
   },
   "outputs": [],
   "source": [
    "loan.pub_rec.describe()"
   ]
  },
  {
   "cell_type": "code",
   "execution_count": null,
   "metadata": {
    "colab": {
     "base_uri": "https://localhost:8080/",
     "height": 34
    },
    "colab_type": "code",
    "id": "Of81xbAjpj6G",
    "outputId": "d96de423-9188-45ec-b11c-65c2401bce98"
   },
   "outputs": [],
   "source": [
    "loan.pub_rec.unique()"
   ]
  },
  {
   "cell_type": "code",
   "execution_count": null,
   "metadata": {
    "colab": {
     "base_uri": "https://localhost:8080/",
     "height": 119
    },
    "colab_type": "code",
    "id": "pxGsbhQUqwuU",
    "outputId": "bd33fe96-099d-4030-dbed-00404a1bceca"
   },
   "outputs": [],
   "source": [
    "loan.pub_rec.value_counts()"
   ]
  },
  {
   "cell_type": "code",
   "execution_count": null,
   "metadata": {
    "colab": {
     "base_uri": "https://localhost:8080/",
     "height": 301
    },
    "colab_type": "code",
    "id": "gxodedVKng1q",
    "outputId": "4e118db5-2dc4-484a-931c-f80c0e180fe2"
   },
   "outputs": [],
   "source": [
    "sns.countplot(loan.pub_rec, hue=loan.loan_status)"
   ]
  },
  {
   "cell_type": "code",
   "execution_count": null,
   "metadata": {
    "colab": {},
    "colab_type": "code",
    "id": "_tAu77WFqk15"
   },
   "outputs": [],
   "source": [
    "crosstab = pd.crosstab(loan.pub_rec, loan['loan_status'],margins=True)\n",
    "crosstab['Charged_Off_Probability'] = round((crosstab['charged off']/crosstab['All']),3)"
   ]
  },
  {
   "cell_type": "code",
   "execution_count": null,
   "metadata": {
    "colab": {},
    "colab_type": "code",
    "id": "bRJjwZJIqq9e"
   },
   "outputs": [],
   "source": [
    "crosstab = crosstab[0:-1]"
   ]
  },
  {
   "cell_type": "code",
   "execution_count": null,
   "metadata": {
    "colab": {
     "base_uri": "https://localhost:8080/",
     "height": 235
    },
    "colab_type": "code",
    "id": "FzpDhQPzqk19",
    "outputId": "ac38b541-7e64-49b1-c785-99093c30446a"
   },
   "outputs": [],
   "source": [
    "crosstab.sort_values(by='Charged_Off_Probability', ascending=False)"
   ]
  },
  {
   "cell_type": "markdown",
   "metadata": {
    "colab_type": "text",
    "id": "rjtR35DGng9p"
   },
   "source": [
    "Charged Off count for pub_rec=0 is much higher than the remaining values. But the probability of getting charged off is more for pub_rec=2 and pub_rec=1. <br>\n",
    "pub_rec=2 has a count of 47 whereas pub_rec=0 has a count of 34543. Huge different in count."
   ]
  },
  {
   "cell_type": "markdown",
   "metadata": {
    "colab_type": "text",
    "id": "JJhiKOm1MWXZ"
   },
   "source": [
    "#### emp_length"
   ]
  },
  {
   "cell_type": "code",
   "execution_count": null,
   "metadata": {
    "colab": {
     "base_uri": "https://localhost:8080/",
     "height": 899
    },
    "colab_type": "code",
    "id": "3EpjbYl2MX-4",
    "outputId": "536ac868-5a56-4dd3-a960-79229bdfc888"
   },
   "outputs": [],
   "source": [
    "fig, ax = plt.subplots(figsize=(15,8)) \n",
    "sns.countplot(loan.emp_length, hue=loan.loan_status)"
   ]
  },
  {
   "cell_type": "code",
   "execution_count": null,
   "metadata": {
    "colab": {},
    "colab_type": "code",
    "id": "Qe3VczHtMoto"
   },
   "outputs": [],
   "source": [
    "crosstab = pd.crosstab(loan.emp_length, loan['loan_status'],margins=True)\n",
    "crosstab['Charged_Off_Probability'] = round((crosstab['charged off']/crosstab['All']),3)"
   ]
  },
  {
   "cell_type": "code",
   "execution_count": null,
   "metadata": {
    "colab": {},
    "colab_type": "code",
    "id": "9R6S-We_yfXe"
   },
   "outputs": [],
   "source": [
    "crosstab = crosstab[0:-1]"
   ]
  },
  {
   "cell_type": "code",
   "execution_count": null,
   "metadata": {
    "colab": {
     "base_uri": "https://localhost:8080/",
     "height": 421
    },
    "colab_type": "code",
    "id": "IQfQzWowyfXh",
    "outputId": "7fe699f3-682e-4b14-c67c-8d8129ee8728"
   },
   "outputs": [],
   "source": [
    "crosstab.sort_values(by='Charged_Off_Probability', ascending=False)"
   ]
  },
  {
   "cell_type": "code",
   "execution_count": null,
   "metadata": {
    "colab": {
     "base_uri": "https://localhost:8080/",
     "height": 627
    },
    "colab_type": "code",
    "id": "mvZw6dGfO7f7",
    "outputId": "215d9b55-4c23-44bd-ee72-bcd32cae53b8"
   },
   "outputs": [],
   "source": [
    "fig, ax = plt.subplots(figsize=(10,10))\n",
    "sns.barplot(x=crosstab.index,y=crosstab['Charged_Off_Probability'])"
   ]
  },
  {
   "cell_type": "markdown",
   "metadata": {
    "colab_type": "text",
    "id": "kLXnzaEUMrEo"
   },
   "source": [
    "#### grade"
   ]
  },
  {
   "cell_type": "code",
   "execution_count": null,
   "metadata": {
    "colab": {
     "base_uri": "https://localhost:8080/",
     "height": 300
    },
    "colab_type": "code",
    "id": "5VYt3HxRNb3z",
    "outputId": "bfe42be3-9bae-4e98-a771-965198bf201a"
   },
   "outputs": [],
   "source": [
    "sns.countplot(loan.grade, hue=loan.loan_status)"
   ]
  },
  {
   "cell_type": "code",
   "execution_count": null,
   "metadata": {
    "colab": {},
    "colab_type": "code",
    "id": "t-K4nDY9Nrps"
   },
   "outputs": [],
   "source": [
    "crosstab = pd.crosstab(loan.grade, loan['loan_status'],margins=True)\n",
    "crosstab['Charged_Off_Probability'] = round((crosstab['charged off']/crosstab['All']),3)"
   ]
  },
  {
   "cell_type": "code",
   "execution_count": null,
   "metadata": {
    "colab": {},
    "colab_type": "code",
    "id": "Xt2_N9dbNrpw"
   },
   "outputs": [],
   "source": [
    "crosstab = crosstab[0:-1]"
   ]
  },
  {
   "cell_type": "code",
   "execution_count": null,
   "metadata": {
    "colab": {
     "base_uri": "https://localhost:8080/",
     "height": 300
    },
    "colab_type": "code",
    "id": "7ob2boLLOYYJ",
    "outputId": "3d62fdb9-9e70-4722-ba03-f7d227490eea"
   },
   "outputs": [],
   "source": [
    "sns.barplot(x=crosstab.index,y=crosstab['Charged_Off_Probability'])"
   ]
  },
  {
   "cell_type": "markdown",
   "metadata": {
    "colab_type": "text",
    "id": "llXvYD_fNf1z"
   },
   "source": [
    "As the grade increases the probability of a application to default also increases"
   ]
  },
  {
   "cell_type": "markdown",
   "metadata": {
    "colab_type": "text",
    "id": "M-jjUxIuN0ck"
   },
   "source": [
    "#### sub_grade"
   ]
  },
  {
   "cell_type": "code",
   "execution_count": null,
   "metadata": {
    "colab": {
     "base_uri": "https://localhost:8080/",
     "height": 899
    },
    "colab_type": "code",
    "id": "ELS9dZhbN649",
    "outputId": "7f07766b-28ee-44f0-de63-75dda87bc676"
   },
   "outputs": [],
   "source": [
    "fig, ax = plt.subplots(figsize=(15,8)) \n",
    "sns.countplot(loan.sub_grade, hue=loan.loan_status)"
   ]
  },
  {
   "cell_type": "code",
   "execution_count": null,
   "metadata": {
    "colab": {},
    "colab_type": "code",
    "id": "jboASa0_N65B"
   },
   "outputs": [],
   "source": [
    "crosstab = pd.crosstab(loan.sub_grade, loan['loan_status'],margins=True)\n",
    "crosstab['Charged_Off_Probability'] = round((crosstab['charged off']/crosstab['All']),3)"
   ]
  },
  {
   "cell_type": "code",
   "execution_count": null,
   "metadata": {
    "colab": {
     "base_uri": "https://localhost:8080/",
     "height": 1165
    },
    "colab_type": "code",
    "id": "Ny52orDMN65D",
    "outputId": "061415dd-84f0-42bd-9d25-9cfe28bcdbf6"
   },
   "outputs": [],
   "source": [
    "crosstab[0:-1]"
   ]
  },
  {
   "cell_type": "code",
   "execution_count": null,
   "metadata": {
    "colab": {
     "base_uri": "https://localhost:8080/",
     "height": 899
    },
    "colab_type": "code",
    "id": "Yc83QIFiOu1w",
    "outputId": "38ef0004-90f0-4ca7-d552-9a468815a6db"
   },
   "outputs": [],
   "source": [
    "fig, ax = plt.subplots(figsize=(15,15)) \n",
    "sns.barplot(x=crosstab.index,y=crosstab['Charged_Off_Probability'])"
   ]
  },
  {
   "cell_type": "markdown",
   "metadata": {
    "colab_type": "text",
    "id": "qd1s4bhNN65J"
   },
   "source": [
    "As the grade increases the probability of a application to default also increases."
   ]
  },
  {
   "cell_type": "markdown",
   "metadata": {
    "colab_type": "text",
    "id": "gdGRIAuhNatG"
   },
   "source": [
    "#### grade and sub_grade"
   ]
  },
  {
   "cell_type": "code",
   "execution_count": null,
   "metadata": {
    "colab": {},
    "colab_type": "code",
    "id": "_TOv2zMPNau5"
   },
   "outputs": [],
   "source": [
    "crosstab = pd.crosstab(index=[loan.grade, loan.sub_grade], columns=loan['loan_status'],margins=True)\n",
    "crosstab['Charged_Off_Probability'] = round((crosstab['charged off']/crosstab['All']),3)"
   ]
  },
  {
   "cell_type": "code",
   "execution_count": null,
   "metadata": {
    "colab": {},
    "colab_type": "code",
    "id": "DtGMKwiRNamH"
   },
   "outputs": [],
   "source": [
    "crosstab = crosstab[0:-1]"
   ]
  },
  {
   "cell_type": "code",
   "execution_count": null,
   "metadata": {
    "colab": {
     "base_uri": "https://localhost:8080/",
     "height": 1165
    },
    "colab_type": "code",
    "id": "md1aWaUINagx",
    "outputId": "e4717707-a55a-4f8c-c6a5-d4de3c12a2b3"
   },
   "outputs": [],
   "source": [
    "crosstab"
   ]
  },
  {
   "cell_type": "code",
   "execution_count": null,
   "metadata": {
    "colab": {},
    "colab_type": "code",
    "id": "V6d-U0qUOevC"
   },
   "outputs": [],
   "source": [
    "prob_charged_off = crosstab['Charged_Off_Probability']"
   ]
  },
  {
   "cell_type": "code",
   "execution_count": null,
   "metadata": {
    "colab": {
     "base_uri": "https://localhost:8080/",
     "height": 653
    },
    "colab_type": "code",
    "id": "Fkx2AUz4ROvx",
    "outputId": "048eee19-2c33-4b37-f61f-e33165a87801"
   },
   "outputs": [],
   "source": [
    "prob_charged_off.plot(kind='bar', figsize=(15,10))"
   ]
  },
  {
   "cell_type": "markdown",
   "metadata": {
    "colab_type": "text",
    "id": "b4b0qwwhRNAe"
   },
   "source": [
    "Probability of getting charged off increase with a increase in grade and sub-grade."
   ]
  },
  {
   "cell_type": "markdown",
   "metadata": {
    "colab_type": "text",
    "id": "hUfkbH5uVE0e"
   },
   "source": [
    "#### pub_rec_bankruptcies"
   ]
  },
  {
   "cell_type": "code",
   "execution_count": null,
   "metadata": {
    "colab": {
     "base_uri": "https://localhost:8080/",
     "height": 301
    },
    "colab_type": "code",
    "id": "mHQ3uGqXBKIo",
    "outputId": "d5f32179-c4e5-4f22-847d-77888a064761"
   },
   "outputs": [],
   "source": [
    "sns.countplot(loan.pub_rec_bankruptcies, hue=loan.loan_status)"
   ]
  },
  {
   "cell_type": "code",
   "execution_count": null,
   "metadata": {
    "colab": {},
    "colab_type": "code",
    "id": "1LIWe5kDBRml"
   },
   "outputs": [],
   "source": [
    "crosstab = pd.crosstab(loan.pub_rec_bankruptcies, loan['loan_status'],margins=True)\n",
    "crosstab['Charged_Off_Probability'] = round((crosstab['charged off']/crosstab['All']),3)"
   ]
  },
  {
   "cell_type": "code",
   "execution_count": null,
   "metadata": {
    "colab": {},
    "colab_type": "code",
    "id": "s9pGOsN0BRms"
   },
   "outputs": [],
   "source": [
    "crosstab = crosstab[0:-1]"
   ]
  },
  {
   "cell_type": "code",
   "execution_count": null,
   "metadata": {
    "colab": {
     "base_uri": "https://localhost:8080/",
     "height": 173
    },
    "colab_type": "code",
    "id": "3uKRblWmBZPI",
    "outputId": "4c0cad60-4eb8-4db0-b04e-8eef41511255"
   },
   "outputs": [],
   "source": [
    "crosstab"
   ]
  },
  {
   "cell_type": "code",
   "execution_count": null,
   "metadata": {
    "colab": {
     "base_uri": "https://localhost:8080/",
     "height": 301
    },
    "colab_type": "code",
    "id": "5QHSEA8LBRmx",
    "outputId": "728f045d-1ac7-4b9b-d023-97003e41a8a0"
   },
   "outputs": [],
   "source": [
    "sns.barplot(x=crosstab.index,y=crosstab['Charged_Off_Probability'])"
   ]
  },
  {
   "cell_type": "markdown",
   "metadata": {
    "colab_type": "text",
    "id": "uGC_MBp2T0O3"
   },
   "source": [
    "#### delinq_2yrs"
   ]
  },
  {
   "cell_type": "code",
   "execution_count": null,
   "metadata": {
    "colab": {
     "base_uri": "https://localhost:8080/",
     "height": 518
    },
    "colab_type": "code",
    "id": "V12RsnEzJrYQ",
    "outputId": "27a3175e-7558-4f43-c524-5439b3187c65"
   },
   "outputs": [],
   "source": [
    "fig = plt.figure(figsize=(10,8))\n",
    "sns.countplot(loan.delinq_2yrs, hue=loan.loan_status)"
   ]
  },
  {
   "cell_type": "code",
   "execution_count": null,
   "metadata": {
    "colab": {},
    "colab_type": "code",
    "id": "HlyPPxqpKD2b"
   },
   "outputs": [],
   "source": [
    "crosstab = pd.crosstab(loan.delinq_2yrs, loan['loan_status'],margins=True)\n",
    "crosstab['Charged_Off_Probability'] = round((crosstab['charged off']/crosstab['All']),3)"
   ]
  },
  {
   "cell_type": "code",
   "execution_count": null,
   "metadata": {
    "colab": {},
    "colab_type": "code",
    "id": "2vslHztMKD2g"
   },
   "outputs": [],
   "source": [
    "crosstab = crosstab[0:-1]"
   ]
  },
  {
   "cell_type": "code",
   "execution_count": null,
   "metadata": {
    "colab": {
     "base_uri": "https://localhost:8080/",
     "height": 421
    },
    "colab_type": "code",
    "id": "J3HHn3HtKD2j",
    "outputId": "5f9f0702-2a2d-482f-9b10-bfcea04156ef"
   },
   "outputs": [],
   "source": [
    "crosstab.sort_values(by='Charged_Off_Probability', ascending=False)"
   ]
  },
  {
   "cell_type": "code",
   "execution_count": null,
   "metadata": {
    "colab": {
     "base_uri": "https://localhost:8080/",
     "height": 301
    },
    "colab_type": "code",
    "id": "4zTxJlCZKD2p",
    "outputId": "96135c21-d35b-4b0a-9060-0e592bbe408d"
   },
   "outputs": [],
   "source": [
    "sns.barplot(x=crosstab.index,y=crosstab['Charged_Off_Probability'])"
   ]
  },
  {
   "cell_type": "markdown",
   "metadata": {
    "colab_type": "text",
    "id": "G5_S-KJxUcjA"
   },
   "source": [
    "Not good"
   ]
  },
  {
   "cell_type": "markdown",
   "metadata": {
    "colab_type": "text",
    "id": "qZnUHnbqVejz"
   },
   "source": [
    "#### inq_last_6mths"
   ]
  },
  {
   "cell_type": "code",
   "execution_count": null,
   "metadata": {
    "colab": {
     "base_uri": "https://localhost:8080/",
     "height": 501
    },
    "colab_type": "code",
    "id": "Q_8OP55TWt_q",
    "outputId": "c900f9cb-68ce-4a4e-e152-156bd75d91d7"
   },
   "outputs": [],
   "source": [
    "plt.figure(figsize=(15,8))\n",
    "\n",
    "plt.subplot(1,3,1)\n",
    "sns.distplot(loan[loan.loan_status=='charged off'].inq_last_6mths)\n",
    "\n",
    "plt.subplot(1,3,2)\n",
    "sns.violinplot(loan[loan.loan_status=='charged off'].inq_last_6mths)\n",
    "\n",
    "plt.subplot(1,3,3)\n",
    "ax = sns.boxplot(loan[loan.loan_status=='charged off'].inq_last_6mths, orient='v')"
   ]
  },
  {
   "cell_type": "code",
   "execution_count": null,
   "metadata": {
    "colab": {},
    "colab_type": "code",
    "id": "v2PhP1daXOEs"
   },
   "outputs": [],
   "source": [
    "crosstab = pd.crosstab(loan.inq_last_6mths, loan['loan_status'],margins=True)\n",
    "crosstab['Charged_Off_Probability'] = round((crosstab['charged off']/crosstab['All']),3)"
   ]
  },
  {
   "cell_type": "code",
   "execution_count": null,
   "metadata": {
    "colab": {
     "base_uri": "https://localhost:8080/",
     "height": 359
    },
    "colab_type": "code",
    "id": "Eih1zdamXOEv",
    "outputId": "a7f0901d-27cb-4d9c-e640-c6aeefdb45f7"
   },
   "outputs": [],
   "source": [
    "crosstab[0:-1].sort_values(by='Charged_Off_Probability', ascending=False)"
   ]
  },
  {
   "cell_type": "code",
   "execution_count": null,
   "metadata": {
    "colab": {
     "base_uri": "https://localhost:8080/",
     "height": 627
    },
    "colab_type": "code",
    "id": "ziv5c192XOEy",
    "outputId": "7c32a8b1-f43a-4399-81a6-318992473506"
   },
   "outputs": [],
   "source": [
    "fig, ax = plt.subplots(figsize=(10,10))\n",
    "sns.barplot(x=crosstab.index,y=crosstab['Charged_Off_Probability'])"
   ]
  },
  {
   "cell_type": "markdown",
   "metadata": {
    "colab_type": "text",
    "id": "XB9SyO612fvk"
   },
   "source": [
    "#### funded_amnt"
   ]
  },
  {
   "cell_type": "code",
   "execution_count": null,
   "metadata": {
    "colab": {
     "base_uri": "https://localhost:8080/",
     "height": 518
    },
    "colab_type": "code",
    "id": "CqeT2wNTrkR1",
    "outputId": "f625ad2c-0035-4a85-d088-33511badc317"
   },
   "outputs": [],
   "source": [
    "plt.figure(figsize=(15,8))\n",
    "\n",
    "plt.subplot(1,3,1)\n",
    "sns.distplot(loan[loan.loan_status=='charged off'].funded_amnt)\n",
    "\n",
    "plt.subplot(1,3,2)\n",
    "sns.violinplot(loan[loan.loan_status=='charged off'].funded_amnt)\n",
    "\n",
    "plt.subplot(1,3,3)\n",
    "sns.boxplot(loan[loan.loan_status=='charged off'].funded_amnt, orient='v')"
   ]
  },
  {
   "cell_type": "code",
   "execution_count": null,
   "metadata": {
    "colab": {
     "base_uri": "https://localhost:8080/",
     "height": 301
    },
    "colab_type": "code",
    "id": "dFpP6un186G2",
    "outputId": "a0d3e84c-dc24-46cc-ef1f-29c32287a22c"
   },
   "outputs": [],
   "source": [
    "sns.boxplot(y=loan.funded_amnt, x=loan.loan_status, orient='v')"
   ]
  },
  {
   "cell_type": "code",
   "execution_count": null,
   "metadata": {
    "colab": {},
    "colab_type": "code",
    "id": "fF4Ndxi7G-a_"
   },
   "outputs": [],
   "source": [
    "crosstab = pd.crosstab(loan.funded_amnt_range, loan['loan_status'],margins=True)\n",
    "crosstab['Charged_Off_Probability'] = round((crosstab['charged off']/crosstab['All']),3)"
   ]
  },
  {
   "cell_type": "code",
   "execution_count": null,
   "metadata": {
    "colab": {
     "base_uri": "https://localhost:8080/",
     "height": 297
    },
    "colab_type": "code",
    "id": "Gc5NVgKVG-bB",
    "outputId": "848fcba4-fe09-4d19-a181-e356e6a5d747"
   },
   "outputs": [],
   "source": [
    "crosstab[0:-1].sort_values(by='Charged_Off_Probability', ascending=False)"
   ]
  },
  {
   "cell_type": "code",
   "execution_count": null,
   "metadata": {
    "colab": {
     "base_uri": "https://localhost:8080/",
     "height": 518
    },
    "colab_type": "code",
    "id": "d6nopL8MzqOX",
    "outputId": "85f46d74-d1e8-40c4-aaf1-8d60a3982e7b"
   },
   "outputs": [],
   "source": [
    "fig = plt.figure(figsize=(10,8))\n",
    "sns.barplot(x=crosstab.index,y=crosstab['Charged_Off_Probability'])"
   ]
  },
  {
   "cell_type": "markdown",
   "metadata": {
    "colab_type": "text",
    "id": "UU_08aB6HLmY"
   },
   "source": [
    "As theamount funded for the loan is increasing the probability that person will default is increasing."
   ]
  },
  {
   "cell_type": "markdown",
   "metadata": {
    "colab_type": "text",
    "id": "uo0PG6e7rvsR"
   },
   "source": [
    "#### loan_amnt"
   ]
  },
  {
   "cell_type": "code",
   "execution_count": null,
   "metadata": {
    "colab": {
     "base_uri": "https://localhost:8080/",
     "height": 518
    },
    "colab_type": "code",
    "id": "iBm19jaVrvxy",
    "outputId": "b28a3be8-bc15-4acf-d1b6-e13bcca145db"
   },
   "outputs": [],
   "source": [
    "plt.figure(figsize=(15,8))\n",
    "\n",
    "plt.subplot(1,3,1)\n",
    "sns.distplot(loan[loan.loan_status=='charged off'].loan_amnt)\n",
    "\n",
    "plt.subplot(1,3,2)\n",
    "sns.violinplot(loan[loan.loan_status=='charged off'].loan_amnt)\n",
    "\n",
    "plt.subplot(1,3,3)\n",
    "sns.boxplot(loan[loan.loan_status=='charged off'].loan_amnt, orient='v')"
   ]
  },
  {
   "cell_type": "code",
   "execution_count": null,
   "metadata": {
    "colab": {
     "base_uri": "https://localhost:8080/",
     "height": 301
    },
    "colab_type": "code",
    "id": "ObrUyDDdr514",
    "outputId": "f4e75318-a8ad-4a65-a9ee-e29f3d44d301"
   },
   "outputs": [],
   "source": [
    "sns.boxplot(y=loan.loan_amnt, x=loan.loan_status, orient='v')"
   ]
  },
  {
   "cell_type": "code",
   "execution_count": null,
   "metadata": {
    "colab": {},
    "colab_type": "code",
    "id": "yDUm9j4ir52B"
   },
   "outputs": [],
   "source": [
    "crosstab = pd.crosstab(loan.loan_amnt_range, loan['loan_status'],margins=True)\n",
    "crosstab['Charged_Off_Probability'] = round((crosstab['charged off']/crosstab['All']),3)"
   ]
  },
  {
   "cell_type": "code",
   "execution_count": null,
   "metadata": {
    "colab": {
     "base_uri": "https://localhost:8080/",
     "height": 297
    },
    "colab_type": "code",
    "id": "ggQsfStdr52D",
    "outputId": "fdc5d2fe-44e9-4441-f3b8-9af18567e2de"
   },
   "outputs": [],
   "source": [
    "crosstab[0:-1].sort_values(by='Charged_Off_Probability', ascending=False)"
   ]
  },
  {
   "cell_type": "code",
   "execution_count": null,
   "metadata": {
    "colab": {
     "base_uri": "https://localhost:8080/",
     "height": 518
    },
    "colab_type": "code",
    "id": "4axvxCmmz_aI",
    "outputId": "f632929f-3ea7-42c3-a660-b14e25978879"
   },
   "outputs": [],
   "source": [
    "fig = plt.figure(figsize=(10,8))\n",
    "sns.barplot(x=crosstab.index,y=crosstab['Charged_Off_Probability'])"
   ]
  },
  {
   "cell_type": "markdown",
   "metadata": {
    "colab_type": "text",
    "id": "B_xxVn1drv3W"
   },
   "source": [
    "As the laon_amount increases the probability that person will default is increasing."
   ]
  },
  {
   "cell_type": "markdown",
   "metadata": {
    "colab_type": "text",
    "id": "tG-VGq-pCMCY"
   },
   "source": [
    "#### int_rate"
   ]
  },
  {
   "cell_type": "code",
   "execution_count": null,
   "metadata": {
    "colab": {
     "base_uri": "https://localhost:8080/",
     "height": 518
    },
    "colab_type": "code",
    "id": "M9epjtnMCRGs",
    "outputId": "ba5e4e42-4c19-42de-e49e-3269cae10604"
   },
   "outputs": [],
   "source": [
    "plt.figure(figsize=(15,8))\n",
    "\n",
    "plt.subplot(1,3,1)\n",
    "sns.distplot(loan[loan.loan_status=='charged off'].int_rate)\n",
    "\n",
    "plt.subplot(1,3,2)\n",
    "sns.violinplot(loan[loan.loan_status=='charged off'].int_rate)\n",
    "\n",
    "plt.subplot(1,3,3)\n",
    "sns.boxplot(loan[loan.loan_status=='charged off'].int_rate, orient='v')"
   ]
  },
  {
   "cell_type": "code",
   "execution_count": null,
   "metadata": {
    "colab": {},
    "colab_type": "code",
    "id": "c_aXQ7zKFNkO"
   },
   "outputs": [],
   "source": [
    "crosstab = pd.crosstab(loan.int_rate_range, loan['loan_status'],margins=True)\n",
    "crosstab['Charged_Off_Probability'] = round((crosstab['charged off']/crosstab['All']),3)"
   ]
  },
  {
   "cell_type": "code",
   "execution_count": null,
   "metadata": {
    "colab": {
     "base_uri": "https://localhost:8080/",
     "height": 328
    },
    "colab_type": "code",
    "id": "X8p8ACyKFQn6",
    "outputId": "89d16f70-6bff-4b5a-9383-f11b40b54760"
   },
   "outputs": [],
   "source": [
    "crosstab[0:-1]"
   ]
  },
  {
   "cell_type": "code",
   "execution_count": null,
   "metadata": {
    "colab": {
     "base_uri": "https://localhost:8080/",
     "height": 627
    },
    "colab_type": "code",
    "id": "v8ZXZYUaPVx-",
    "outputId": "8e9258cf-cb24-4ea4-c5f4-9fbc7212db9c"
   },
   "outputs": [],
   "source": [
    "fig, ax = plt.subplots(figsize=(10,10))\n",
    "sns.barplot(x=crosstab.index,y=crosstab['Charged_Off_Probability'])"
   ]
  },
  {
   "cell_type": "markdown",
   "metadata": {
    "colab_type": "text",
    "id": "H-QCIUQiFkTu"
   },
   "source": [
    "As the interest rate is increasing the probability that person will default is increasing."
   ]
  },
  {
   "cell_type": "markdown",
   "metadata": {
    "colab_type": "text",
    "id": "MsHs6FCpSe2a"
   },
   "source": [
    "#### annual_inc"
   ]
  },
  {
   "cell_type": "code",
   "execution_count": null,
   "metadata": {
    "colab": {
     "base_uri": "https://localhost:8080/",
     "height": 501
    },
    "colab_type": "code",
    "id": "9CcUJ12dSzkT",
    "outputId": "a071024b-8e50-4408-edd8-8e3489d0c9ed"
   },
   "outputs": [],
   "source": [
    "plt.figure(figsize=(15,8))\n",
    "\n",
    "plt.subplot(1,3,1)\n",
    "sns.distplot(loan[loan.loan_status=='charged off'].annual_inc)\n",
    "\n",
    "plt.subplot(1,3,2)\n",
    "sns.violinplot(loan[loan.loan_status=='charged off'].annual_inc)\n",
    "\n",
    "plt.subplot(1,3,3)\n",
    "ax = sns.boxplot(loan[loan.loan_status=='charged off'].annual_inc, orient='v')\n",
    "ax.set_yscale('log')"
   ]
  },
  {
   "cell_type": "code",
   "execution_count": null,
   "metadata": {
    "colab": {},
    "colab_type": "code",
    "id": "NRAaBxDdTTDv"
   },
   "outputs": [],
   "source": [
    "crosstab = pd.crosstab(loan.annual_inc_range, loan['loan_status'],margins=True)\n",
    "crosstab['Charged_Off_Probability'] = round((crosstab['charged off']/crosstab['All']),3)"
   ]
  },
  {
   "cell_type": "code",
   "execution_count": null,
   "metadata": {
    "colab": {
     "base_uri": "https://localhost:8080/",
     "height": 266
    },
    "colab_type": "code",
    "id": "fQxrD8FOTTD0",
    "outputId": "79853b4e-600e-4c5b-bc98-926afab4fd69"
   },
   "outputs": [],
   "source": [
    "crosstab[0:-1]"
   ]
  },
  {
   "cell_type": "code",
   "execution_count": null,
   "metadata": {
    "colab": {
     "base_uri": "https://localhost:8080/",
     "height": 627
    },
    "colab_type": "code",
    "id": "nQRXgkcGTV1Z",
    "outputId": "0ab99acb-391e-4e25-eea4-8e78261050d6"
   },
   "outputs": [],
   "source": [
    "fig, ax = plt.subplots(figsize=(10,10))\n",
    "sns.barplot(x=crosstab.index,y=crosstab['Charged_Off_Probability'])"
   ]
  },
  {
   "cell_type": "markdown",
   "metadata": {
    "colab_type": "text",
    "id": "h9Oh_NXVTZcI"
   },
   "source": [
    "As the annual_inc increases the probability of an application to default decreases"
   ]
  },
  {
   "cell_type": "markdown",
   "metadata": {
    "colab_type": "text",
    "id": "G-WIUDYETiic"
   },
   "source": [
    "#### dti"
   ]
  },
  {
   "cell_type": "code",
   "execution_count": null,
   "metadata": {
    "colab": {
     "base_uri": "https://localhost:8080/",
     "height": 500
    },
    "colab_type": "code",
    "id": "YClGk30mTpbP",
    "outputId": "62009d7d-879d-48b9-b704-ca3c39fd5e11"
   },
   "outputs": [],
   "source": [
    "plt.figure(figsize=(15,8))\n",
    "\n",
    "plt.subplot(1,3,1)\n",
    "sns.distplot(loan[loan.loan_status=='charged off'].dti)\n",
    "\n",
    "plt.subplot(1,3,2)\n",
    "sns.violinplot(loan[loan.loan_status=='charged off'].dti)\n",
    "\n",
    "plt.subplot(1,3,3)\n",
    "ax = sns.boxplot(loan[loan.loan_status=='charged off'].dti, orient='v')"
   ]
  },
  {
   "cell_type": "code",
   "execution_count": null,
   "metadata": {},
   "outputs": [],
   "source": [
    "type(loan.loan_status.iloc[0])"
   ]
  },
  {
   "cell_type": "code",
   "execution_count": null,
   "metadata": {
    "colab": {},
    "colab_type": "code",
    "id": "BfkpcfymT-zj"
   },
   "outputs": [],
   "source": [
    "crosstab = pd.crosstab(loan.dti_range, loan.loan_status)\n",
    "crosstab['All'] = crosstab['charged off'] + crosstab['current'] + crosstab['fully paid']\n",
    "crosstab['Charged_Off_Probability'] = round((crosstab['charged off']/crosstab['All']),3)"
   ]
  },
  {
   "cell_type": "code",
   "execution_count": null,
   "metadata": {
    "colab": {
     "base_uri": "https://localhost:8080/",
     "height": 514
    },
    "colab_type": "code",
    "id": "n9YBTVEwT-zo",
    "outputId": "6e092e65-df03-4c9b-ca16-ef9cf6d2a11d"
   },
   "outputs": [],
   "source": [
    "crosstab[0:-1].sort_values(by='Charged_Off_Probability', ascending=False)"
   ]
  },
  {
   "cell_type": "code",
   "execution_count": null,
   "metadata": {
    "colab": {
     "base_uri": "https://localhost:8080/",
     "height": 627
    },
    "colab_type": "code",
    "id": "6btFN9X8T-zw",
    "outputId": "ab4e4837-ed0b-4eb1-c7a5-339756bb4f68"
   },
   "outputs": [],
   "source": [
    "fig, ax = plt.subplots(figsize=(10,10))\n",
    "sns.barplot(x=crosstab.index,y=crosstab['Charged_Off_Probability'])"
   ]
  },
  {
   "cell_type": "markdown",
   "metadata": {
    "colab_type": "text",
    "id": "vLMtA6da0pJX"
   },
   "source": [
    "#### total_pymnt"
   ]
  },
  {
   "cell_type": "code",
   "execution_count": null,
   "metadata": {
    "colab": {
     "base_uri": "https://localhost:8080/",
     "height": 518
    },
    "colab_type": "code",
    "id": "L47Ujk5r0pgE",
    "outputId": "81360229-b29c-4347-baf6-c9304580f8eb"
   },
   "outputs": [],
   "source": [
    "plt.figure(figsize=(15,8))\n",
    "\n",
    "plt.subplot(1,3,1)\n",
    "sns.distplot(loan[loan.loan_status=='charged off'].total_pymnt)\n",
    "\n",
    "plt.subplot(1,3,2)\n",
    "sns.violinplot(loan[loan.loan_status=='charged off'].total_pymnt)\n",
    "\n",
    "plt.subplot(1,3,3)\n",
    "sns.boxplot(loan[loan.loan_status=='charged off'].total_pymnt, orient='v')"
   ]
  },
  {
   "cell_type": "code",
   "execution_count": null,
   "metadata": {
    "colab": {
     "base_uri": "https://localhost:8080/",
     "height": 301
    },
    "colab_type": "code",
    "id": "_TztwVaN0plv",
    "outputId": "8d06aa37-fbdb-4deb-8a6f-d8a86fca6d8c"
   },
   "outputs": [],
   "source": [
    "sns.boxplot(y=loan.total_pymnt, x=loan.loan_status, orient='v')"
   ]
  },
  {
   "cell_type": "code",
   "execution_count": null,
   "metadata": {
    "colab": {},
    "colab_type": "code",
    "id": "ndT2v8PL1C5g"
   },
   "outputs": [],
   "source": [
    "crosstab = pd.crosstab(loan.total_pymnt_range, loan['loan_status'],margins=True)\n",
    "crosstab['Charged_Off_Probability'] = round((crosstab['charged off']/crosstab['All']),3)"
   ]
  },
  {
   "cell_type": "code",
   "execution_count": null,
   "metadata": {
    "colab": {
     "base_uri": "https://localhost:8080/",
     "height": 452
    },
    "colab_type": "code",
    "id": "7-bZsWCR1C5k",
    "outputId": "cd7dc9cc-5e57-4fe9-d432-0a5b1d1dc742"
   },
   "outputs": [],
   "source": [
    "crosstab[0:-1].sort_values(by='Charged_Off_Probability', ascending=False)"
   ]
  },
  {
   "cell_type": "code",
   "execution_count": null,
   "metadata": {
    "colab": {
     "base_uri": "https://localhost:8080/",
     "height": 518
    },
    "colab_type": "code",
    "id": "8ZONexyQ1C5p",
    "outputId": "3df782f8-d1d0-428f-e3ac-660737f755ff"
   },
   "outputs": [],
   "source": [
    "fig = plt.figure(figsize=(18,8))\n",
    "sns.barplot(x=crosstab.index,y=crosstab['Charged_Off_Probability'])"
   ]
  },
  {
   "cell_type": "markdown",
   "metadata": {
    "colab_type": "text",
    "id": "Ovcv4EgNWv3-"
   },
   "source": [
    "#### open_acc"
   ]
  },
  {
   "cell_type": "code",
   "execution_count": null,
   "metadata": {
    "colab": {
     "base_uri": "https://localhost:8080/",
     "height": 500
    },
    "colab_type": "code",
    "id": "oXaquVPwXffv",
    "outputId": "9d8c0c99-0eb8-4f2a-8e79-8e7581bf793f"
   },
   "outputs": [],
   "source": [
    "plt.figure(figsize=(15,8))\n",
    "\n",
    "plt.subplot(1,3,1)\n",
    "sns.distplot(loan[loan.loan_status=='charged off'].open_acc)\n",
    "\n",
    "plt.subplot(1,3,2)\n",
    "sns.violinplot(loan[loan.loan_status=='charged off'].open_acc)\n",
    "\n",
    "plt.subplot(1,3,3)\n",
    "ax = sns.boxplot(loan[loan.loan_status=='charged off'].open_acc, orient='v')"
   ]
  },
  {
   "cell_type": "code",
   "execution_count": null,
   "metadata": {
    "colab": {},
    "colab_type": "code",
    "id": "KtTTuH_vXffy"
   },
   "outputs": [],
   "source": [
    "crosstab = pd.crosstab(loan.open_acc, loan['loan_status'],margins=True)\n",
    "crosstab['Charged_Off_Probability'] = round((crosstab['charged off']/crosstab['All']),3)"
   ]
  },
  {
   "cell_type": "code",
   "execution_count": null,
   "metadata": {
    "colab": {
     "base_uri": "https://localhost:8080/",
     "height": 1258
    },
    "colab_type": "code",
    "id": "7bLQGoYIXff0",
    "outputId": "98a3b717-0a41-4fa5-cd51-0d81af2bbca3"
   },
   "outputs": [],
   "source": [
    "crosstab[0:-1].sort_values(by='Charged_Off_Probability', ascending=False)"
   ]
  },
  {
   "cell_type": "code",
   "execution_count": null,
   "metadata": {
    "colab": {
     "base_uri": "https://localhost:8080/",
     "height": 735
    },
    "colab_type": "code",
    "id": "CnjIF9twXff-",
    "outputId": "597db37a-ffb9-48ea-cc08-41525e8b32fb"
   },
   "outputs": [],
   "source": [
    "fig, ax = plt.subplots(figsize=(12,12))\n",
    "sns.barplot(x=crosstab.index,y=crosstab['Charged_Off_Probability'])"
   ]
  },
  {
   "cell_type": "markdown",
   "metadata": {
    "colab_type": "text",
    "id": "XtRFDmxeXYYG"
   },
   "source": [
    "#### revol_bal"
   ]
  },
  {
   "cell_type": "code",
   "execution_count": null,
   "metadata": {
    "colab": {
     "base_uri": "https://localhost:8080/",
     "height": 501
    },
    "colab_type": "code",
    "id": "CM0dqT6OXvx2",
    "outputId": "caf416cb-c37c-4d99-d276-f18b97f05040"
   },
   "outputs": [],
   "source": [
    "plt.figure(figsize=(15,8))\n",
    "\n",
    "plt.subplot(1,3,1)\n",
    "sns.distplot(loan[loan.loan_status=='charged off'].revol_bal)\n",
    "\n",
    "plt.subplot(1,3,2)\n",
    "sns.violinplot(loan[loan.loan_status=='charged off'].revol_bal)\n",
    "\n",
    "plt.subplot(1,3,3)\n",
    "ax = sns.boxplot(loan[loan.loan_status=='charged off'].revol_bal, orient='v')"
   ]
  },
  {
   "cell_type": "code",
   "execution_count": null,
   "metadata": {
    "colab": {
     "base_uri": "https://localhost:8080/",
     "height": 284
    },
    "colab_type": "code",
    "id": "AvJRfOIhsdSp",
    "outputId": "3b3d6ed7-9fff-4230-b878-a3418faa2c9a"
   },
   "outputs": [],
   "source": [
    "ax = sns.boxplot(y=loan.revol_bal, x=loan.loan_status, orient='v')\n",
    "ax.set_yscale('log')"
   ]
  },
  {
   "cell_type": "code",
   "execution_count": null,
   "metadata": {
    "colab": {},
    "colab_type": "code",
    "id": "iWtKQYrO3WWr"
   },
   "outputs": [],
   "source": [
    "crosstab = pd.crosstab(loan.revol_bal_range, loan['loan_status'])\n",
    "crosstab['All'] = crosstab['charged off'] + crosstab['current'] + crosstab['fully paid']\n",
    "crosstab['Charged_Off_Probability'] = round((crosstab['charged off']/crosstab['All']),3)"
   ]
  },
  {
   "cell_type": "code",
   "execution_count": null,
   "metadata": {
    "colab": {
     "base_uri": "https://localhost:8080/",
     "height": 390
    },
    "colab_type": "code",
    "id": "HcZ_Mh0z3WWu",
    "outputId": "a2d49e64-6218-404f-8ee2-83d758c89aa4"
   },
   "outputs": [],
   "source": [
    "crosstab[0:-1].sort_values(by='Charged_Off_Probability', ascending=False)"
   ]
  },
  {
   "cell_type": "code",
   "execution_count": null,
   "metadata": {
    "colab": {
     "base_uri": "https://localhost:8080/",
     "height": 518
    },
    "colab_type": "code",
    "id": "P-PYZ_9t3WWy",
    "outputId": "d15873c6-6da3-4c5b-c620-b96bc3e1bc2d"
   },
   "outputs": [],
   "source": [
    "fig = plt.figure(figsize=(20,8))\n",
    "sns.barplot(x=crosstab.index,y=crosstab['Charged_Off_Probability'])"
   ]
  },
  {
   "cell_type": "markdown",
   "metadata": {
    "colab_type": "text",
    "id": "-dqz2JMmXrnJ"
   },
   "source": [
    "#### revol_util"
   ]
  },
  {
   "cell_type": "code",
   "execution_count": null,
   "metadata": {
    "colab": {
     "base_uri": "https://localhost:8080/",
     "height": 501
    },
    "colab_type": "code",
    "id": "MfqUduKpYPgP",
    "outputId": "fab1d7d6-9769-4b98-9639-228e55037002"
   },
   "outputs": [],
   "source": [
    "plt.figure(figsize=(15,8))\n",
    "\n",
    "plt.subplot(1,3,1)\n",
    "sns.distplot(loan[loan.loan_status=='charged off'].revol_util)\n",
    "\n",
    "plt.subplot(1,3,2)\n",
    "sns.violinplot(loan[loan.loan_status=='charged off'].revol_util)\n",
    "\n",
    "plt.subplot(1,3,3)\n",
    "ax = sns.boxplot(loan[loan.loan_status=='charged off'].revol_util, orient='v')"
   ]
  },
  {
   "cell_type": "code",
   "execution_count": null,
   "metadata": {
    "colab": {
     "base_uri": "https://localhost:8080/",
     "height": 284
    },
    "colab_type": "code",
    "id": "2NSxKD5ptLKx",
    "outputId": "bb537513-ce48-4c25-d624-4a767043c0aa"
   },
   "outputs": [],
   "source": [
    "ax = sns.boxplot(y=loan.revol_util, x=loan.loan_status, orient='v')\n",
    "ax.set_yscale('log')"
   ]
  },
  {
   "cell_type": "code",
   "execution_count": null,
   "metadata": {
    "colab": {},
    "colab_type": "code",
    "id": "BSvUGOVG4d6n"
   },
   "outputs": [],
   "source": [
    "crosstab = pd.crosstab(loan.revol_util_range, loan['loan_status'],margins=True)\n",
    "crosstab['Charged_Off_Probability'] = round((crosstab['charged off']/crosstab['All']),3)"
   ]
  },
  {
   "cell_type": "code",
   "execution_count": null,
   "metadata": {
    "colab": {
     "base_uri": "https://localhost:8080/",
     "height": 390
    },
    "colab_type": "code",
    "id": "YpI2q4Fl4d6q",
    "outputId": "90355eb0-a154-4f77-c28f-e0c23aca2d8b"
   },
   "outputs": [],
   "source": [
    "crosstab[0:-1].sort_values(by='Charged_Off_Probability', ascending=False)"
   ]
  },
  {
   "cell_type": "code",
   "execution_count": null,
   "metadata": {},
   "outputs": [],
   "source": [
    "crosstab = crosstab[0:-1]"
   ]
  },
  {
   "cell_type": "code",
   "execution_count": null,
   "metadata": {
    "colab": {
     "base_uri": "https://localhost:8080/",
     "height": 518
    },
    "colab_type": "code",
    "id": "jEoT2zUI4d6u",
    "outputId": "48a1fdd4-36fd-48b0-bc9b-8a4cffb38e46"
   },
   "outputs": [],
   "source": [
    "fig = plt.figure(figsize=(18,8))\n",
    "sns.barplot(x=crosstab.index,y=crosstab['Charged_Off_Probability'])"
   ]
  },
  {
   "cell_type": "markdown",
   "metadata": {
    "colab_type": "text",
    "id": "BCvKmLntYB40"
   },
   "source": [
    "### 2.5 Derived Analysis"
   ]
  },
  {
   "cell_type": "code",
   "execution_count": null,
   "metadata": {
    "colab": {},
    "colab_type": "code",
    "id": "yxHnBDCEY85K"
   },
   "outputs": [],
   "source": [
    "# Create two new columns, derive year and month values from the issue_d column\n",
    "loan['issue_year'] = loan.issue_d.dt.year\n",
    "loan['issue_month'] = loan.issue_d.dt.month"
   ]
  },
  {
   "cell_type": "markdown",
   "metadata": {
    "colab_type": "text",
    "id": "9OpopK2EZhwl"
   },
   "source": [
    "#### issue_year"
   ]
  },
  {
   "cell_type": "code",
   "execution_count": null,
   "metadata": {
    "colab": {
     "base_uri": "https://localhost:8080/",
     "height": 301
    },
    "colab_type": "code",
    "id": "sO4WhWnJZ7Ci",
    "outputId": "f6b8bcaa-5652-4f63-99ad-d9cf3507f5e6"
   },
   "outputs": [],
   "source": [
    "sns.countplot(x=loan['issue_year'], hue=loan['loan_status'])"
   ]
  },
  {
   "cell_type": "code",
   "execution_count": null,
   "metadata": {
    "colab": {},
    "colab_type": "code",
    "id": "k47YUev5a7hG"
   },
   "outputs": [],
   "source": [
    "crosstab = pd.crosstab(loan.issue_year, loan['loan_status'],margins=True)\n",
    "crosstab['Charged_Off_Probability'] = round((crosstab['charged off']/crosstab['All']),3)"
   ]
  },
  {
   "cell_type": "code",
   "execution_count": null,
   "metadata": {
    "colab": {
     "base_uri": "https://localhost:8080/",
     "height": 235
    },
    "colab_type": "code",
    "id": "-o_BT1zPa7hK",
    "outputId": "e21fc952-a7f3-485a-a100-a02d9b3ebc36"
   },
   "outputs": [],
   "source": [
    "crosstab = crosstab[0:-1]"
   ]
  },
  {
   "cell_type": "code",
   "execution_count": null,
   "metadata": {
    "colab": {
     "base_uri": "https://localhost:8080/",
     "height": 519
    },
    "colab_type": "code",
    "id": "88n3JP9ha7hO",
    "outputId": "19460f5b-3829-4ea6-edc4-5b9852c7f5d9"
   },
   "outputs": [],
   "source": [
    "fig, ax = plt.subplots(figsize=(8,8))\n",
    "sns.barplot(x=crosstab.index,y=crosstab['Charged_Off_Probability'])"
   ]
  },
  {
   "cell_type": "markdown",
   "metadata": {
    "colab_type": "text",
    "id": "v06oeonoauzk"
   },
   "source": [
    "#### issue_month"
   ]
  },
  {
   "cell_type": "code",
   "execution_count": null,
   "metadata": {
    "colab": {
     "base_uri": "https://localhost:8080/",
     "height": 627
    },
    "colab_type": "code",
    "id": "QkaCE0rBbmJc",
    "outputId": "44532f00-1904-4276-e06c-623fc965176a"
   },
   "outputs": [],
   "source": [
    "fig = plt.figure(figsize=(10,10))\n",
    "sns.countplot(x=loan['issue_month'], hue=loan['loan_status'])"
   ]
  },
  {
   "cell_type": "code",
   "execution_count": null,
   "metadata": {
    "colab": {},
    "colab_type": "code",
    "id": "xjWO3Ek-bmJh"
   },
   "outputs": [],
   "source": [
    "crosstab = pd.crosstab(loan.issue_month, loan['loan_status'],margins=True)\n",
    "crosstab['Charged_Off_Probability'] = round((crosstab['charged off']/crosstab['All']),3)"
   ]
  },
  {
   "cell_type": "code",
   "execution_count": null,
   "metadata": {
    "colab": {
     "base_uri": "https://localhost:8080/",
     "height": 452
    },
    "colab_type": "code",
    "id": "1KgSSUftbmJi",
    "outputId": "57968094-9fb1-4941-8238-fb06f8a1e7ce"
   },
   "outputs": [],
   "source": [
    "crosstab = crosstab[0:-1]"
   ]
  },
  {
   "cell_type": "code",
   "execution_count": null,
   "metadata": {
    "colab": {
     "base_uri": "https://localhost:8080/",
     "height": 518
    },
    "colab_type": "code",
    "id": "5j7_jatnbmJo",
    "outputId": "7838b608-9299-4905-8d82-5c155b7ecccd"
   },
   "outputs": [],
   "source": [
    "fig, ax = plt.subplots(figsize=(8,8))\n",
    "sns.barplot(x=crosstab.index,y=crosstab['Charged_Off_Probability'])"
   ]
  },
  {
   "cell_type": "markdown",
   "metadata": {
    "colab_type": "text",
    "id": "OId-32Q8bjam"
   },
   "source": [
    "### 2.6 Bivariate Analysis"
   ]
  },
  {
   "cell_type": "markdown",
   "metadata": {
    "colab_type": "text",
    "id": "PdjBXwVe56-T"
   },
   "source": [
    "#### Correlation matrix for all the continuous variables"
   ]
  },
  {
   "cell_type": "code",
   "execution_count": null,
   "metadata": {
    "colab": {
     "base_uri": "https://localhost:8080/",
     "height": 1375
    },
    "colab_type": "code",
    "id": "yvDeZ0U7cGRL",
    "outputId": "e329eb54-3bdd-4509-ddff-f127cd1606fd"
   },
   "outputs": [],
   "source": [
    "fig, ax = plt.subplots(figsize=(22,22))\n",
    "corr = loan.corr()\n",
    "sns.heatmap(corr, \n",
    "            xticklabels=corr.columns.values,\n",
    "            yticklabels=corr.columns.values,\n",
    "            annot=True)\n",
    "plt.show()"
   ]
  },
  {
   "cell_type": "markdown",
   "metadata": {
    "colab_type": "text",
    "id": "fsFb1om_c8F-"
   },
   "source": [
    "**total_pymnt**, **total_pymnt_inv**, **total_rec_prncp**, **total_rec_int** are highly correlated, hence we can consider any one of the values. <br>\n",
    "**loan_amnt**, **funded_amnt**, **funded_amnt_inv**, **installment** are highly correlated, hence we can consider any one of the values."
   ]
  },
  {
   "cell_type": "markdown",
   "metadata": {
    "colab_type": "text",
    "id": "Sv_bvvOusG3n"
   },
   "source": [
    "#### loan_amnt and purpose"
   ]
  },
  {
   "cell_type": "code",
   "execution_count": null,
   "metadata": {
    "colab": {
     "base_uri": "https://localhost:8080/",
     "height": 647
    },
    "colab_type": "code",
    "id": "FNyD4XptsHFS",
    "outputId": "1b978c7e-5075-40e5-a1de-ff81c1f688cf"
   },
   "outputs": [],
   "source": [
    "fig = plt.figure(figsize=(21,10))\n",
    "sns.boxplot(x=loan.purpose, y=loan.loan_amnt, hue=loan.loan_status)"
   ]
  },
  {
   "cell_type": "markdown",
   "metadata": {
    "colab_type": "text",
    "id": "Jl4WY0olsHNR"
   },
   "source": [
    "Small business have more variation for charged off, followed by debt_consolidation. <br>\n",
    "**Hence purpose contributes towards our analysis.**"
   ]
  },
  {
   "cell_type": "markdown",
   "metadata": {
    "colab_type": "text",
    "id": "CHzfGCWksHax"
   },
   "source": [
    "#### loan_amnt and int_rate"
   ]
  },
  {
   "cell_type": "code",
   "execution_count": null,
   "metadata": {
    "colab": {
     "base_uri": "https://localhost:8080/",
     "height": 464
    },
    "colab_type": "code",
    "id": "nOf9d_IKsHUh",
    "outputId": "7177160d-8608-41fb-af41-3163e8a3d53a"
   },
   "outputs": [],
   "source": [
    "fig = plt.figure(figsize=(15,7))\n",
    "sns.lineplot(x=loan.loan_amnt_range, y=loan.int_rate, hue=loan.loan_status)"
   ]
  },
  {
   "cell_type": "markdown",
   "metadata": {
    "colab_type": "text",
    "id": "9IPKECpi5y-o"
   },
   "source": [
    "As loan_amnt and int_rate increases charged off rate also increases.<br>\n",
    "**Hence int_rate contributes towards our analysis.**"
   ]
  },
  {
   "cell_type": "markdown",
   "metadata": {
    "colab_type": "text",
    "id": "BRXokCptsHP3"
   },
   "source": [
    "#### int_rate and grade"
   ]
  },
  {
   "cell_type": "code",
   "execution_count": null,
   "metadata": {
    "colab": {
     "base_uri": "https://localhost:8080/",
     "height": 517
    },
    "colab_type": "code",
    "id": "mS9hI3knsHHq",
    "outputId": "a4ba8bee-9503-473a-efb3-5c0cd8e75d5d"
   },
   "outputs": [],
   "source": [
    "fig = plt.figure(figsize=(12,8))\n",
    "sns.boxplot(x=loan.grade, y=loan.int_rate, hue=loan.loan_status)"
   ]
  },
  {
   "cell_type": "markdown",
   "metadata": {
    "colab_type": "text",
    "id": "vXII75avsG-o"
   },
   "source": [
    "As grade increases int_rate also increases and along with the charged off also increases.<br>\n",
    "**Hence grade contributes towards our analysis.**"
   ]
  },
  {
   "cell_type": "markdown",
   "metadata": {
    "colab_type": "text",
    "id": "ALD7t-53sG5k"
   },
   "source": [
    "#### dti and loan_amnt"
   ]
  },
  {
   "cell_type": "code",
   "execution_count": null,
   "metadata": {
    "colab": {
     "base_uri": "https://localhost:8080/",
     "height": 518
    },
    "colab_type": "code",
    "id": "WclDHTGbsGq3",
    "outputId": "cb3cf3a8-3c3a-439b-d462-c9b512bea5b5"
   },
   "outputs": [],
   "source": [
    "fig = plt.figure(figsize=(12,8))\n",
    "sns.boxplot(x=loan.loan_amnt_range, y=loan.dti, hue=loan.loan_status)"
   ]
  },
  {
   "cell_type": "markdown",
   "metadata": {
    "colab_type": "text",
    "id": "WXWP-hMc6YRK"
   },
   "source": [
    "Not much relation for charged off vs loan_amnt and dti <br>\n",
    "**Hence dti does not contributes towards our analysis.**"
   ]
  },
  {
   "cell_type": "markdown",
   "metadata": {
    "colab_type": "text",
    "id": "Fm8qmtyA1oZP"
   },
   "source": [
    "#### term and loan_amnt"
   ]
  },
  {
   "cell_type": "code",
   "execution_count": null,
   "metadata": {
    "colab": {
     "base_uri": "https://localhost:8080/",
     "height": 517
    },
    "colab_type": "code",
    "id": "WgRJdi6C1olM",
    "outputId": "4da4421f-a5e5-4b98-e54e-6a2bac908451"
   },
   "outputs": [],
   "source": [
    "fig = plt.figure(figsize=(12,8))\n",
    "sns.boxplot(x=loan.term, y=loan.loan_amnt, hue=loan.loan_status)"
   ]
  },
  {
   "cell_type": "markdown",
   "metadata": {
    "colab_type": "text",
    "id": "gKFzMRrL1owK"
   },
   "source": [
    "Term increases, loan_amnt increases and charged off increases<br>\n",
    "**Hence term contributes towards our analysis.**"
   ]
  },
  {
   "cell_type": "markdown",
   "metadata": {
    "colab_type": "text",
    "id": "7kcNpQ7X1oxN"
   },
   "source": [
    "#### loan_amnt and emp_length"
   ]
  },
  {
   "cell_type": "code",
   "execution_count": null,
   "metadata": {
    "colab": {
     "base_uri": "https://localhost:8080/",
     "height": 518
    },
    "colab_type": "code",
    "id": "I9fcqA971ozK",
    "outputId": "72014104-37c9-4ec7-9ac6-38a82d3ab2c6"
   },
   "outputs": [],
   "source": [
    "fig = plt.figure(figsize=(12,8))\n",
    "sns.boxplot(x=loan.emp_length, y=loan.loan_amnt, hue=loan.loan_status)"
   ]
  },
  {
   "cell_type": "markdown",
   "metadata": {
    "colab_type": "text",
    "id": "TywXds1D1om1"
   },
   "source": [
    "Charged off is much more for 10+years followed by 5 years.<br>\n",
    "**Hence emp_length contributes towards our analysis.**"
   ]
  },
  {
   "cell_type": "markdown",
   "metadata": {
    "colab_type": "text",
    "id": "CGZunc9S7vQQ"
   },
   "source": [
    "#### inq_last_6mths and loan_amnt"
   ]
  },
  {
   "cell_type": "code",
   "execution_count": null,
   "metadata": {
    "colab": {
     "base_uri": "https://localhost:8080/",
     "height": 518
    },
    "colab_type": "code",
    "id": "JoplT9JH1odH",
    "outputId": "4f015f7e-db5e-4fb1-990a-5363d5b4f992"
   },
   "outputs": [],
   "source": [
    "fig = plt.figure(figsize=(12,8))\n",
    "sns.boxplot(x=loan.inq_last_6mths, y=loan.loan_amnt, hue=loan.loan_status)"
   ]
  },
  {
   "cell_type": "markdown",
   "metadata": {
    "colab_type": "text",
    "id": "8PG3xS6R1oSk"
   },
   "source": [
    "Not much variation for charged off as inq_last_6mths increase, median varies by a small quantity.<br>\n",
    "**Hence inq_last_6mths contributes towards our analysis.**"
   ]
  },
  {
   "cell_type": "markdown",
   "metadata": {
    "colab_type": "text",
    "id": "2y65UTz1eHM2"
   },
   "source": [
    "## Checkpoint 3: Conclusion"
   ]
  },
  {
   "cell_type": "markdown",
   "metadata": {
    "colab_type": "text",
    "id": "m4U-r8BpInnb"
   },
   "source": [
    "The attributes that contribute the most to decide that an application is most likely to default or not are:\n",
    "\n",
    "\n",
    "*   Term\n",
    "*   Purpose\n",
    "*   Grade/Sub-Grade\n",
    "*   Interest Rate\n",
    "*   Employee Length\n",
    "\n"
   ]
  },
  {
   "cell_type": "code",
   "execution_count": null,
   "metadata": {
    "colab": {},
    "colab_type": "code",
    "id": "AdBLT9WNau-O"
   },
   "outputs": [],
   "source": []
  }
 ],
 "metadata": {
  "colab": {
   "collapsed_sections": [
    "mpCcyWw_9ZzA",
    "gvpB4n-1fxi6",
    "9aiL0R41XGT8",
    "ItOtl03GpK_A",
    "NprUruavh4wD",
    "fedpr-ycntpK",
    "sTAkscsBodYV",
    "qj7OVgS7olV_",
    "2RYvqoo-ptm1",
    "WpExF0oSrs3l",
    "vlo7j-h5tAe4",
    "zLGaM_taBW2i",
    "eA207XviK1iH",
    "hn67NemB8WAj",
    "85nxF1tz9J3Z",
    "T7KfgarS-BxA",
    "M5m1VLzJ4TTd",
    "_XvdSL7lcG6u",
    "Gsnqeux3cI8n",
    "RqPX3zv8BHBK",
    "lF3RQzTUpTri",
    "dcQX1rtPcbIb",
    "eaka_odMfRuf",
    "HGtsZVUVvcsd",
    "EgGJRTqRuX4J",
    "I0WWD4cscs0r",
    "iauDEdYVhmno",
    "CrNNHYW6ZPdK",
    "LzQ--CzSm4WR",
    "7fkknP-Vm2JD",
    "uTcCtDH9n3KV",
    "wX4SDy05rkWw",
    "LS4v7dGSi_Dj",
    "1Fygw0lT193F",
    "sK7m87Za3qZV",
    "G_IKeFAyxB4-",
    "W_jYen7a9BGm",
    "mEtwoZdAI1Ho",
    "UOE1q7ibJp5r",
    "jFCUIzAVKQCH",
    "giScsDqingPq",
    "rCaPDpSypjvZ",
    "JJhiKOm1MWXZ",
    "kLXnzaEUMrEo",
    "M-jjUxIuN0ck",
    "gdGRIAuhNatG",
    "hUfkbH5uVE0e",
    "uGC_MBp2T0O3",
    "qZnUHnbqVejz",
    "XB9SyO612fvk",
    "uo0PG6e7rvsR",
    "tG-VGq-pCMCY",
    "MsHs6FCpSe2a",
    "G-WIUDYETiic",
    "vLMtA6da0pJX",
    "Ovcv4EgNWv3-",
    "XtRFDmxeXYYG",
    "-dqz2JMmXrnJ",
    "BCvKmLntYB40",
    "9OpopK2EZhwl",
    "v06oeonoauzk",
    "OId-32Q8bjam"
   ],
   "name": "Final.ipynb",
   "provenance": [],
   "version": "0.3.2"
  },
  "kernelspec": {
   "display_name": "Python 3",
   "language": "python",
   "name": "python3"
  },
  "language_info": {
   "codemirror_mode": {
    "name": "ipython",
    "version": 3
   },
   "file_extension": ".py",
   "mimetype": "text/x-python",
   "name": "python",
   "nbconvert_exporter": "python",
   "pygments_lexer": "ipython3",
   "version": "3.7.0"
  }
 },
 "nbformat": 4,
 "nbformat_minor": 1
}
